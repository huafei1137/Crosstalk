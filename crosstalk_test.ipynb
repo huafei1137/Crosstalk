{
 "cells": [
  {
   "cell_type": "code",
   "execution_count": 1,
   "id": "f94f2566-24ef-487f-b434-67cb693c3b1a",
   "metadata": {},
   "outputs": [],
   "source": [
    "import numpy as np\n",
    "\n",
    "# Importing standard Qiskit libraries\n",
    "from qiskit import QuantumCircuit, transpile, Aer, IBMQ\n",
    "from qiskit.tools.jupyter import *\n",
    "from qiskit.visualization import *\n",
    "from ibm_quantum_widgets import *\n",
    "from qiskit.providers.aer import QasmSimulator\n",
    "from qiskit import QuantumRegister, ClassicalRegister, QuantumCircuit\n",
    "from numpy import pi\n",
    "# Loading your IBM Quantum account(s)\n",
    "provider = IBMQ.load_account()"
   ]
  },
  {
   "cell_type": "code",
   "execution_count": 2,
   "id": "7d6ab964-88d0-4810-a277-ebe6662118a6",
   "metadata": {},
   "outputs": [
    {
     "data": {
      "text/plain": [
       "<qiskit.circuit.instructionset.InstructionSet at 0x7f95adf72c40>"
      ]
     },
     "execution_count": 2,
     "metadata": {},
     "output_type": "execute_result"
    }
   ],
   "source": [
    "qreg_q = QuantumRegister(6, 'q')\n",
    "creg_c = ClassicalRegister(6, 'c')\n",
    "circuit = QuantumCircuit(qreg_q, creg_c)\n",
    "\n",
    "\n",
    "#zz-gate\n",
    "circuit.cx(qreg_q[0], qreg_q[1])\n",
    "circuit.rz(pi/2, qreg_q[1])\n",
    "circuit.cx(qreg_q[0], qreg_q[1])\n",
    "#zz-gate\n",
    "circuit.cx(qreg_q[0], qreg_q[2])\n",
    "circuit.rz(pi/2, qreg_q[2])\n",
    "circuit.cx(qreg_q[0], qreg_q[2])\n",
    "#zz-gate\n",
    "circuit.cx(qreg_q[0], qreg_q[3])\n",
    "circuit.rz(pi/2, qreg_q[3])\n",
    "circuit.cx(qreg_q[0], qreg_q[3])\n",
    "#zz-gate\n",
    "circuit.cx(qreg_q[0], qreg_q[1])\n",
    "circuit.rz(pi/2, qreg_q[3])\n",
    "circuit.cx(qreg_q[0], qreg_q[1])"
   ]
  },
  {
   "cell_type": "code",
   "execution_count": 3,
   "id": "159f52f6-807a-44b6-a2b0-fdcfdf75cc1a",
   "metadata": {},
   "outputs": [
    {
     "data": {
      "image/png": "[encoded data removed]",
      "text/plain": [
       "<Figure size 748.797x445.48 with 1 Axes>"
      ]
     },
     "execution_count": 3,
     "metadata": {},
     "output_type": "execute_result"
    }
   ],
   "source": [
    "circuit.draw(output = 'mpl')"
   ]
  },
  {
   "cell_type": "code",
   "execution_count": 4,
   "id": "62afe99d-ca82-48ef-8b0b-d51ca27dc3c4",
   "metadata": {},
   "outputs": [
    {
     "name": "stdout",
     "output_type": "stream",
     "text": [
      "[<IBMQSimulator('ibmq_qasm_simulator') from IBMQ(hub='ibm-q-pnnl', group='internal', project='default')>, <IBMQBackend('ibmq_armonk') from IBMQ(hub='ibm-q-pnnl', group='internal', project='default')>, <IBMQBackend('ibmq_toronto') from IBMQ(hub='ibm-q-pnnl', group='internal', project='default')>, <IBMQBackend('ibmq_santiago') from IBMQ(hub='ibm-q-pnnl', group='internal', project='default')>, <IBMQBackend('ibmq_bogota') from IBMQ(hub='ibm-q-pnnl', group='internal', project='default')>, <IBMQBackend('ibmq_casablanca') from IBMQ(hub='ibm-q-pnnl', group='internal', project='default')>]\n"
     ]
    }
   ],
   "source": [
    "provider2 = IBMQ.get_provider(hub='ibm-q-pnnl', group='internal', project='default')\n",
    "print(provider2.backends())"
   ]
  },
  {
   "cell_type": "code",
   "execution_count": 5,
   "id": "4628d7ce-5b8d-4aaa-b5a2-8bb920359464",
   "metadata": {},
   "outputs": [
    {
     "name": "stdout",
     "output_type": "stream",
     "text": [
      "[<IBMQSimulator('ibmq_qasm_simulator') from IBMQ(hub='ibm-q', group='open', project='main')>, <IBMQBackend('ibmq_armonk') from IBMQ(hub='ibm-q', group='open', project='main')>, <IBMQBackend('ibmq_santiago') from IBMQ(hub='ibm-q', group='open', project='main')>, <IBMQBackend('ibmq_bogota') from IBMQ(hub='ibm-q', group='open', project='main')>, <IBMQBackend('ibmq_lima') from IBMQ(hub='ibm-q', group='open', project='main')>, <IBMQBackend('ibmq_belem') from IBMQ(hub='ibm-q', group='open', project='main')>, <IBMQBackend('ibmq_quito') from IBMQ(hub='ibm-q', group='open', project='main')>, <IBMQSimulator('simulator_statevector') from IBMQ(hub='ibm-q', group='open', project='main')>, <IBMQSimulator('simulator_mps') from IBMQ(hub='ibm-q', group='open', project='main')>, <IBMQSimulator('simulator_extended_stabilizer') from IBMQ(hub='ibm-q', group='open', project='main')>, <IBMQSimulator('simulator_stabilizer') from IBMQ(hub='ibm-q', group='open', project='main')>, <IBMQBackend('ibmq_manila') from IBMQ(hub='ibm-q', group='open', project='main')>]\n"
     ]
    }
   ],
   "source": [
    "print(provider.backends())"
   ]
  },
  {
   "cell_type": "code",
   "execution_count": 6,
   "id": "f187b962-3dc1-45b4-b838-ebb11e7f2d3a",
   "metadata": {},
   "outputs": [],
   "source": [
    "mybackend = provider2.get_backend('ibmq_casablanca')"
   ]
  },
  {
   "cell_type": "code",
   "execution_count": 7,
   "id": "d41ce645-ab21-4a3a-917d-42faf18bbf73",
   "metadata": {},
   "outputs": [
    {
     "name": "stdout",
     "output_type": "stream",
     "text": [
      "This backend is called ibmq_casablanca, and is on version 1.2.47. It has 7 qubits. It supports OpenPulse programs. The basis gates supported on this device are ['id', 'rz', 'sx', 'x', 'cx', 'reset'].\n"
     ]
    }
   ],
   "source": [
    "config = mybackend.configuration()\n",
    "print(\"This backend is called {0}, and is on version {1}. It has {2} qubit{3}. It \"\n",
    "      \"{4} OpenPulse programs. The basis gates supported on this device are {5}.\"\n",
    "      \"\".format(config.backend_name,\n",
    "                config.backend_version,\n",
    "                config.n_qubits,\n",
    "                '' if config.n_qubits == 1 else 's',\n",
    "                'supports' if config.open_pulse else 'does not support',\n",
    "                config.basis_gates))"
   ]
  },
  {
   "cell_type": "code",
   "execution_count": 8,
   "id": "7b84f3e0-bb47-461c-95e7-0240b6587843",
   "metadata": {},
   "outputs": [
    {
     "data": {
      "image/png": "[encoded data removed]",
      "text/plain": [
       "<Figure size 447.797x445.48 with 1 Axes>"
      ]
     },
     "execution_count": 8,
     "metadata": {},
     "output_type": "execute_result"
    }
   ],
   "source": [
    "q = QuantumRegister(6, 'q')\n",
    "c = ClassicalRegister(6, 'c')\n",
    "circuit2 = QuantumCircuit(q, c)\n",
    "circuit2.x(q[0])\n",
    "circuit2.x(q[3])\n",
    "circuit2.cx(q[0], q[1])\n",
    "# circuit2.barrier(q[0])\n",
    "# circuit2.barrier(q[1])\n",
    "# circuit2.barrier(q[2])\n",
    "# circuit2.barrier(q[3])\n",
    "# circuit2.barrier(q[5])\n",
    "circuit2.cx(q[3], q[5])\n",
    "circuit2.measure(q[0],c[0])\n",
    "circuit2.measure(q[1],c[1])\n",
    "circuit2.measure(q[3],c[3])\n",
    "circuit2.measure(q[5],c[5])\n",
    "circuit2.draw(output= 'mpl')\n"
   ]
  },
  {
   "cell_type": "code",
   "execution_count": 9,
   "id": "42047a97-2de9-4abe-8677-3f41e02b480b",
   "metadata": {},
   "outputs": [
    {
     "name": "stdout",
     "output_type": "stream",
     "text": [
      "Job Status: job has successfully run\n"
     ]
    }
   ],
   "source": [
    "#building transpile and initial mapping\n",
    "trans = transpile(circuit, mybackend, initial_layout=[0, 1, 2,3,4,5])\n",
    "plot_circuit_layout(trans, mybackend)\n",
    "from qiskit.tools.monitor import job_monitor\n",
    "from qiskit import execute\n",
    "# Number of shots to run the program (experiment);\n",
    "# maximum is 8192 shots.\n",
    "shots = 8192\n",
    "\n",
    "\n",
    "job_exp = execute(circuit2, mybackend, shots=shots, initial_layout=[0, 1, 2,3,4,5])\n",
    "job_monitor(job_exp)\n"
   ]
  },
  {
   "cell_type": "code",
   "execution_count": 10,
   "id": "2437c89d-0b83-4732-a87c-b201dfb47184",
   "metadata": {},
   "outputs": [
    {
     "name": "stdout",
     "output_type": "stream",
     "text": [
      "{'000001': 3, '000010': 2, '100001': 2, '100010': 5, '100011': 116, '101000': 85, '101001': 237, '101010': 444, '101011': 6962, '000011': 75, '001000': 2, '001001': 6, '001010': 14, '001011': 239}\n"
     ]
    }
   ],
   "source": [
    "result = job_exp.result()\n",
    "counts = result.get_counts()\n",
    "print(counts)\n"
   ]
  },
  {
   "cell_type": "code",
   "execution_count": 11,
   "id": "7105c1a6-e48b-4ae6-b0d9-ec3f5905ea9c",
   "metadata": {},
   "outputs": [
    {
     "name": "stdout",
     "output_type": "stream",
     "text": [
      "0.150146484375\n"
     ]
    }
   ],
   "source": [
    "error_rate = 1-counts['101011'] / shots\n",
    "print(error_rate)"
   ]
  },
  {
   "cell_type": "code",
   "execution_count": 12,
   "id": "09be35ba-72ae-4847-a05f-5359d00c4795",
   "metadata": {},
   "outputs": [],
   "source": [
    "simback = provider2.get_backend('ibmq_qasm_simulator')"
   ]
  },
  {
   "cell_type": "code",
   "execution_count": 13,
   "id": "f0106a9c-0977-428c-93cf-8cb0f1f7115e",
   "metadata": {},
   "outputs": [
    {
     "name": "stdout",
     "output_type": "stream",
     "text": [
      "This backend is called ibmq_qasm_simulator, and is on version 0.1.547. It has 32 qubits. It supports OpenPulse programs. The basis gates supported on this device are ['u1', 'u2', 'u3', 'u', 'p', 'r', 'rx', 'ry', 'rz', 'id', 'x', 'y', 'z', 'h', 's', 'sdg', 'sx', 't', 'tdg', 'swap', 'cx', 'cy', 'cz', 'csx', 'cp', 'cu1', 'cu2', 'cu3', 'rxx', 'ryy', 'rzz', 'rzx', 'ccx', 'cswap', 'mcx', 'mcy', 'mcz', 'mcsx', 'mcp', 'mcu1', 'mcu2', 'mcu3', 'mcrx', 'mcry', 'mcrz', 'mcr', 'mcswap', 'unitary', 'diagonal', 'multiplexer', 'initialize', 'kraus', 'roerror', 'delay'].\n"
     ]
    }
   ],
   "source": [
    "config2 = simback.configuration()\n",
    "print(\"This backend is called {0}, and is on version {1}. It has {2} qubit{3}. It \"\n",
    "      \"{4} OpenPulse programs. The basis gates supported on this device are {5}.\"\n",
    "      \"\".format(config2.backend_name,\n",
    "                config2.backend_version,\n",
    "                config2.n_qubits,\n",
    "                '' if config.n_qubits == 1 else 's',\n",
    "                'supports' if config.open_pulse else 'does not support',\n",
    "                config2.basis_gates))"
   ]
  },
  {
   "cell_type": "code",
   "execution_count": 14,
   "id": "5621a736-82d8-40a5-b483-4bdd2a76e388",
   "metadata": {},
   "outputs": [
    {
     "name": "stdout",
     "output_type": "stream",
     "text": [
      "{'101011': 1024}\n"
     ]
    }
   ],
   "source": [
    "job = execute(circuit2, simback, initial_layout=[0, 1, 2,3,4,5])\n",
    "result2 = job.result()\n",
    "counts2 = result2.get_counts()\n",
    "print(counts2)"
   ]
  },
  {
   "cell_type": "code",
   "execution_count": 15,
   "id": "ba791075-464a-4715-b2d2-8bf0d8c61c04",
   "metadata": {},
   "outputs": [
    {
     "name": "stdout",
     "output_type": "stream",
     "text": [
      "Result(backend_name='ibmq_qasm_simulator', backend_version='0.9.1', qobj_id='dc761c5f-2b8d-4eba-88e2-620bcbc5d605', job_id='61a0013ddf2795e87c689bf8', success=True, results=[ExperimentResult(shots=1024, success=True, meas_level=2, data=ExperimentResultData(counts={'0x2b': 1024}), header=QobjExperimentHeader(clbit_labels=[['c', 0], ['c', 1], ['c', 2], ['c', 3], ['c', 4], ['c', 5]], creg_sizes=[['c', 6]], global_phase=0.0, memory_slots=6, metadata={}, n_qubits=6, name='circuit-3', qreg_sizes=[['q', 6]], qubit_labels=[['q', 0], ['q', 1], ['q', 2], ['q', 3], ['q', 4], ['q', 5]]), status=DONE, metadata={'active_input_qubits': [0, 1, 3, 5], 'device': 'CPU', 'fusion': {'enabled': False}, 'input_qubit_map': [[5, 3], [3, 2], [1, 1], [0, 0]], 'measure_sampling': True, 'method': 'stabilizer', 'noise': 'ideal', 'num_clbits': 6, 'num_qubits': 4, 'parallel_shots': 1, 'parallel_state_update': 16, 'remapped_qubits': True}, seed_simulator=1025714318, time_taken=0.0031616590000000003)], date=2021-11-25 21:33:52.395346+00:00, status=COMPLETED, status=QobjHeader(backend_name='ibmq_qasm_simulator', backend_version='0.1.547'), metadata={'max_gpu_memory_mb': 0, 'max_memory_mb': 386975, 'mpi_rank': 0, 'num_mpi_processes': 1, 'omp_enabled': True, 'parallel_experiments': 1, 'time_taken': 0.0033763100000000004}, time_taken=0.0033763100000000004, client_version={'qiskit': '0.32.1'})\n"
     ]
    }
   ],
   "source": [
    "print(result2)"
   ]
  },
  {
   "cell_type": "code",
   "execution_count": 16,
   "id": "c8bce27c-b430-4709-9a62-7a03fc99a16d",
   "metadata": {},
   "outputs": [],
   "source": [
    "def singletestcrosstalk( list ):\n",
    "    q = QuantumRegister(6, 'q')\n",
    "    c = ClassicalRegister(6, 'c')\n",
    "    circuit2 = QuantumCircuit(q, c)\n",
    "    circuit2.x(q[0])\n",
    "    circuit2.x(q[3])\n",
    "    circuit2.cx(q[0], q[1])\n",
    "    # circuit2.barrier(q[0])\n",
    "    # circuit2.barrier(q[1])\n",
    "    # circuit2.barrier(q[2])\n",
    "    # circuit2.barrier(q[3])\n",
    "    # circuit2.barrier(q[5])\n",
    "    circuit2.cx(q[3], q[5])\n",
    "    circuit2.measure(q[0],c[0])\n",
    "    circuit2.measure(q[1],c[1])\n",
    "    circuit2.measure(q[3],c[3])\n",
    "    circuit2.measure(q[5],c[5])\n",
    "    shots = 8192\n",
    "\n",
    "\n",
    "    job_exp = execute(circuit2, mybackend, shots=shots, initial_layout=[0, 1, 2,3,4,5])\n",
    "    job_monitor(job_exp)\n",
    "    result = job_exp.result()\n",
    "    counts = result.get_counts()\n",
    "    error_rate = 1-counts['101011'] / shots\n",
    "    return error_rate"
   ]
  },
  {
   "cell_type": "code",
   "execution_count": 17,
   "id": "67ad0f9a-d01c-415c-90ed-ff38d60f85a7",
   "metadata": {},
   "outputs": [
    {
     "name": "stdout",
     "output_type": "stream",
     "text": [
      "Job Status: job has successfully run\n",
      "0.1455078125\n"
     ]
    }
   ],
   "source": [
    "list = [1,3]\n",
    "ans = singletestcrosstalk(list)\n",
    "print(ans)"
   ]
  },
  {
   "cell_type": "code",
   "execution_count": 18,
   "id": "5de89100-f2d8-4d9b-8a57-fe1c8d208092",
   "metadata": {},
   "outputs": [
    {
     "name": "stdout",
     "output_type": "stream",
     "text": [
      "Job Status: job has successfully run\n",
      "0.162109375\n",
      "Job Status: job has successfully run\n",
      "0.1455078125\n",
      "Job Status: job has successfully run\n",
      "0.1629638671875\n",
      "Job Status: job has successfully run\n",
      "0.1566162109375\n",
      "Job Status: job has successfully run\n",
      "0.1419677734375\n",
      "Job Status: job has successfully run\n",
      "0.15185546875\n",
      "Job Status: job has successfully run\n",
      "0.1513671875\n",
      "Job Status: job has successfully run\n",
      "0.177734375\n",
      "Job Status: job has successfully run\n",
      "0.1512451171875\n",
      "Job Status: job has successfully run\n",
      "0.155029296875\n",
      "[0.162109375, 0.1455078125, 0.1629638671875, 0.1566162109375, 0.1419677734375, 0.15185546875, 0.1513671875, 0.177734375, 0.1512451171875, 0.155029296875]\n"
     ]
    }
   ],
   "source": [
    "myans = []\n",
    "for x in range(10):\n",
    "    cur = singletestcrosstalk(list)\n",
    "    myans.append(cur)\n",
    "    print(cur)\n",
    "print(myans)"
   ]
  },
  {
   "cell_type": "code",
   "execution_count": 20,
   "id": "b3ce955c-d747-4263-bc9e-c9f0b1dd8d12",
   "metadata": {},
   "outputs": [
    {
     "name": "stdout",
     "output_type": "stream",
     "text": [
      "[0.162109375, 0.1455078125, 0.1629638671875, 0.1566162109375, 0.1419677734375, 0.15185546875, 0.1513671875, 0.177734375, 0.1512451171875, 0.155029296875]\n",
      "0.1556396484375\n"
     ]
    }
   ],
   "source": [
    "  print(myans)\n",
    "import numpy as np\n",
    "from numpy import mean\n",
    "print(mean(myans))"
   ]
  },
  {
   "cell_type": "code",
   "execution_count": 23,
   "id": "0e721fce-b3cb-453c-bddf-cfc0cad700da",
   "metadata": {},
   "outputs": [],
   "source": [
    "def singletestnormal( list ):\n",
    "    q = QuantumRegister(6, 'q')\n",
    "    c = ClassicalRegister(6, 'c')\n",
    "    circuit2 = QuantumCircuit(q, c)\n",
    "    circuit2.x(q[0])\n",
    "    circuit2.x(q[3])\n",
    "    circuit2.cx(q[0], q[1])\n",
    "    circuit2.barrier(q[0])\n",
    "    circuit2.barrier(q[1])\n",
    "    circuit2.barrier(q[3])\n",
    "    circuit2.barrier(q[5])\n",
    "    circuit2.cx(q[3], q[5])\n",
    "    circuit2.measure(q[0],c[0])\n",
    "    circuit2.measure(q[1],c[1])\n",
    "    circuit2.measure(q[3],c[3])\n",
    "    circuit2.measure(q[5],c[5])\n",
    "    #circuit2.draw(output = 'mpl')\n",
    "    shots = 8192\n",
    "\n",
    "\n",
    "    job_exp = execute(circuit2, mybackend, shots=shots, initial_layout=[0, 1, 2,3,4,5])\n",
    "    job_monitor(job_exp)\n",
    "    result = job_exp.result()\n",
    "    counts = result.get_counts()\n",
    "    error_rate = 1-counts['101011'] / shots\n",
    "    return error_rate"
   ]
  },
  {
   "cell_type": "code",
   "execution_count": 24,
   "id": "58f6eb77-b442-436f-a591-cb79d060ae25",
   "metadata": {},
   "outputs": [
    {
     "name": "stdout",
     "output_type": "stream",
     "text": [
      "Job Status: job has successfully run\n",
      "0.156494140625\n",
      "Job Status: job has successfully run\n",
      "0.1512451171875\n",
      "Job Status: job has successfully run\n",
      "0.1634521484375\n",
      "Job Status: job has successfully run\n",
      "0.15625\n",
      "Job Status: job has successfully run\n",
      "0.2110595703125\n",
      "Job Status: job has successfully run\n",
      "0.1534423828125\n",
      "Job Status: job has successfully run\n",
      "0.15087890625\n",
      "Job Status: job has successfully run\n",
      "0.1478271484375\n",
      "Job Status: job has successfully run\n",
      "0.137451171875\n",
      "Job Status: job has successfully run\n",
      "0.168701171875\n",
      "[0.156494140625, 0.1512451171875, 0.1634521484375, 0.15625, 0.2110595703125, 0.1534423828125, 0.15087890625, 0.1478271484375, 0.137451171875, 0.168701171875]\n",
      "0.15968017578125\n"
     ]
    }
   ],
   "source": [
    "nocross = []\n",
    "for x in range(10):\n",
    "    cur = singletestnormal(list)\n",
    "    nocross.append(cur)\n",
    "    print(cur)\n",
    "print(nocross)\n",
    "print(mean(nocross))"
   ]
  },
  {
   "cell_type": "code",
   "execution_count": 70,
   "id": "025a2580-2a93-4079-a6d4-04f7a00a7cd9",
   "metadata": {},
   "outputs": [],
   "source": [
    "def stest( list ):\n",
    "    q = QuantumRegister(6, 'q')\n",
    "    c = ClassicalRegister(6, 'c')\n",
    "    circuit2 = QuantumCircuit(q, c)\n",
    "    circuit2.x(q[list[0]])\n",
    "    circuit2.x(q[list[2]])\n",
    "    circuit2.cx(q[list[0]], q[list[1]])\n",
    "    circuit2.barrier()\n",
    "    circuit2.cx(q[list[2]], [list[3]])\n",
    "    circuit2.measure(q[list[0]],c[list[0]])\n",
    "    circuit2.measure(q[list[1]],c[list[1]])\n",
    "    circuit2.measure(q[list[2]],c[list[2]])\n",
    "    circuit2.measure(q[list[3]],c[list[3]])\n",
    "    #circuit2.draw(output = 'mpl')\n",
    "    shots = 20000\n",
    "    string = \"000000\"\n",
    "\n",
    "    for i in list:\n",
    "        string = string[:i] + '1' + string[i + 1:]\n",
    "\n",
    "    string = string[::-1]\n",
    "    print(string)\n",
    "    \n",
    "    job_exp = execute(circuit2, mybackend, shots=shots, initial_layout=[0, 1, 2,3,4,5])\n",
    "    job_monitor(job_exp)\n",
    "    result = job_exp.result()\n",
    "    counts = result.get_counts()\n",
    "    error_rate = 1-counts[string] / shots\n",
    "    return error_rate\n"
   ]
  },
  {
   "cell_type": "code",
   "execution_count": null,
   "id": "694a38d2-10ae-4516-a0c8-607deb308564",
   "metadata": {},
   "outputs": [
    {
     "name": "stdout",
     "output_type": "stream",
     "text": [
      "101110\n",
      "Job Status: job has successfully run\n",
      "0.14290000000000003\n",
      "101110\n",
      "Job Status: job has successfully run\n",
      "0.14365000000000006\n",
      "101110\n",
      "Job Status: job has successfully run\n",
      "0.14005\n",
      "101110\n",
      "Job Status: job has successfully run\n",
      "0.12104999999999999\n",
      "101110\n",
      "Job Status: job has successfully run\n",
      "0.1351\n",
      "101110\n",
      "Job Status: job has successfully run\n",
      "0.15364999999999995\n",
      "101110\n",
      "Job Status: job has successfully run\n",
      "0.12990000000000002\n",
      "101110\n",
      "Job Status: job has successfully run\n",
      "0.14385000000000003\n",
      "101110\n",
      "Job Status: job has successfully run\n",
      "0.13605\n",
      "101110\n",
      "Job Status: job has successfully run\n",
      "0.137\n",
      "101110\n",
      "Job Status: job has successfully run\n",
      "0.13970000000000005\n",
      "101110\n",
      "Job Status: job has successfully run\n",
      "0.13395\n",
      "101110\n",
      "Job Status: job has successfully run\n",
      "0.1351\n",
      "101110\n",
      "Job Status: job is queued (1)     "
     ]
    }
   ],
   "source": [
    "testlist = [1,2,3,5]\n",
    "nocross = []\n",
    "for x in range(50):\n",
    "    cur = stest(testlist)\n",
    "    nocross.append(cur)\n",
    "    print(cur)\n",
    "print(nocross)\n",
    "print(mean(nocross))"
   ]
  },
  {
   "cell_type": "code",
   "execution_count": 48,
   "id": "0c287891-37dd-4590-9a6c-00dba9df0d65",
   "metadata": {},
   "outputs": [
    {
     "name": "stdout",
     "output_type": "stream",
     "text": [
      "111010\n",
      "Job Status: job has successfully run\n",
      "0.1162109375\n",
      "111010\n",
      "Job Status: job has successfully run\n",
      "0.1170654296875\n",
      "111010\n",
      "Job Status: job has successfully run\n",
      "0.11767578125\n",
      "111010\n",
      "Job Status: job has successfully run\n",
      "0.1573486328125\n",
      "111010\n",
      "Job Status: job has successfully run\n",
      "0.158203125\n",
      "111010\n",
      "Job Status: job has successfully run\n",
      "0.1114501953125\n",
      "111010\n",
      "Job Status: job has successfully run\n",
      "0.1241455078125\n",
      "111010\n",
      "Job Status: job has successfully run\n",
      "0.1220703125\n",
      "111010\n",
      "Job Status: job has successfully run\n",
      "0.1236572265625\n",
      "111010\n",
      "Job Status: job has successfully run\n",
      "0.1256103515625\n",
      "111010\n",
      "Job Status: job has successfully run\n",
      "0.1114501953125\n",
      "111010\n",
      "Job Status: job has successfully run\n",
      "0.119384765625\n",
      "111010\n",
      "Job Status: job has successfully run\n",
      "0.1246337890625\n",
      "111010\n",
      "Job Status: job has successfully run\n",
      "0.1319580078125\n",
      "111010\n",
      "Job Status: job has successfully run\n",
      "0.1165771484375\n",
      "111010\n",
      "Job Status: job has successfully run\n",
      "0.1553955078125\n",
      "111010\n",
      "Job Status: job has successfully run\n",
      "0.1243896484375\n",
      "111010\n",
      "Job Status: job has successfully run\n",
      "0.1119384765625\n",
      "111010\n",
      "Job Status: job has successfully run\n",
      "0.1212158203125\n",
      "111010\n",
      "Job Status: job has successfully run\n",
      "0.1197509765625\n",
      "[0.1162109375, 0.1170654296875, 0.11767578125, 0.1573486328125, 0.158203125, 0.1114501953125, 0.1241455078125, 0.1220703125, 0.1236572265625, 0.1256103515625, 0.1114501953125, 0.119384765625, 0.1246337890625, 0.1319580078125, 0.1165771484375, 0.1553955078125, 0.1243896484375, 0.1119384765625, 0.1212158203125, 0.1197509765625]\n",
      "0.125506591796875\n"
     ]
    }
   ],
   "source": [
    "nocross = []\n",
    "for x in range(20):\n",
    "    cur = stest(testlist)\n",
    "    nocross.append(cur)\n",
    "    print(cur)\n",
    "print(nocross)\n",
    "print(mean(nocross))"
   ]
  },
  {
   "cell_type": "code",
   "execution_count": 10,
   "id": "c74b7781-fb39-4158-8672-feebc449da3a",
   "metadata": {},
   "outputs": [],
   "source": [
    "def ctest( list ):\n",
    "    q = QuantumRegister(6, 'q')\n",
    "    c = ClassicalRegister(6, 'c')\n",
    "    circuit2 = QuantumCircuit(q, c)\n",
    "    circuit2.x(q[list[0]])\n",
    "    circuit2.x(q[list[2]])\n",
    "    circuit2.cx(q[list[0]], q[list[1]])\n",
    "    # circuit2.barrier(q[list[0]])\n",
    "    # circuit2.barrier(q[list[1]])\n",
    "    # circuit2.barrier(q[list[2]])\n",
    "    # circuit2.barrier(q[list[3]])\n",
    "    circuit2.cx(q[list[2]], [list[3]])\n",
    "    circuit2.measure(q[list[0]],c[list[0]])\n",
    "    circuit2.measure(q[list[1]],c[list[1]])\n",
    "    circuit2.measure(q[list[2]],c[list[2]])\n",
    "    circuit2.measure(q[list[3]],c[list[3]])\n",
    "    #circuit2.draw(output = 'mpl')\n",
    "    string = \"000000\"\n",
    "    shots = 20000\n",
    "    for i in list:\n",
    "        string = string[:i] + '1' + string[i + 1:]\n",
    "\n",
    "    string = string[::-1]\n",
    "    print(string)\n",
    "    \n",
    "    job_exp = execute(circuit2, mybackend, shots=shots, initial_layout=[0, 1, 2,3,4,5])\n",
    "    job_monitor(job_exp)\n",
    "    result = job_exp.result()\n",
    "    counts = result.get_counts()\n",
    "    error_rate = 1-counts[string] / shots\n",
    "    return error_rate\n"
   ]
  },
  {
   "cell_type": "code",
   "execution_count": 52,
   "id": "850ff39b-e30f-4d24-bd4b-c98fbab910bc",
   "metadata": {},
   "outputs": [
    {
     "name": "stdout",
     "output_type": "stream",
     "text": [
      "111010\n",
      "Job Status: job has successfully run\n",
      "0.1263427734375\n",
      "111010\n",
      "Job Status: job has successfully run\n",
      "0.1368408203125\n",
      "111010\n",
      "Job Status: job has successfully run\n",
      "0.1373291015625\n",
      "111010\n",
      "Job Status: job has successfully run\n",
      "0.1483154296875\n",
      "111010\n",
      "Job Status: job has successfully run\n",
      "0.1285400390625\n",
      "111010\n",
      "Job Status: job has successfully run\n",
      "0.112060546875\n",
      "111010\n",
      "Job Status: job has successfully run\n",
      "0.15478515625\n",
      "111010\n",
      "Job Status: job has successfully run\n",
      "0.1082763671875\n",
      "111010\n",
      "Job Status: job has successfully run\n",
      "0.1162109375\n",
      "111010\n",
      "Job Status: job has successfully run\n",
      "0.1116943359375\n",
      "111010\n",
      "Job Status: job has successfully run\n",
      "0.112548828125\n",
      "111010\n",
      "Job Status: job has successfully run\n",
      "0.1116943359375\n",
      "111010\n",
      "Job Status: job has successfully run\n",
      "0.1124267578125\n",
      "111010\n",
      "Job Status: job has successfully run\n",
      "0.1357421875\n",
      "111010\n",
      "Job Status: job has successfully run\n",
      "0.1044921875\n",
      "111010\n",
      "Job Status: job has successfully run\n",
      "0.111083984375\n",
      "111010\n",
      "Job Status: job has successfully run\n",
      "0.1663818359375\n",
      "111010\n",
      "Job Status: job has successfully run\n",
      "0.115966796875\n",
      "111010\n",
      "Job Status: job has successfully run\n",
      "0.11328125\n",
      "111010\n",
      "Job Status: job has successfully run\n",
      "0.109130859375\n",
      "[0.1263427734375, 0.1368408203125, 0.1373291015625, 0.1483154296875, 0.1285400390625, 0.112060546875, 0.15478515625, 0.1082763671875, 0.1162109375, 0.1116943359375, 0.112548828125, 0.1116943359375, 0.1124267578125, 0.1357421875, 0.1044921875, 0.111083984375, 0.1663818359375, 0.115966796875, 0.11328125, 0.109130859375]\n",
      "0.1236572265625\n"
     ]
    }
   ],
   "source": [
    "nocross = []\n",
    "for x in range(10):\n",
    "    cur = stest(testlist)\n",
    "    nocross.append(cur)\n",
    "    print(cur)\n",
    "print(nocross)\n",
    "print(mean(nocross))"
   ]
  },
  {
   "cell_type": "code",
   "execution_count": 15,
   "id": "f5fa3b58-1790-4b7a-9d35-51338de5d43a",
   "metadata": {},
   "outputs": [
    {
     "name": "stdout",
     "output_type": "stream",
     "text": [
      "101110\n",
      "Job Status: job is queued (1)     "
     ]
    },
    {
     "ename": "KeyboardInterrupt",
     "evalue": "",
     "output_type": "error",
     "traceback": [
      "\u001b[0;31m---------------------------------------------------------------------------\u001b[0m",
      "\u001b[0;31mKeyboardInterrupt\u001b[0m                         Traceback (most recent call last)",
      "\u001b[0;32m/tmp/ipykernel_132/3257762507.py\u001b[0m in \u001b[0;36m<module>\u001b[0;34m\u001b[0m\n\u001b[1;32m      6\u001b[0m \u001b[0mnocross\u001b[0m \u001b[0;34m=\u001b[0m \u001b[0;34m[\u001b[0m\u001b[0;34m]\u001b[0m\u001b[0;34m\u001b[0m\u001b[0;34m\u001b[0m\u001b[0m\n\u001b[1;32m      7\u001b[0m \u001b[0;32mfor\u001b[0m \u001b[0mx\u001b[0m \u001b[0;32min\u001b[0m \u001b[0mrange\u001b[0m\u001b[0;34m(\u001b[0m\u001b[0;36m20\u001b[0m\u001b[0;34m)\u001b[0m\u001b[0;34m:\u001b[0m\u001b[0;34m\u001b[0m\u001b[0;34m\u001b[0m\u001b[0m\n\u001b[0;32m----> 8\u001b[0;31m     \u001b[0mcur\u001b[0m \u001b[0;34m=\u001b[0m \u001b[0mstest\u001b[0m\u001b[0;34m(\u001b[0m\u001b[0mtest3\u001b[0m\u001b[0;34m)\u001b[0m\u001b[0;34m\u001b[0m\u001b[0;34m\u001b[0m\u001b[0m\n\u001b[0m\u001b[1;32m      9\u001b[0m     \u001b[0mnocross\u001b[0m\u001b[0;34m.\u001b[0m\u001b[0mappend\u001b[0m\u001b[0;34m(\u001b[0m\u001b[0mcur\u001b[0m\u001b[0;34m)\u001b[0m\u001b[0;34m\u001b[0m\u001b[0;34m\u001b[0m\u001b[0m\n\u001b[1;32m     10\u001b[0m     \u001b[0mprint\u001b[0m\u001b[0;34m(\u001b[0m\u001b[0mcur\u001b[0m\u001b[0;34m)\u001b[0m\u001b[0;34m\u001b[0m\u001b[0;34m\u001b[0m\u001b[0m\n",
      "\u001b[0;32m/tmp/ipykernel_132/3142012980.py\u001b[0m in \u001b[0;36mstest\u001b[0;34m(list)\u001b[0m\n\u001b[1;32m     26\u001b[0m \u001b[0;34m\u001b[0m\u001b[0m\n\u001b[1;32m     27\u001b[0m     \u001b[0mjob_exp\u001b[0m \u001b[0;34m=\u001b[0m \u001b[0mexecute\u001b[0m\u001b[0;34m(\u001b[0m\u001b[0mcircuit2\u001b[0m\u001b[0;34m,\u001b[0m \u001b[0mmybackend\u001b[0m\u001b[0;34m,\u001b[0m \u001b[0mshots\u001b[0m\u001b[0;34m=\u001b[0m\u001b[0mshots\u001b[0m\u001b[0;34m,\u001b[0m \u001b[0minitial_layout\u001b[0m\u001b[0;34m=\u001b[0m\u001b[0;34m[\u001b[0m\u001b[0;36m0\u001b[0m\u001b[0;34m,\u001b[0m \u001b[0;36m1\u001b[0m\u001b[0;34m,\u001b[0m \u001b[0;36m2\u001b[0m\u001b[0;34m,\u001b[0m\u001b[0;36m3\u001b[0m\u001b[0;34m,\u001b[0m\u001b[0;36m4\u001b[0m\u001b[0;34m,\u001b[0m\u001b[0;36m5\u001b[0m\u001b[0;34m]\u001b[0m\u001b[0;34m)\u001b[0m\u001b[0;34m\u001b[0m\u001b[0;34m\u001b[0m\u001b[0m\n\u001b[0;32m---> 28\u001b[0;31m     \u001b[0mjob_monitor\u001b[0m\u001b[0;34m(\u001b[0m\u001b[0mjob_exp\u001b[0m\u001b[0;34m)\u001b[0m\u001b[0;34m\u001b[0m\u001b[0;34m\u001b[0m\u001b[0m\n\u001b[0m\u001b[1;32m     29\u001b[0m     \u001b[0mresult\u001b[0m \u001b[0;34m=\u001b[0m \u001b[0mjob_exp\u001b[0m\u001b[0;34m.\u001b[0m\u001b[0mresult\u001b[0m\u001b[0;34m(\u001b[0m\u001b[0;34m)\u001b[0m\u001b[0;34m\u001b[0m\u001b[0;34m\u001b[0m\u001b[0m\n\u001b[1;32m     30\u001b[0m     \u001b[0mcounts\u001b[0m \u001b[0;34m=\u001b[0m \u001b[0mresult\u001b[0m\u001b[0;34m.\u001b[0m\u001b[0mget_counts\u001b[0m\u001b[0;34m(\u001b[0m\u001b[0;34m)\u001b[0m\u001b[0;34m\u001b[0m\u001b[0;34m\u001b[0m\u001b[0m\n",
      "\u001b[0;32m/opt/conda/lib/python3.8/site-packages/qiskit/tools/monitor/job_monitor.py\u001b[0m in \u001b[0;36mjob_monitor\u001b[0;34m(job, interval, quiet, output, line_discipline)\u001b[0m\n\u001b[1;32m     87\u001b[0m         \u001b[0m_interval_set\u001b[0m \u001b[0;34m=\u001b[0m \u001b[0;32mTrue\u001b[0m\u001b[0;34m\u001b[0m\u001b[0;34m\u001b[0m\u001b[0m\n\u001b[1;32m     88\u001b[0m \u001b[0;34m\u001b[0m\u001b[0m\n\u001b[0;32m---> 89\u001b[0;31m     _text_checker(\n\u001b[0m\u001b[1;32m     90\u001b[0m         \u001b[0mjob\u001b[0m\u001b[0;34m,\u001b[0m \u001b[0minterval\u001b[0m\u001b[0;34m,\u001b[0m \u001b[0m_interval_set\u001b[0m\u001b[0;34m,\u001b[0m \u001b[0mquiet\u001b[0m\u001b[0;34m=\u001b[0m\u001b[0mquiet\u001b[0m\u001b[0;34m,\u001b[0m \u001b[0moutput\u001b[0m\u001b[0;34m=\u001b[0m\u001b[0moutput\u001b[0m\u001b[0;34m,\u001b[0m \u001b[0mline_discipline\u001b[0m\u001b[0;34m=\u001b[0m\u001b[0mline_discipline\u001b[0m\u001b[0;34m\u001b[0m\u001b[0;34m\u001b[0m\u001b[0m\n\u001b[1;32m     91\u001b[0m     )\n",
      "\u001b[0;32m/opt/conda/lib/python3.8/site-packages/qiskit/tools/monitor/job_monitor.py\u001b[0m in \u001b[0;36m_text_checker\u001b[0;34m(job, interval, _interval_set, quiet, output, line_discipline)\u001b[0m\n\u001b[1;32m     42\u001b[0m         \u001b[0mprint\u001b[0m\u001b[0;34m(\u001b[0m\u001b[0;34m\"{}{}: {}\"\u001b[0m\u001b[0;34m.\u001b[0m\u001b[0mformat\u001b[0m\u001b[0;34m(\u001b[0m\u001b[0mline_discipline\u001b[0m\u001b[0;34m,\u001b[0m \u001b[0;34m\"Job Status\"\u001b[0m\u001b[0;34m,\u001b[0m \u001b[0mmsg\u001b[0m\u001b[0;34m)\u001b[0m\u001b[0;34m,\u001b[0m \u001b[0mend\u001b[0m\u001b[0;34m=\u001b[0m\u001b[0;34m\"\"\u001b[0m\u001b[0;34m,\u001b[0m \u001b[0mfile\u001b[0m\u001b[0;34m=\u001b[0m\u001b[0moutput\u001b[0m\u001b[0;34m)\u001b[0m\u001b[0;34m\u001b[0m\u001b[0;34m\u001b[0m\u001b[0m\n\u001b[1;32m     43\u001b[0m     \u001b[0;32mwhile\u001b[0m \u001b[0mstatus\u001b[0m\u001b[0;34m.\u001b[0m\u001b[0mname\u001b[0m \u001b[0;32mnot\u001b[0m \u001b[0;32min\u001b[0m \u001b[0;34m[\u001b[0m\u001b[0;34m\"DONE\"\u001b[0m\u001b[0;34m,\u001b[0m \u001b[0;34m\"CANCELLED\"\u001b[0m\u001b[0;34m,\u001b[0m \u001b[0;34m\"ERROR\"\u001b[0m\u001b[0;34m]\u001b[0m\u001b[0;34m:\u001b[0m\u001b[0;34m\u001b[0m\u001b[0;34m\u001b[0m\u001b[0m\n\u001b[0;32m---> 44\u001b[0;31m         \u001b[0mtime\u001b[0m\u001b[0;34m.\u001b[0m\u001b[0msleep\u001b[0m\u001b[0;34m(\u001b[0m\u001b[0minterval\u001b[0m\u001b[0;34m)\u001b[0m\u001b[0;34m\u001b[0m\u001b[0;34m\u001b[0m\u001b[0m\n\u001b[0m\u001b[1;32m     45\u001b[0m         \u001b[0mstatus\u001b[0m \u001b[0;34m=\u001b[0m \u001b[0mjob\u001b[0m\u001b[0;34m.\u001b[0m\u001b[0mstatus\u001b[0m\u001b[0;34m(\u001b[0m\u001b[0;34m)\u001b[0m\u001b[0;34m\u001b[0m\u001b[0;34m\u001b[0m\u001b[0m\n\u001b[1;32m     46\u001b[0m         \u001b[0mmsg\u001b[0m \u001b[0;34m=\u001b[0m \u001b[0mstatus\u001b[0m\u001b[0;34m.\u001b[0m\u001b[0mvalue\u001b[0m\u001b[0;34m\u001b[0m\u001b[0;34m\u001b[0m\u001b[0m\n",
      "\u001b[0;31mKeyboardInterrupt\u001b[0m: "
     ]
    }
   ],
   "source": [
    "test3 = [1,2,3,5]\n",
    "import numpy as np\n",
    "from numpy import mean\n",
    "from qiskit.tools.monitor import job_monitor\n",
    "from qiskit import execute\n",
    "nocross = []\n",
    "for x in range(20):\n",
    "    cur = stest(test3)\n",
    "    nocross.append(cur)\n",
    "    print(cur)\n",
    "print(nocross)\n",
    "print(\"without crosstalk\")\n",
    "print(mean(nocross))\n"
   ]
  },
  {
   "cell_type": "code",
   "execution_count": 12,
   "id": "d5bda644-a5a2-4339-adc8-c48825a6358f",
   "metadata": {},
   "outputs": [
    {
     "name": "stdout",
     "output_type": "stream",
     "text": [
      "101110\n",
      "Job Status: job has successfully run\n",
      "0.12980000000000003\n",
      "101110\n",
      "Job Status: job has successfully run\n",
      "0.10340000000000005\n",
      "101110\n",
      "Job Status: job has successfully run\n",
      "0.12360000000000004\n",
      "101110\n",
      "Job Status: job has successfully run\n",
      "0.13315\n",
      "101110\n",
      "Job Status: job has successfully run\n",
      "0.11750000000000005\n",
      "101110\n",
      "Job Status: job has successfully run\n",
      "0.1008\n",
      "101110\n",
      "Job Status: job has successfully run\n",
      "0.10585\n",
      "101110\n",
      "Job Status: job has successfully run\n",
      "0.12429999999999997\n",
      "101110\n",
      "Job Status: job has successfully run\n",
      "0.16595000000000004\n",
      "101110\n",
      "Job Status: job has successfully run\n",
      "0.11695\n",
      "101110\n",
      "Job Status: job has successfully run\n",
      "0.11260000000000003\n",
      "101110\n",
      "Job Status: job has successfully run\n",
      "0.10880000000000001\n",
      "101110\n",
      "Job Status: job has successfully run\n",
      "0.11395\n",
      "101110\n",
      "Job Status: job has successfully run\n",
      "0.11595\n",
      "101110\n",
      "Job Status: job has successfully run\n",
      "0.12070000000000003\n",
      "101110\n",
      "Job Status: job has successfully run\n",
      "0.11755000000000004\n",
      "101110\n",
      "Job Status: job has successfully run\n",
      "0.11834999999999996\n",
      "101110\n",
      "Job Status: job has successfully run\n",
      "0.10880000000000001\n",
      "101110\n",
      "Job Status: job has successfully run\n",
      "0.11775000000000002\n",
      "101110\n",
      "Job Status: job has successfully run\n",
      "0.1189\n",
      "[0.12980000000000003, 0.10340000000000005, 0.12360000000000004, 0.13315, 0.11750000000000005, 0.1008, 0.10585, 0.12429999999999997, 0.16595000000000004, 0.11695, 0.11260000000000003, 0.10880000000000001, 0.11395, 0.11595, 0.12070000000000003, 0.11755000000000004, 0.11834999999999996, 0.10880000000000001, 0.11775000000000002, 0.1189]\n",
      "with crosstalk\n",
      "0.11873250000000002\n"
     ]
    }
   ],
   "source": [
    "test3 = [1,2,3,5]\n",
    "import numpy as np\n",
    "from numpy import mean\n",
    "from qiskit.tools.monitor import job_monitor\n",
    "from qiskit import execute\n",
    "nocross = []\n",
    "for x in range(20):\n",
    "    cur = ctest(test3)\n",
    "    nocross.append(cur)\n",
    "    print(cur)\n",
    "print(nocross)\n",
    "print(\"with crosstalk\")\n",
    "print(mean(nocross))"
   ]
  },
  {
   "cell_type": "code",
   "execution_count": 88,
   "id": "42d8c833-fd75-44a0-8403-4680297d73a3",
   "metadata": {},
   "outputs": [],
   "source": [
    "def circuit( list ):\n",
    "    q = QuantumRegister(6, 'q')\n",
    "    c = ClassicalRegister(6, 'c')\n",
    "    circuit2 = QuantumCircuit(q, c)\n",
    "    circuit2.x(q[list[0]])\n",
    "    circuit2.x(q[list[2]])\n",
    "    circuit2.barrier()\n",
    "    circuit2.cx(q[list[0]], q[list[1]])\n",
    "    # circuit2.barrier()\n",
    "    \n",
    "    circuit2.cx(q[list[2]], [list[3]])\n",
    "    circuit2.measure(q[list[0]],c[list[0]])\n",
    "    circuit2.measure(q[list[1]],c[list[1]])\n",
    "    circuit2.measure(q[list[2]],c[list[2]])\n",
    "    circuit2.measure(q[list[3]],c[list[3]])\n",
    "    return circuit2"
   ]
  },
  {
   "cell_type": "code",
   "execution_count": 89,
   "id": "6537a2c5-a355-44fd-9400-1cfdfae5b9f0",
   "metadata": {},
   "outputs": [
    {
     "data": {
      "image/png": "[encoded data removed]",
      "text/plain": [
       "<Figure size 507.997x445.48 with 1 Axes>"
      ]
     },
     "execution_count": 89,
     "metadata": {},
     "output_type": "execute_result"
    }
   ],
   "source": [
    "circuit3 = circuit([1,2,3,5])\n",
    "circuit3.draw()"
   ]
  },
  {
   "cell_type": "code",
   "execution_count": 84,
   "id": "a44f7ee6-341d-4bf5-a8cc-5f4b151e2458",
   "metadata": {},
   "outputs": [
    {
     "data": {
      "image/png": "[encoded data removed]",
      "text/plain": [
       "<Figure size 327.397x445.48 with 1 Axes>"
      ]
     },
     "execution_count": 84,
     "metadata": {},
     "output_type": "execute_result"
    }
   ],
   "source": [
    "circuit3 = transpile(circuit3)\n",
    "circuit3.draw()"
   ]
  },
  {
   "cell_type": "code",
   "execution_count": 85,
   "id": "f31ced41-960b-4193-8f98-889010ff1b23",
   "metadata": {},
   "outputs": [
    {
     "name": "stdout",
     "output_type": "stream",
     "text": [
      "2\n"
     ]
    }
   ],
   "source": [
    "from qiskit import QuantumCircuit, QuantumRegister, transpile\n",
    "# circuit3 = circuit3.decompose()\n",
    "circuit3.draw()\n",
    "print(circuit3.depth())"
   ]
  },
  {
   "cell_type": "code",
   "execution_count": 51,
   "id": "9cb26e8b-6867-45a4-9e35-cf3580df8eaa",
   "metadata": {},
   "outputs": [],
   "source": [
    "import pdb\n",
    "def eztest( list ):\n",
    "    q = QuantumRegister(6, 'q')\n",
    "    c = ClassicalRegister(6, 'c')\n",
    "    circuit2 = QuantumCircuit(q, c)\n",
    "    # circuit2.x(q[list[0]])\n",
    "    # circuit2.x(q[list[2]])\n",
    "    circuit2.cx(q[list[0]], q[list[1]])\n",
    "    # circuit2.barrier(q[list[0]])\n",
    "    # circuit2.barrier(q[list[1]])\n",
    "    # circuit2.barrier(q[list[2]])\n",
    "    # circuit2.barrier(q[list[3]])\n",
    "    circuit2.cx(q[list[2]], [list[3]])\n",
    "    circuit2.measure(q[list[0]],c[list[0]])\n",
    "    circuit2.measure(q[list[1]],c[list[1]])\n",
    "    circuit2.measure(q[list[2]],c[list[2]])\n",
    "    circuit2.measure(q[list[3]],c[list[3]])\n",
    "    #circuit2.draw(output = 'mpl')\n",
    "    string = \"000000\"\n",
    "    shots = 20000\n",
    "    for i in list:\n",
    "        string = string[:i] + '1' + string[i + 1:]\n",
    "\n",
    "    string = string[::-1]\n",
    "    print(string)\n",
    "    \n",
    "    job_exp = execute(circuit2, mybackend, shots=shots, initial_layout=[0, 1, 2,3,4,5],optimization_level=None)\n",
    "    job_monitor(job_exp)\n",
    "    result = job_exp.result()\n",
    "    pdb.set_trace()\n",
    "    counts = result.get_counts()\n",
    "    error_rate = 1-counts[string] / shots\n",
    "    return error_rate"
   ]
  },
  {
   "cell_type": "code",
   "execution_count": 45,
   "id": "8b8a2207-c714-442a-8d78-3ded259042cb",
   "metadata": {},
   "outputs": [
    {
     "name": "stdout",
     "output_type": "stream",
     "text": [
      "101110\n",
      "Job Status: job has successfully run\n",
      "Traceback \u001b[1;36m(most recent call last)\u001b[0m:\n",
      "  File \u001b[0;32m\"/tmp/ipykernel_132/3678075466.py\"\u001b[0m, line \u001b[0;32m8\u001b[0m, in \u001b[0;35m<module>\u001b[0m\n",
      "    cur = eztest(test3)\n",
      "\u001b[1;36m  File \u001b[1;32m\"/tmp/ipykernel_132/195097898.py\"\u001b[1;36m, line \u001b[1;32m30\u001b[1;36m, in \u001b[1;35meztest\u001b[1;36m\u001b[0m\n",
      "\u001b[1;33m    error_rate = 1-counts[string] / shots\u001b[0m\n",
      "\u001b[1;31mKeyError\u001b[0m\u001b[1;31m:\u001b[0m '101110'\n",
      "\n",
      "Use %tb to get the full traceback.\n"
     ]
    },
    {
     "data": {
      "text/html": [
       "\n",
       "<style>\n",
       ".button {\n",
       "  border: none;\n",
       "  color: white;\n",
       "  padding: 4px 8px;\n",
       "  text-align: center;\n",
       "  text-decoration: none;\n",
       "  display: inline-block;\n",
       "  font-size: 12px;\n",
       "  margin: 4px 2px;\n",
       "  transition-duration: 0.2s;\n",
       "  cursor: pointer;\n",
       "}\n",
       ".iqx-button {\n",
       "  background-color: #0f62fe; \n",
       "  color: white; \n",
       "}\n",
       ".iqx-button:hover {\n",
       "  background-color: #0043ce;\n",
       "  color: white;\n",
       "}\n",
       "</style>\n",
       "<a href=\"https://stackoverflow.com/search?q=KeyError: 101110\" target='_blank'><button class='button iqx-button'>Search for solution online</button></a>\n"
      ],
      "text/plain": [
       "<IPython.core.display.HTML object>"
      ]
     },
     "metadata": {},
     "output_type": "display_data"
    }
   ],
   "source": [
    "test3 = [1,2,3,5]\n",
    "import numpy as np\n",
    "from numpy import mean\n",
    "from qiskit.tools.monitor import job_monitor\n",
    "from qiskit import execute\n",
    "nocross = []\n",
    "for x in range(1):\n",
    "    cur = stest(test3)\n",
    "    nocross.append(cur)\n",
    "    print(cur)\n",
    "print(nocross)\n",
    "print(\"with crosstalk\")\n",
    "print(mean(nocross))"
   ]
  },
  {
   "cell_type": "code",
   "execution_count": 40,
   "id": "9e245aba-5c43-4aa8-87ad-b2ead8ff6c11",
   "metadata": {},
   "outputs": [],
   "source": [
    "def ectest( list ):\n",
    "    q = QuantumRegister(6, 'q')\n",
    "    c = ClassicalRegister(6, 'c')\n",
    "    circuit2 = QuantumCircuit(q, c)\n",
    "    # circuit2.x(q[list[0]])\n",
    "    # circuit2.x(q[list[2]])\n",
    "    circuit2.cx(q[list[0]], q[list[1]])\n",
    "    circuit2.barrier(q[list[0]])\n",
    "    circuit2.barrier(q[list[1]])\n",
    "    circuit2.barrier(q[list[2]])\n",
    "    circuit2.barrier(q[list[3]])\n",
    "    circuit2.cx(q[list[2]], [list[3]])\n",
    "    circuit2.measure(q[list[0]],c[list[0]])\n",
    "    circuit2.measure(q[list[1]],c[list[1]])\n",
    "    circuit2.measure(q[list[2]],c[list[2]])\n",
    "    circuit2.measure(q[list[3]],c[list[3]])\n",
    "    #circuit2.draw(output = 'mpl')\n",
    "    string = \"000000\"\n",
    "    shots = 20000\n",
    "    for i in list:\n",
    "        string = string[:i] + '1' + string[i + 1:]\n",
    "\n",
    "    string = string[::-1]\n",
    "    print(string)\n",
    "    \n",
    "    job_exp = execute(circuit2, mybackend, shots=shots, initial_layout=[0, 1, 2,3,4,5],optimization_level=None)\n",
    "    job_monitor(job_exp)\n",
    "    result = job_exp.result()\n",
    "    counts = result.get_counts()\n",
    "    error_rate = 1-counts[string] / shots\n",
    "    return error_rate"
   ]
  },
  {
   "cell_type": "code",
   "execution_count": 41,
   "id": "b9da223d-b90f-4b1e-9525-962c7fae62e4",
   "metadata": {},
   "outputs": [
    {
     "name": "stdout",
     "output_type": "stream",
     "text": [
      "101110\n",
      "Job Status: job has successfully run\n",
      "0.99995\n",
      "[0.99995]\n",
      "with crosstalk\n",
      "0.99995\n"
     ]
    }
   ],
   "source": [
    "test3 = [1,2,3,5]\n",
    "import numpy as np\n",
    "from numpy import mean\n",
    "from qiskit.tools.monitor import job_monitor\n",
    "from qiskit import execute\n",
    "nocross = []\n",
    "for x in range(1):\n",
    "    cur = ectest(test3)\n",
    "    nocross.append(cur)\n",
    "    print(cur)\n",
    "print(nocross)\n",
    "print(\"with crosstalk\")\n",
    "print(mean(nocross))"
   ]
  },
  {
   "cell_type": "code",
   "execution_count": null,
   "id": "6daff61f-bcc3-45a9-ad7f-0d09a6fab6e7",
   "metadata": {},
   "outputs": [],
   "source": []
  }
 ],
 "metadata": {
  "kernelspec": {
   "display_name": "Qiskit v0.32.1 (ipykernel)",
   "language": "python",
   "name": "python3"
  },
  "language_info": {
   "codemirror_mode": {
    "name": "ipython",
    "version": 3
   },
   "file_extension": ".py",
   "mimetype": "text/x-python",
   "name": "python",
   "nbconvert_exporter": "python",
   "pygments_lexer": "ipython3",
   "version": "3.8.10"
  },
  "widgets": {
   "application/vnd.jupyter.widget-state+json": {
    "state": {
     "00291911865d41e9b39afa29a04c30c9": {
      "model_module": "@jupyter-widgets/controls",
      "model_module_version": "1.5.0",
      "model_name": "HTMLModel",
      "state": {
       "layout": "IPY_MODEL_92ac996603594e60ac06ad1dd34756cd",
       "style": "IPY_MODEL_a546948ee7c24c05b467b0fa5892069d",
       "value": "-"
      }
     },
     "0054328bb1f049f9b0587104def1843f": {
      "model_module": "@jupyter-widgets/controls",
      "model_module_version": "1.5.0",
      "model_name": "HTMLModel",
      "state": {
       "layout": "IPY_MODEL_b6c1d031756c46a081e98174ca3db114",
       "style": "IPY_MODEL_b487807cfdfb4d00b77207b4962a803c",
       "value": "-"
      }
     },
     "00550d9ca63748afb10c987f184fd645": {
      "model_module": "@jupyter-widgets/controls",
      "model_module_version": "1.5.0",
      "model_name": "HTMLModel",
      "state": {
       "layout": "IPY_MODEL_ba10dd9209b046eebe1e9f32a295fc7b",
       "style": "IPY_MODEL_c2ecd419a7fd4832aa2b20dba407432b",
       "value": "job has successfully run"
      }
     },
     "007f89c3444543bd8ef3cb59d2589073": {
      "model_module": "@jupyter-widgets/base",
      "model_module_version": "1.2.0",
      "model_name": "LayoutModel",
      "state": {
       "width": "190px"
      }
     },
     "00c8fa512bc547c39efb827ec73f0438": {
      "model_module": "@jupyter-widgets/controls",
      "model_module_version": "1.5.0",
      "model_name": "DescriptionStyleModel",
      "state": {
       "description_width": ""
      }
     },
     "01362d0a8dd4481bacb54ce3f082be45": {
      "model_module": "@jupyter-widgets/controls",
      "model_module_version": "1.5.0",
      "model_name": "DescriptionStyleModel",
      "state": {
       "description_width": ""
      }
     },
     "015fbf3fec4c4c0fac3a881447b940df": {
      "model_module": "@jupyter-widgets/controls",
      "model_module_version": "1.5.0",
      "model_name": "DescriptionStyleModel",
      "state": {
       "description_width": ""
      }
     },
     "018e176dc0964e64bf5fffdf4c2027cc": {
      "model_module": "@jupyter-widgets/base",
      "model_module_version": "1.2.0",
      "model_name": "LayoutModel",
      "state": {
       "overflow_x": "scroll"
      }
     },
     "0196a38b0778446282e27f4870b96478": {
      "model_module": "@jupyter-widgets/base",
      "model_module_version": "1.2.0",
      "model_name": "LayoutModel",
      "state": {
       "width": "190px"
      }
     },
     "01c4222dd21a4e71a54323c21d3a898e": {
      "model_module": "@jupyter-widgets/controls",
      "model_module_version": "1.5.0",
      "model_name": "HTMLModel",
      "state": {
       "layout": "IPY_MODEL_215293237e714b37a4a436ffe56bb6ce",
       "style": "IPY_MODEL_978b8e9e7abf4b34808205954b66b112",
       "value": "<font style='color:#34BC6E'>DONE</font>"
      }
     },
     "01c7b99d6ae84d789bbc4d5dc5e7507f": {
      "model_module": "@jupyter-widgets/controls",
      "model_module_version": "1.5.0",
      "model_name": "DescriptionStyleModel",
      "state": {
       "description_width": ""
      }
     },
     "021258d01b75431f90d09917386c4232": {
      "model_module": "@jupyter-widgets/controls",
      "model_module_version": "1.5.0",
      "model_name": "HTMLModel",
      "state": {
       "layout": "IPY_MODEL_66efb5f9eefe4aff9e67d9ee07892c3b",
       "style": "IPY_MODEL_19dca76591b248b48b91ecdcdefeb066",
       "value": "-"
      }
     },
     "02c69857c8c84319ade95bd56c1b9154": {
      "model_module": "@jupyter-widgets/controls",
      "model_module_version": "1.5.0",
      "model_name": "HTMLModel",
      "state": {
       "layout": "IPY_MODEL_5f3746b958114908a882093e725a3eda",
       "style": "IPY_MODEL_d7b4a1ab86b648bc9a87c7dc35379a0b",
       "value": "61a10ef660e4c0c5576052d8"
      }
     },
     "02eaaa27abac490c96da51633a04fd6f": {
      "model_module": "@jupyter-widgets/controls",
      "model_module_version": "1.5.0",
      "model_name": "HTMLModel",
      "state": {
       "layout": "IPY_MODEL_9648052d1ebc47f69a2585a7133402b6",
       "style": "IPY_MODEL_6e3db543c5e54f48a0042df629fae574",
       "value": "QUEUED"
      }
     },
     "02ee457493e846008cf31308fa0a73cc": {
      "model_module": "@jupyter-widgets/base",
      "model_module_version": "1.2.0",
      "model_name": "LayoutModel",
      "state": {
       "max_width": "700px",
       "min_width": "700px"
      }
     },
     "02f1d3ff077f48d793501b1073855d3f": {
      "model_module": "@jupyter-widgets/controls",
      "model_module_version": "1.5.0",
      "model_name": "HTMLModel",
      "state": {
       "layout": "IPY_MODEL_ea852d0c7ca0448c8cf17b0c807bfee8",
       "style": "IPY_MODEL_22200995d4a94d01b256b9c6fa29a3bd",
       "value": "<h5>Status</h5>"
      }
     },
     "0327e5d8ded04442bfac953d78d00c1d": {
      "model_module": "@jupyter-widgets/controls",
      "model_module_version": "1.5.0",
      "model_name": "HTMLModel",
      "state": {
       "layout": "IPY_MODEL_e91ee9d5bfcd48b3a251bcb4a654897b",
       "style": "IPY_MODEL_d8e4843b0a854a05895d332e80b55de6",
       "value": "job has successfully run"
      }
     },
     "03410bfe7de74e4b9c8b1d1e9cdfb485": {
      "model_module": "@jupyter-widgets/base",
      "model_module_version": "1.2.0",
      "model_name": "LayoutModel",
      "state": {
       "width": "70px"
      }
     },
     "0367b8f28e0e4479b31424d1ef1e1f33": {
      "model_module": "@jupyter-widgets/controls",
      "model_module_version": "1.5.0",
      "model_name": "DescriptionStyleModel",
      "state": {
       "description_width": ""
      }
     },
     "0380e996162746fca78278c722741d49": {
      "model_module": "@jupyter-widgets/base",
      "model_module_version": "1.2.0",
      "model_name": "LayoutModel",
      "state": {
       "max_width": "700px",
       "min_width": "700px"
      }
     },
     "0401879d398545e3b230d4872e504d03": {
      "model_module": "@jupyter-widgets/controls",
      "model_module_version": "1.5.0",
      "model_name": "HTMLModel",
      "state": {
       "layout": "IPY_MODEL_9ba75db1fad44072ac71d3c174b57184",
       "style": "IPY_MODEL_a70ad0ede3d04ed3b100fb91def76422",
       "value": "ibmq_casablanca"
      }
     },
     "0406861503994051b50e07061793b41d": {
      "model_module": "@jupyter-widgets/base",
      "model_module_version": "1.2.0",
      "model_name": "LayoutModel",
      "state": {
       "width": "70px"
      }
     },
     "04097769b88749a39ba6d5c71b2b1bd7": {
      "model_module": "@jupyter-widgets/controls",
      "model_module_version": "1.5.0",
      "model_name": "DescriptionStyleModel",
      "state": {
       "description_width": ""
      }
     },
     "056a8276ffcd4991b0834b123e878f59": {
      "model_module": "@jupyter-widgets/controls",
      "model_module_version": "1.5.0",
      "model_name": "HTMLModel",
      "state": {
       "layout": "IPY_MODEL_58504cd37d0843029ddb105a53fb45f4",
       "style": "IPY_MODEL_9cbfbd382eee4322a8564b39b28cd27d",
       "value": "61a10e6acbd5061f09fefd8d"
      }
     },
     "0581ea8793d04bb9b6a8aeeddf52e2ab": {
      "model_module": "@jupyter-widgets/controls",
      "model_module_version": "1.5.0",
      "model_name": "ButtonModel",
      "state": {
       "icon": "close",
       "layout": "IPY_MODEL_70783885941e4ad5b10aa5ae521bd1e3",
       "style": "IPY_MODEL_a51616f6acbb4a6d98a70e345465aeac"
      }
     },
     "0598eb146d7444c4a0b82058544c22f0": {
      "model_module": "@jupyter-widgets/base",
      "model_module_version": "1.2.0",
      "model_name": "LayoutModel",
      "state": {
       "max_width": "700px",
       "min_width": "700px"
      }
     },
     "05b3c3eafc4845f983e905c431aef5ea": {
      "model_module": "@jupyter-widgets/controls",
      "model_module_version": "1.5.0",
      "model_name": "DescriptionStyleModel",
      "state": {
       "description_width": ""
      }
     },
     "05c649973c89460e83ca3f81c87b0c1f": {
      "model_module": "@jupyter-widgets/base",
      "model_module_version": "1.2.0",
      "model_name": "LayoutModel",
      "state": {
       "width": "145px"
      }
     },
     "05d576c9ffbd4c85a6ac2f5b3cb847dc": {
      "model_module": "@jupyter-widgets/base",
      "model_module_version": "1.2.0",
      "model_name": "LayoutModel",
      "state": {
       "max_width": "700px",
       "min_width": "700px"
      }
     },
     "05da5f80e9cb4c9cb398aabc70c21bd3": {
      "model_module": "@jupyter-widgets/base",
      "model_module_version": "1.2.0",
      "model_name": "LayoutModel",
      "state": {
       "width": "70px"
      }
     },
     "0635090147e44cf1adf7fc64ce8dc43b": {
      "model_module": "@jupyter-widgets/controls",
      "model_module_version": "1.5.0",
      "model_name": "DescriptionStyleModel",
      "state": {
       "description_width": ""
      }
     },
     "063cc5adf4a84c44867dccd8b70b867c": {
      "model_module": "@jupyter-widgets/base",
      "model_module_version": "1.2.0",
      "model_name": "LayoutModel",
      "state": {
       "width": "145px"
      }
     },
     "0655b205af2248ddbe96e3b14b3be56a": {
      "model_module": "@jupyter-widgets/controls",
      "model_module_version": "1.5.0",
      "model_name": "DescriptionStyleModel",
      "state": {
       "description_width": ""
      }
     },
     "066449e0be7f4ba4a1b8b3f08ee44549": {
      "model_module": "@jupyter-widgets/controls",
      "model_module_version": "1.5.0",
      "model_name": "DescriptionStyleModel",
      "state": {
       "description_width": ""
      }
     },
     "0684f099474041f9bc121653c8806d8b": {
      "model_module": "@jupyter-widgets/controls",
      "model_module_version": "1.5.0",
      "model_name": "DescriptionStyleModel",
      "state": {
       "description_width": ""
      }
     },
     "0711455d34c747de9cb31f2afbaee59b": {
      "model_module": "@jupyter-widgets/base",
      "model_module_version": "1.2.0",
      "model_name": "LayoutModel",
      "state": {
       "max_width": "700px",
       "min_width": "700px"
      }
     },
     "073a6ba087d9434fae65f492a85319d6": {
      "model_module": "@jupyter-widgets/controls",
      "model_module_version": "1.5.0",
      "model_name": "DescriptionStyleModel",
      "state": {
       "description_width": ""
      }
     },
     "0777c75ee7f2432fa8ae3979ea521b48": {
      "model_module": "@jupyter-widgets/controls",
      "model_module_version": "1.5.0",
      "model_name": "ButtonStyleModel",
      "state": {
       "button_color": "white"
      }
     },
     "07837726160b457d9d4f04a0c71e1839": {
      "model_module": "@jupyter-widgets/base",
      "model_module_version": "1.2.0",
      "model_name": "LayoutModel",
      "state": {
       "width": "95px"
      }
     },
     "079468f0cdb64a6ea94d2709ed5fce49": {
      "model_module": "@jupyter-widgets/controls",
      "model_module_version": "1.5.0",
      "model_name": "GridBoxModel",
      "state": {
       "children": [
        "IPY_MODEL_dfb2b533f5d34bc385dec90415ef555d"
       ],
       "layout": "IPY_MODEL_d398c18d7d6b45ef880e8a3cf29f0a8a"
      }
     },
     "07a7fe8a4a0f42159521054bfa05b089": {
      "model_module": "@jupyter-widgets/controls",
      "model_module_version": "1.5.0",
      "model_name": "DescriptionStyleModel",
      "state": {
       "description_width": ""
      }
     },
     "08e2f6f670ab4a7387e45433695c2189": {
      "model_module": "@jupyter-widgets/controls",
      "model_module_version": "1.5.0",
      "model_name": "HTMLModel",
      "state": {
       "layout": "IPY_MODEL_1ff4c241a7864831b897ceeafe99e4bc",
       "style": "IPY_MODEL_a935a97893a24b399862f321ef25cdcf",
       "value": "<font style='color:#34BC6E'>DONE</font>"
      }
     },
     "09a2ac2c8f734aaab87e46c83b593b96": {
      "model_module": "@jupyter-widgets/controls",
      "model_module_version": "1.5.0",
      "model_name": "HTMLModel",
      "state": {
       "layout": "IPY_MODEL_523f73a7d7104b2fba2a7387cdf62574",
       "style": "IPY_MODEL_a35d9529c25343f399e0e49d71cf6949",
       "value": "<font style='color:#34BC6E'>DONE</font>"
      }
     },
     "09b78fbb009d4e18a2f8acf78c982616": {
      "model_module": "@jupyter-widgets/base",
      "model_module_version": "1.2.0",
      "model_name": "LayoutModel",
      "state": {
       "width": "190px"
      }
     },
     "0a27c589f2de4d4d8e1680218dc83b99": {
      "model_module": "@jupyter-widgets/base",
      "model_module_version": "1.2.0",
      "model_name": "LayoutModel",
      "state": {
       "width": "70px"
      }
     },
     "0a2d1b5d42f6436693f5f2e79f116ca6": {
      "model_module": "@jupyter-widgets/controls",
      "model_module_version": "1.5.0",
      "model_name": "DescriptionStyleModel",
      "state": {
       "description_width": ""
      }
     },
     "0b2a0d4d4c21446a8f3e847dfb0ee32e": {
      "model_module": "@jupyter-widgets/base",
      "model_module_version": "1.2.0",
      "model_name": "LayoutModel",
      "state": {
       "margin": "0px 5px 0px 0px",
       "width": "32px"
      }
     },
     "0b6131c5c7b4473aa3b5e795c4ab5729": {
      "model_module": "@jupyter-widgets/base",
      "model_module_version": "1.2.0",
      "model_name": "LayoutModel",
      "state": {
       "width": "190px"
      }
     },
     "0b67b10506294bc9ac2c0b44889585a6": {
      "model_module": "@jupyter-widgets/controls",
      "model_module_version": "1.5.0",
      "model_name": "HTMLModel",
      "state": {
       "layout": "IPY_MODEL_662f427395e24e8db4b2e5ec7730af4c",
       "style": "IPY_MODEL_33225fdea62549a395d67266c8f17d10",
       "value": "ibmq_casablanca"
      }
     },
     "0b79bfd19b2d4a8593a051899591b2e2": {
      "model_module": "@jupyter-widgets/base",
      "model_module_version": "1.2.0",
      "model_name": "LayoutModel",
      "state": {
       "overflow_x": "scroll"
      }
     },
     "0bc4020901ee46569487855062a33b33": {
      "model_module": "@jupyter-widgets/controls",
      "model_module_version": "1.5.0",
      "model_name": "HTMLModel",
      "state": {
       "layout": "IPY_MODEL_99da2df5c84a4551b8fac5977d1d2d10",
       "style": "IPY_MODEL_0367b8f28e0e4479b31424d1ef1e1f33",
       "value": "61a10deadf2795c09968a1ad"
      }
     },
     "0c0ad8083a4143d782937826fd7c651b": {
      "model_module": "@jupyter-widgets/controls",
      "model_module_version": "1.5.0",
      "model_name": "DescriptionStyleModel",
      "state": {
       "description_width": ""
      }
     },
     "0c69818863e7406380a39d2af2baa981": {
      "model_module": "@jupyter-widgets/controls",
      "model_module_version": "1.5.0",
      "model_name": "DescriptionStyleModel",
      "state": {
       "description_width": ""
      }
     },
     "0c904fcc1dc4460a91d021fb2e7bfa25": {
      "model_module": "@jupyter-widgets/controls",
      "model_module_version": "1.5.0",
      "model_name": "HTMLModel",
      "state": {
       "layout": "IPY_MODEL_d579b65486464678ba8f2a2c2c20fa9d",
       "style": "IPY_MODEL_d0ef6d74ca7d4a44a82b30db25950e2e",
       "value": "61a10e9bfd3a888a745901c0"
      }
     },
     "0ca525a3fb5f4d01aada85a2ae4d3735": {
      "model_module": "@jupyter-widgets/base",
      "model_module_version": "1.2.0",
      "model_name": "LayoutModel",
      "state": {
       "width": "190px"
      }
     },
     "0d705db4104444a1b03b2d94fe529fa0": {
      "model_module": "@jupyter-widgets/controls",
      "model_module_version": "1.5.0",
      "model_name": "HTMLModel",
      "state": {
       "layout": "IPY_MODEL_c4cd369e05064a0daa8914b736308e1f",
       "style": "IPY_MODEL_4c6439e174de4ed1b8967855a1d4ae5c",
       "value": "ibmq_casablanca"
      }
     },
     "0d736633da9e463585be81b426d4c0a0": {
      "model_module": "@jupyter-widgets/base",
      "model_module_version": "1.2.0",
      "model_name": "LayoutModel",
      "state": {
       "width": "190px"
      }
     },
     "0da54f82b0f6417f82db506c15e59404": {
      "model_module": "@jupyter-widgets/controls",
      "model_module_version": "1.5.0",
      "model_name": "DescriptionStyleModel",
      "state": {
       "description_width": ""
      }
     },
     "0dc91c5b780641cf91d7db85b946a6b2": {
      "model_module": "@jupyter-widgets/controls",
      "model_module_version": "1.5.0",
      "model_name": "HBoxModel",
      "state": {
       "children": [
        "IPY_MODEL_fa1d75a73ead4a9dbca1fb19141ecbfa",
        "IPY_MODEL_d0c48d46dbf54cf190f6692036b7b0b6",
        "IPY_MODEL_cd16af62ac2b40329b7e3a6acfa2223c",
        "IPY_MODEL_02eaaa27abac490c96da51633a04fd6f",
        "IPY_MODEL_56c8913e489249f7bd1cccdb328adff4",
        "IPY_MODEL_846731958fd84c3292f97d57639da366"
       ],
       "layout": "IPY_MODEL_0380e996162746fca78278c722741d49"
      }
     },
     "0dcefac14d654ec98caf1a46457ae522": {
      "model_module": "@jupyter-widgets/controls",
      "model_module_version": "1.5.0",
      "model_name": "DescriptionStyleModel",
      "state": {
       "description_width": ""
      }
     },
     "0e2771ac1e2c4cc7bbcf67b5a3dea489": {
      "model_module": "@jupyter-widgets/controls",
      "model_module_version": "1.5.0",
      "model_name": "ButtonStyleModel",
      "state": {
       "button_color": "white"
      }
     },
     "0e2df3a52239470bae55205f5c12e86e": {
      "model_module": "@jupyter-widgets/base",
      "model_module_version": "1.2.0",
      "model_name": "LayoutModel",
      "state": {
       "max_width": "700px",
       "min_width": "700px"
      }
     },
     "0e8bbe8f2fd04d02a7100b3c19000e16": {
      "model_module": "@jupyter-widgets/controls",
      "model_module_version": "1.5.0",
      "model_name": "HBoxModel",
      "state": {
       "children": [
        "IPY_MODEL_3d7cfddab8ba4f738c193d68790d1dbb",
        "IPY_MODEL_2f833a8e824248158c6e655c53e4ec48",
        "IPY_MODEL_62656cd3b2054cffa893abab53cbe71d",
        "IPY_MODEL_be57630d9be44fd291c136bc585943c2",
        "IPY_MODEL_ad3008e5508640ec95b400bedc6e63ea",
        "IPY_MODEL_4ed324651d254f26944877b8f0faa31c"
       ],
       "layout": "IPY_MODEL_a6ec461def894182895bbb93e776f6f5"
      }
     },
     "0ed80009ccf94bdcbf3057806ac1ea51": {
      "model_module": "@jupyter-widgets/controls",
      "model_module_version": "1.5.0",
      "model_name": "ButtonStyleModel",
      "state": {
       "button_color": "white"
      }
     },
     "1032602491a84c98bb5f2a7231b017f6": {
      "model_module": "@jupyter-widgets/base",
      "model_module_version": "1.2.0",
      "model_name": "LayoutModel",
      "state": {
       "margin": "0px 5px 0px 0px",
       "width": "32px"
      }
     },
     "1058817380ab431a893384ced8155df0": {
      "model_module": "@jupyter-widgets/controls",
      "model_module_version": "1.5.0",
      "model_name": "HTMLModel",
      "state": {
       "layout": "IPY_MODEL_b568d9ca476c45259544f5d9dc63d83d",
       "style": "IPY_MODEL_829d56ed18764cc0af09ec0e651d3ffa",
       "value": "ibmq_casablanca"
      }
     },
     "106bbe7d398846ad97227f83c59913fb": {
      "model_module": "@jupyter-widgets/controls",
      "model_module_version": "1.5.0",
      "model_name": "DescriptionStyleModel",
      "state": {
       "description_width": ""
      }
     },
     "10c181da63364e659b913ea7ede13696": {
      "model_module": "@jupyter-widgets/base",
      "model_module_version": "1.2.0",
      "model_name": "LayoutModel",
      "state": {
       "overflow_x": "scroll"
      }
     },
     "11cdac2dbddd4467aac70ef43e9a2b43": {
      "model_module": "@jupyter-widgets/controls",
      "model_module_version": "1.5.0",
      "model_name": "DescriptionStyleModel",
      "state": {
       "description_width": ""
      }
     },
     "11e57ad50f984b5e91989f1954b85524": {
      "model_module": "@jupyter-widgets/base",
      "model_module_version": "1.2.0",
      "model_name": "LayoutModel",
      "state": {
       "width": "70px"
      }
     },
     "11f02a40f8fd468abb4344dfb5982216": {
      "model_module": "@jupyter-widgets/controls",
      "model_module_version": "1.5.0",
      "model_name": "HBoxModel",
      "state": {
       "children": [
        "IPY_MODEL_d9d08596cf8f4c9b8ec33ab6032e2e48",
        "IPY_MODEL_d3d8e06a0704491ebb1e6e0700a82b4e",
        "IPY_MODEL_14a499ac669847ba83ffdcfaa6555732",
        "IPY_MODEL_43476b8d73264ccabdeac46441706a83",
        "IPY_MODEL_8908c5e8528b4e50a37b7f0eb152ca9b",
        "IPY_MODEL_b44349b34c8045fdaae3011ca4f0ddc7"
       ],
       "layout": "IPY_MODEL_c6aac3d6b4e44126b193296ec5128485"
      }
     },
     "1245d9d23750454ea605a286781531cc": {
      "model_module": "@jupyter-widgets/controls",
      "model_module_version": "1.5.0",
      "model_name": "ButtonModel",
      "state": {
       "icon": "close",
       "layout": "IPY_MODEL_7e3170e715294db18497c0019f7c2acc",
       "style": "IPY_MODEL_5fcaec76b2b84d6db149c8b63d25ee72"
      }
     },
     "1259925925ae47068dbaf466918ec402": {
      "model_module": "@jupyter-widgets/base",
      "model_module_version": "1.2.0",
      "model_name": "LayoutModel",
      "state": {
       "width": "190px"
      }
     },
     "1268da30702744f18bbe692de063d911": {
      "model_module": "@jupyter-widgets/controls",
      "model_module_version": "1.5.0",
      "model_name": "DescriptionStyleModel",
      "state": {
       "description_width": ""
      }
     },
     "12aed85bed5c4aba9023481eb9616883": {
      "model_module": "@jupyter-widgets/base",
      "model_module_version": "1.2.0",
      "model_name": "LayoutModel",
      "state": {
       "width": "70px"
      }
     },
     "133e12de8ffa4e00af1970f5c60a7fc0": {
      "model_module": "@jupyter-widgets/base",
      "model_module_version": "1.2.0",
      "model_name": "LayoutModel",
      "state": {
       "width": "145px"
      }
     },
     "13405dab28b943b2ae772e04373b3a93": {
      "model_module": "@jupyter-widgets/controls",
      "model_module_version": "1.5.0",
      "model_name": "HTMLModel",
      "state": {
       "layout": "IPY_MODEL_7b642d1f705645e1a3127223957fc194",
       "style": "IPY_MODEL_5c14c9c9bf744053ba636d55f91fdaba",
       "value": "<h5>Message</h5>"
      }
     },
     "134a1de422844996a06b424f3b5b19d2": {
      "model_module": "@jupyter-widgets/controls",
      "model_module_version": "1.5.0",
      "model_name": "DescriptionStyleModel",
      "state": {
       "description_width": ""
      }
     },
     "13885d0247f148aca36fbf4240b1b522": {
      "model_module": "@jupyter-widgets/base",
      "model_module_version": "1.2.0",
      "model_name": "LayoutModel",
      "state": {
       "width": "95px"
      }
     },
     "13be46622d03483fb669965567df25e7": {
      "model_module": "@jupyter-widgets/controls",
      "model_module_version": "1.5.0",
      "model_name": "DescriptionStyleModel",
      "state": {
       "description_width": ""
      }
     },
     "1431e8a22c924ab5b2647314efa745cf": {
      "model_module": "@jupyter-widgets/controls",
      "model_module_version": "1.5.0",
      "model_name": "HTMLModel",
      "state": {
       "layout": "IPY_MODEL_a7c3ced6dc3e425eb7d7be4372e3a9b1",
       "style": "IPY_MODEL_5fe4c36cc9224e67af367c99c01cd414",
       "value": "-"
      }
     },
     "14a1821640e9435bb9990eaa28ee9421": {
      "model_module": "@jupyter-widgets/base",
      "model_module_version": "1.2.0",
      "model_name": "LayoutModel",
      "state": {
       "width": "70px"
      }
     },
     "14a499ac669847ba83ffdcfaa6555732": {
      "model_module": "@jupyter-widgets/controls",
      "model_module_version": "1.5.0",
      "model_name": "HTMLModel",
      "state": {
       "layout": "IPY_MODEL_a743f822179c4d9cb995011651293cbc",
       "style": "IPY_MODEL_f9b8d5ed2d82451cb4f81afb86a23c65",
       "value": "ibmq_casablanca"
      }
     },
     "14f2d7038fb14ca883c087c00203c573": {
      "model_module": "@jupyter-widgets/controls",
      "model_module_version": "1.5.0",
      "model_name": "DescriptionStyleModel",
      "state": {
       "description_width": ""
      }
     },
     "157eebddd07d4e1fae6a3cd8aee158b1": {
      "model_module": "@jupyter-widgets/controls",
      "model_module_version": "1.5.0",
      "model_name": "HTMLModel",
      "state": {
       "layout": "IPY_MODEL_cfe61a2608a5416d84c66a2accea7a62",
       "style": "IPY_MODEL_0635090147e44cf1adf7fc64ce8dc43b",
       "value": "-"
      }
     },
     "15cb8af4b2bf478b823c353582379e9b": {
      "model_module": "@jupyter-widgets/base",
      "model_module_version": "1.2.0",
      "model_name": "LayoutModel",
      "state": {
       "width": "145px"
      }
     },
     "160425cf18844c2493a29485d67dbda2": {
      "model_module": "@jupyter-widgets/base",
      "model_module_version": "1.2.0",
      "model_name": "LayoutModel",
      "state": {
       "width": "70px"
      }
     },
     "1673e651bf9e43fc96b94bb022a77fba": {
      "model_module": "@jupyter-widgets/base",
      "model_module_version": "1.2.0",
      "model_name": "LayoutModel",
      "state": {
       "max_width": "700px",
       "min_width": "700px"
      }
     },
     "1700108fd1794643929e84468e8a4d5a": {
      "model_module": "@jupyter-widgets/base",
      "model_module_version": "1.2.0",
      "model_name": "LayoutModel",
      "state": {
       "width": "95px"
      }
     },
     "1782ad366a104d10ba6fbe7c5724ce3d": {
      "model_module": "@jupyter-widgets/base",
      "model_module_version": "1.2.0",
      "model_name": "LayoutModel",
      "state": {
       "width": "70px"
      }
     },
     "18a8fd2e80534c3983561f7196c02db9": {
      "model_module": "@jupyter-widgets/controls",
      "model_module_version": "1.5.0",
      "model_name": "DescriptionStyleModel",
      "state": {
       "description_width": ""
      }
     },
     "19987929139447359f00c3cc4cab1a48": {
      "model_module": "@jupyter-widgets/controls",
      "model_module_version": "1.5.0",
      "model_name": "DescriptionStyleModel",
      "state": {
       "description_width": ""
      }
     },
     "19dca76591b248b48b91ecdcdefeb066": {
      "model_module": "@jupyter-widgets/controls",
      "model_module_version": "1.5.0",
      "model_name": "DescriptionStyleModel",
      "state": {
       "description_width": ""
      }
     },
     "1ac413aca027478bb44abe2ffad882a4": {
      "model_module": "@jupyter-widgets/base",
      "model_module_version": "1.2.0",
      "model_name": "LayoutModel",
      "state": {
       "width": "190px"
      }
     },
     "1b591a2b173f44f08d40fbeecb25fadc": {
      "model_module": "@jupyter-widgets/base",
      "model_module_version": "1.2.0",
      "model_name": "LayoutModel",
      "state": {
       "margin": "0px 5px 0px 0px",
       "width": "32px"
      }
     },
     "1b655336d97048b38f3f3a6d031ae814": {
      "model_module": "@jupyter-widgets/base",
      "model_module_version": "1.2.0",
      "model_name": "LayoutModel",
      "state": {
       "margin": "0px 5px 0px 0px",
       "width": "32px"
      }
     },
     "1bea6728b448495aaffe67a3ef948246": {
      "model_module": "@jupyter-widgets/controls",
      "model_module_version": "1.5.0",
      "model_name": "HTMLModel",
      "state": {
       "layout": "IPY_MODEL_a57d8d3baf8241a484f1d3910981dd76",
       "style": "IPY_MODEL_a504efcb25c74692a8f88b26de59518d",
       "value": "ibmq_casablanca"
      }
     },
     "1cdd5a2fc79e4a5c83065174610b2f74": {
      "model_module": "@jupyter-widgets/controls",
      "model_module_version": "1.5.0",
      "model_name": "DescriptionStyleModel",
      "state": {
       "description_width": ""
      }
     },
     "1cf44568aefb44d9ac667ba3240c1270": {
      "model_module": "@jupyter-widgets/controls",
      "model_module_version": "1.5.0",
      "model_name": "DescriptionStyleModel",
      "state": {
       "description_width": ""
      }
     },
     "1d08d135a3784b56908eb22e3f13476f": {
      "model_module": "@jupyter-widgets/controls",
      "model_module_version": "1.5.0",
      "model_name": "HTMLModel",
      "state": {
       "layout": "IPY_MODEL_5165c706973a491a8e6f1b87d2af0871",
       "style": "IPY_MODEL_4480d23017144b80a93bd33554954550",
       "value": "<font style='color:#34BC6E'>DONE</font>"
      }
     },
     "1d5ff43ff07e4f2a9d40a7cf364ea9d1": {
      "model_module": "@jupyter-widgets/controls",
      "model_module_version": "1.5.0",
      "model_name": "DescriptionStyleModel",
      "state": {
       "description_width": ""
      }
     },
     "1d8dd34137044dec83e925678ae62570": {
      "model_module": "@jupyter-widgets/base",
      "model_module_version": "1.2.0",
      "model_name": "LayoutModel",
      "state": {
       "max_width": "700px",
       "min_width": "700px"
      }
     },
     "1d99c25c6a984816a1d18a94321754b6": {
      "model_module": "@jupyter-widgets/base",
      "model_module_version": "1.2.0",
      "model_name": "LayoutModel",
      "state": {
       "overflow_x": "scroll"
      }
     },
     "1deba066b36c4869b501b0e731128f84": {
      "model_module": "@jupyter-widgets/base",
      "model_module_version": "1.2.0",
      "model_name": "LayoutModel",
      "state": {
       "overflow_x": "scroll"
      }
     },
     "1e487ee814574cd9b92b26906b76ec79": {
      "model_module": "@jupyter-widgets/controls",
      "model_module_version": "1.5.0",
      "model_name": "DescriptionStyleModel",
      "state": {
       "description_width": ""
      }
     },
     "1f9cd3e1923d4ab09dbd3ee77227a3d2": {
      "model_module": "@jupyter-widgets/controls",
      "model_module_version": "1.5.0",
      "model_name": "DescriptionStyleModel",
      "state": {
       "description_width": ""
      }
     },
     "1ff4c241a7864831b897ceeafe99e4bc": {
      "model_module": "@jupyter-widgets/base",
      "model_module_version": "1.2.0",
      "model_name": "LayoutModel",
      "state": {
       "width": "95px"
      }
     },
     "20111bf7a173457d9e74c0cce29a592e": {
      "model_module": "@jupyter-widgets/controls",
      "model_module_version": "1.5.0",
      "model_name": "DescriptionStyleModel",
      "state": {
       "description_width": ""
      }
     },
     "20a202146de84aaf8f7afbd3cf1d0eec": {
      "model_module": "@jupyter-widgets/controls",
      "model_module_version": "1.5.0",
      "model_name": "DescriptionStyleModel",
      "state": {
       "description_width": ""
      }
     },
     "20ac821fa2da4ebcb96bd850832209d8": {
      "model_module": "@jupyter-widgets/controls",
      "model_module_version": "1.5.0",
      "model_name": "DescriptionStyleModel",
      "state": {
       "description_width": ""
      }
     },
     "2142223828ec40a69cd2e4c69028336f": {
      "model_module": "@jupyter-widgets/controls",
      "model_module_version": "1.5.0",
      "model_name": "HTMLModel",
      "state": {
       "layout": "IPY_MODEL_31b4fc9c8ac746cd88073c38cf05c8c5",
       "style": "IPY_MODEL_00c8fa512bc547c39efb827ec73f0438",
       "value": "-"
      }
     },
     "215293237e714b37a4a436ffe56bb6ce": {
      "model_module": "@jupyter-widgets/base",
      "model_module_version": "1.2.0",
      "model_name": "LayoutModel",
      "state": {
       "width": "95px"
      }
     },
     "219919e25fc745858eede6438672afc6": {
      "model_module": "@jupyter-widgets/controls",
      "model_module_version": "1.5.0",
      "model_name": "DescriptionStyleModel",
      "state": {
       "description_width": ""
      }
     },
     "21a3054fb25e43f7acb8434488388376": {
      "model_module": "@jupyter-widgets/controls",
      "model_module_version": "1.5.0",
      "model_name": "HTMLModel",
      "state": {
       "layout": "IPY_MODEL_11e57ad50f984b5e91989f1954b85524",
       "style": "IPY_MODEL_04097769b88749a39ba6d5c71b2b1bd7",
       "value": "-"
      }
     },
     "21a341f6c6f546a68cc035797ffecd06": {
      "model_module": "@jupyter-widgets/controls",
      "model_module_version": "1.5.0",
      "model_name": "ButtonModel",
      "state": {
       "icon": "close",
       "layout": "IPY_MODEL_1032602491a84c98bb5f2a7231b017f6",
       "style": "IPY_MODEL_7c45c94f124349f3b8b45c34ba4cffc5"
      }
     },
     "21ce9f19a1f94d8ba226650cc4a1fcd2": {
      "model_module": "@jupyter-widgets/controls",
      "model_module_version": "1.5.0",
      "model_name": "HTMLModel",
      "state": {
       "layout": "IPY_MODEL_46bd5c8238264786ad7c5afbe14cac92",
       "style": "IPY_MODEL_3e06d9e0e7914a91812a7d74159d88e7",
       "value": "<font style='color:#34BC6E'>DONE</font>"
      }
     },
     "2218ccc4390c4862b7332312e51892e9": {
      "model_module": "@jupyter-widgets/controls",
      "model_module_version": "1.5.0",
      "model_name": "DescriptionStyleModel",
      "state": {
       "description_width": ""
      }
     },
     "22200995d4a94d01b256b9c6fa29a3bd": {
      "model_module": "@jupyter-widgets/controls",
      "model_module_version": "1.5.0",
      "model_name": "DescriptionStyleModel",
      "state": {
       "description_width": ""
      }
     },
     "226a42aadbac402eabee21ada93b3180": {
      "model_module": "@jupyter-widgets/controls",
      "model_module_version": "1.5.0",
      "model_name": "DescriptionStyleModel",
      "state": {
       "description_width": ""
      }
     },
     "22a47ef99a354fa994f8dbe6c79d932a": {
      "model_module": "@jupyter-widgets/base",
      "model_module_version": "1.2.0",
      "model_name": "LayoutModel",
      "state": {
       "max_width": "700px",
       "min_width": "700px"
      }
     },
     "22f73b30962040ab915990b4612ad74f": {
      "model_module": "@jupyter-widgets/controls",
      "model_module_version": "1.5.0",
      "model_name": "HBoxModel",
      "state": {
       "children": [
        "IPY_MODEL_2ca7a6734bc645c3805433b0323632c3",
        "IPY_MODEL_59ad0ceb61aa4371b20af5264469dfb0",
        "IPY_MODEL_37a548637e09440eb08c5ee3b88bcc05",
        "IPY_MODEL_bd471b2eca024643a9b6ac46c99077cf",
        "IPY_MODEL_7c0561fb752746c793a3056bffa89522",
        "IPY_MODEL_877bf5a76c3d401a973a5f2dcd1c0dfb"
       ],
       "layout": "IPY_MODEL_a32ffc5cace4414c8cbf041ba6d4c6fd"
      }
     },
     "233e89e1167c4b3080453eb12cafd5c4": {
      "model_module": "@jupyter-widgets/controls",
      "model_module_version": "1.5.0",
      "model_name": "HTMLModel",
      "state": {
       "layout": "IPY_MODEL_d3e1799c057f4e779ca38660f98dd474",
       "style": "IPY_MODEL_1cdd5a2fc79e4a5c83065174610b2f74",
       "value": "ibmq_casablanca"
      }
     },
     "237c398ba7a849638cb965a8acfeb1a1": {
      "model_module": "@jupyter-widgets/controls",
      "model_module_version": "1.5.0",
      "model_name": "HTMLModel",
      "state": {
       "layout": "IPY_MODEL_c4ebd40c94994984b10e647224f336b9",
       "style": "IPY_MODEL_0684f099474041f9bc121653c8806d8b",
       "value": "<font style='color:#34BC6E'>DONE</font>"
      }
     },
     "23d1afa895274382b0818317df47f032": {
      "model_module": "@jupyter-widgets/controls",
      "model_module_version": "1.5.0",
      "model_name": "HBoxModel",
      "state": {
       "children": [
        "IPY_MODEL_c5b46bb0eb4e44a5917b30e2d56a79de",
        "IPY_MODEL_c268939c27314c1ea22a527265e55525",
        "IPY_MODEL_8d8900e7456941fb853f512c0a377347",
        "IPY_MODEL_237c398ba7a849638cb965a8acfeb1a1",
        "IPY_MODEL_51107a66ce6145b6a06b1ff20765c98e",
        "IPY_MODEL_651eba929cc0425ebaa66c94663ead75"
       ],
       "layout": "IPY_MODEL_961c0c3e1efe47a3b88330b83e0449e4"
      }
     },
     "2462be69a4b74ccc96638e98ff1c14a9": {
      "model_module": "@jupyter-widgets/controls",
      "model_module_version": "1.5.0",
      "model_name": "HTMLModel",
      "state": {
       "layout": "IPY_MODEL_d792c665cbc8421ea7e7df5c90565842",
       "style": "IPY_MODEL_07a7fe8a4a0f42159521054bfa05b089",
       "value": "61a12020fd3a88fedc590202"
      }
     },
     "2479dedce8ce4407a009bc9ba6c5c167": {
      "model_module": "@jupyter-widgets/controls",
      "model_module_version": "1.5.0",
      "model_name": "HTMLModel",
      "state": {
       "layout": "IPY_MODEL_7db2e5fbca56467caf76d6e5248e2318",
       "style": "IPY_MODEL_79e9c44fdd774c2793e46a4df38f8407",
       "value": "ibmq_casablanca"
      }
     },
     "25207c8f160b4235bb30791ed6c6374d": {
      "model_module": "@jupyter-widgets/controls",
      "model_module_version": "1.5.0",
      "model_name": "DescriptionStyleModel",
      "state": {
       "description_width": ""
      }
     },
     "254929c07ec84e77b284b35ef66aa07d": {
      "model_module": "@jupyter-widgets/base",
      "model_module_version": "1.2.0",
      "model_name": "LayoutModel",
      "state": {
       "margin": "0px 5px 0px 0px",
       "width": "32px"
      }
     },
     "2560b54caf7b463e904dc3d32e53baea": {
      "model_module": "@jupyter-widgets/controls",
      "model_module_version": "1.5.0",
      "model_name": "HTMLModel",
      "state": {
       "layout": "IPY_MODEL_65f22dd59e854a199b25e3b4bb48287d",
       "style": "IPY_MODEL_1268da30702744f18bbe692de063d911",
       "value": "61a1307b60e4c0435960543b"
      }
     },
     "26dd00a779b1493f84d5ca039978c22b": {
      "model_module": "@jupyter-widgets/base",
      "model_module_version": "1.2.0",
      "model_name": "LayoutModel",
      "state": {
       "width": "145px"
      }
     },
     "27263c055d1542188a7f78bf5f857282": {
      "model_module": "@jupyter-widgets/controls",
      "model_module_version": "1.5.0",
      "model_name": "ButtonStyleModel",
      "state": {
       "button_color": "white"
      }
     },
     "273979fbf6a9435f83bf95e8d349dde8": {
      "model_module": "@jupyter-widgets/controls",
      "model_module_version": "1.5.0",
      "model_name": "HTMLModel",
      "state": {
       "layout": "IPY_MODEL_a18152a8d7b9438094652bae91be5b7a",
       "style": "IPY_MODEL_c1bd5d37c6224a9d8cd102edf81f4bb2",
       "value": "job has successfully run"
      }
     },
     "27ae7da2097548eb97999d758ffb188b": {
      "model_module": "@jupyter-widgets/base",
      "model_module_version": "1.2.0",
      "model_name": "LayoutModel",
      "state": {
       "margin": "0px 5px 0px 0px",
       "width": "32px"
      }
     },
     "280d5e1087cd4811899c52870ec3630b": {
      "model_module": "@jupyter-widgets/controls",
      "model_module_version": "1.5.0",
      "model_name": "ButtonStyleModel",
      "state": {
       "button_color": "white"
      }
     },
     "288d52c168e644518507bd0a35cd5474": {
      "model_module": "@jupyter-widgets/base",
      "model_module_version": "1.2.0",
      "model_name": "LayoutModel",
      "state": {
       "max_width": "700px",
       "min_width": "700px"
      }
     },
     "289fc7a36b964ddaa33c0e95e6f0b562": {
      "model_module": "@jupyter-widgets/controls",
      "model_module_version": "1.5.0",
      "model_name": "HTMLModel",
      "state": {
       "layout": "IPY_MODEL_dc8c2f0f899243f2ab7f88804d307741",
       "style": "IPY_MODEL_1cf44568aefb44d9ac667ba3240c1270",
       "value": "-"
      }
     },
     "292b8d1b9f814b7ea020f5f1a7fa94e1": {
      "model_module": "@jupyter-widgets/base",
      "model_module_version": "1.2.0",
      "model_name": "LayoutModel",
      "state": {
       "width": "95px"
      }
     },
     "299ab34ac9be402691aaebe9c45c1833": {
      "model_module": "@jupyter-widgets/base",
      "model_module_version": "1.2.0",
      "model_name": "LayoutModel",
      "state": {
       "overflow_x": "scroll"
      }
     },
     "29bb086e5f3d4532aa4cbd8ab86d40eb": {
      "model_module": "@jupyter-widgets/base",
      "model_module_version": "1.2.0",
      "model_name": "LayoutModel",
      "state": {
       "width": "190px"
      }
     },
     "29c5de5474e74c3e92732dcb6373080a": {
      "model_module": "@jupyter-widgets/controls",
      "model_module_version": "1.5.0",
      "model_name": "ButtonStyleModel",
      "state": {
       "button_color": "white"
      }
     },
     "29f502e516eb4ba6b9f4da7be8178b2e": {
      "model_module": "@jupyter-widgets/controls",
      "model_module_version": "1.5.0",
      "model_name": "DescriptionStyleModel",
      "state": {
       "description_width": ""
      }
     },
     "2a4afe8786584dab93b5bd4a162890f1": {
      "model_module": "@jupyter-widgets/base",
      "model_module_version": "1.2.0",
      "model_name": "LayoutModel",
      "state": {
       "width": "190px"
      }
     },
     "2a5cc9fb32314b4b97096f58278979bc": {
      "model_module": "@jupyter-widgets/base",
      "model_module_version": "1.2.0",
      "model_name": "LayoutModel",
      "state": {
       "width": "190px"
      }
     },
     "2adaa60ff9d14f3d91c5ce8e8f8f4f54": {
      "model_module": "@jupyter-widgets/base",
      "model_module_version": "1.2.0",
      "model_name": "LayoutModel",
      "state": {
       "width": "70px"
      }
     },
     "2af0bace790e4f999fe2ddf31156ec5f": {
      "model_module": "@jupyter-widgets/controls",
      "model_module_version": "1.5.0",
      "model_name": "ButtonStyleModel",
      "state": {
       "button_color": "white"
      }
     },
     "2b2c10c29ac74c1085f10d09ea8aa072": {
      "model_module": "@jupyter-widgets/controls",
      "model_module_version": "1.5.0",
      "model_name": "HTMLModel",
      "state": {
       "layout": "IPY_MODEL_7eb86c35e2a8461a960192b1a8cc62ce",
       "style": "IPY_MODEL_77749d8070d14625a0abf50f084de27f",
       "value": "job has successfully run"
      }
     },
     "2b9b41fb7f5c41499c2d3985a861e35f": {
      "model_module": "@jupyter-widgets/controls",
      "model_module_version": "1.5.0",
      "model_name": "HBoxModel",
      "state": {
       "children": [
        "IPY_MODEL_526e3f26309f434997602f01c6ee8a98",
        "IPY_MODEL_8dd918df1096419192085c9ed88d47ce",
        "IPY_MODEL_7eaf461c701f4a6ea37ff5574e614495",
        "IPY_MODEL_a8adbd6e021d41ff962e994b0d4c7f6a",
        "IPY_MODEL_43d95bf0d6fb491e8bff0b39634a78da",
        "IPY_MODEL_49295924bb08475395ba0cda2c0c88f5"
       ],
       "layout": "IPY_MODEL_47c161200fc34c98856109cdff558f77"
      }
     },
     "2ca7a6734bc645c3805433b0323632c3": {
      "model_module": "@jupyter-widgets/controls",
      "model_module_version": "1.5.0",
      "model_name": "ButtonModel",
      "state": {
       "icon": "close",
       "layout": "IPY_MODEL_254929c07ec84e77b284b35ef66aa07d",
       "style": "IPY_MODEL_dc27b9ab6024444a9341f15544b1c03a"
      }
     },
     "2ce5cc494cc54315806f8df620cd6241": {
      "model_module": "@jupyter-widgets/controls",
      "model_module_version": "1.5.0",
      "model_name": "ButtonStyleModel",
      "state": {
       "button_color": "white"
      }
     },
     "2d165121e8f5491cade121abda0cb28c": {
      "model_module": "@jupyter-widgets/controls",
      "model_module_version": "1.5.0",
      "model_name": "HBoxModel",
      "state": {
       "children": [
        "IPY_MODEL_380a30e8b1fd43e482001b4b463a0cac",
        "IPY_MODEL_88a75f502e8c410f9a510ae546741a94",
        "IPY_MODEL_3622a7ee0b8441bcad2556c5ad8a2cfe",
        "IPY_MODEL_a0bf86e65a5a48b0bbb33a4eb6fe51fa",
        "IPY_MODEL_00291911865d41e9b39afa29a04c30c9",
        "IPY_MODEL_d2058278c79a45f39d65c24f36f4f558"
       ],
       "layout": "IPY_MODEL_9acb2f1507d64b0f8dc874c4f8901812"
      }
     },
     "2d487d8df77b46b28b0b45ce49a47822": {
      "model_module": "@jupyter-widgets/controls",
      "model_module_version": "1.5.0",
      "model_name": "HBoxModel",
      "state": {
       "children": [
        "IPY_MODEL_710562d40e704ea8b4ee596a1536bfc6",
        "IPY_MODEL_85d1dc3c38174b3697b0251fee354bba",
        "IPY_MODEL_1bea6728b448495aaffe67a3ef948246",
        "IPY_MODEL_b28623eeec9e44a4a37604bdd315ad1a",
        "IPY_MODEL_1431e8a22c924ab5b2647314efa745cf",
        "IPY_MODEL_d7cf6712a54b40d9aaeb7c3ac572c3ec"
       ],
       "layout": "IPY_MODEL_621263b179044f5b9101668d5c5f4ca6"
      }
     },
     "2dbddeacd47c46b7b1b31d6790508fd1": {
      "model_module": "@jupyter-widgets/base",
      "model_module_version": "1.2.0",
      "model_name": "LayoutModel",
      "state": {
       "overflow_x": "scroll"
      }
     },
     "2df565db869447129fb83ba27c0b29d2": {
      "model_module": "@jupyter-widgets/controls",
      "model_module_version": "1.5.0",
      "model_name": "HTMLModel",
      "state": {
       "layout": "IPY_MODEL_a0602902985b465394d1cfc1678e916c",
       "style": "IPY_MODEL_c482e0e39fa14ba8a8649dad753b97a0",
       "value": "ibmq_casablanca"
      }
     },
     "2ec1aef1baaf4e21881d4673dc30fef6": {
      "model_module": "@jupyter-widgets/controls",
      "model_module_version": "1.5.0",
      "model_name": "ButtonModel",
      "state": {
       "icon": "close",
       "layout": "IPY_MODEL_df168a7fc1754ac9abd5d172b6f11fe1",
       "style": "IPY_MODEL_78328a059c41407486fb06e807202760"
      }
     },
     "2f4a900ef874487db1b156b039991686": {
      "model_module": "@jupyter-widgets/controls",
      "model_module_version": "1.5.0",
      "model_name": "DescriptionStyleModel",
      "state": {
       "description_width": ""
      }
     },
     "2f833a8e824248158c6e655c53e4ec48": {
      "model_module": "@jupyter-widgets/controls",
      "model_module_version": "1.5.0",
      "model_name": "HTMLModel",
      "state": {
       "layout": "IPY_MODEL_fdf1b5dd62db4331a5975d37603e63d9",
       "style": "IPY_MODEL_dd9fd740206e4d87ab272932d7ac7a3d",
       "value": "61a10ae960e4c057836052c1"
      }
     },
     "3039a740b23249b38a7d72648462ba16": {
      "model_module": "@jupyter-widgets/controls",
      "model_module_version": "1.5.0",
      "model_name": "HTMLModel",
      "state": {
       "layout": "IPY_MODEL_d08b31fd48034442a9c5c17650436ca9",
       "style": "IPY_MODEL_b80d48ddd4984e4e87fdbef34260bc9e",
       "value": "job has successfully run"
      }
     },
     "30c66c9d39a84a048a530654f0cfb527": {
      "model_module": "@jupyter-widgets/controls",
      "model_module_version": "1.5.0",
      "model_name": "DescriptionStyleModel",
      "state": {
       "description_width": ""
      }
     },
     "30d1a3a4f67446b892031bf04e6205a4": {
      "model_module": "@jupyter-widgets/controls",
      "model_module_version": "1.5.0",
      "model_name": "DescriptionStyleModel",
      "state": {
       "description_width": ""
      }
     },
     "30e1e989ae724778b84ffaa5db5953ed": {
      "model_module": "@jupyter-widgets/base",
      "model_module_version": "1.2.0",
      "model_name": "LayoutModel",
      "state": {
       "margin": "0px 5px 0px 0px",
       "width": "32px"
      }
     },
     "31723587b6054bc5a0445942400d3522": {
      "model_module": "@jupyter-widgets/controls",
      "model_module_version": "1.5.0",
      "model_name": "DescriptionStyleModel",
      "state": {
       "description_width": ""
      }
     },
     "31a1997efa6a4cedaaaeae587386c3f8": {
      "model_module": "@jupyter-widgets/controls",
      "model_module_version": "1.5.0",
      "model_name": "HTMLModel",
      "state": {
       "layout": "IPY_MODEL_4f10d6f54e5a494c843b80bfd83e9e47",
       "style": "IPY_MODEL_8b027f6f571b4dbc849b8f69388d2f5a",
       "value": "ibmq_casablanca"
      }
     },
     "31b4fc9c8ac746cd88073c38cf05c8c5": {
      "model_module": "@jupyter-widgets/base",
      "model_module_version": "1.2.0",
      "model_name": "LayoutModel",
      "state": {
       "width": "70px"
      }
     },
     "32226aa4a787473dae7bfe013d8675dc": {
      "model_module": "@jupyter-widgets/controls",
      "model_module_version": "1.5.0",
      "model_name": "DescriptionStyleModel",
      "state": {
       "description_width": ""
      }
     },
     "32291d2693d540fda6da166bd7b7a02a": {
      "model_module": "@jupyter-widgets/controls",
      "model_module_version": "1.5.0",
      "model_name": "DescriptionStyleModel",
      "state": {
       "description_width": ""
      }
     },
     "322acc67c50c42259bcecc3f119a1dd6": {
      "model_module": "@jupyter-widgets/controls",
      "model_module_version": "1.5.0",
      "model_name": "DescriptionStyleModel",
      "state": {
       "description_width": ""
      }
     },
     "324afa3176124e818ec428b9155ea279": {
      "model_module": "@jupyter-widgets/controls",
      "model_module_version": "1.5.0",
      "model_name": "DescriptionStyleModel",
      "state": {
       "description_width": ""
      }
     },
     "325d71fe0fbb41f7b6cf711e82e9f980": {
      "model_module": "@jupyter-widgets/base",
      "model_module_version": "1.2.0",
      "model_name": "LayoutModel",
      "state": {
       "width": "190px"
      }
     },
     "33225fdea62549a395d67266c8f17d10": {
      "model_module": "@jupyter-widgets/controls",
      "model_module_version": "1.5.0",
      "model_name": "DescriptionStyleModel",
      "state": {
       "description_width": ""
      }
     },
     "3344143ce0094c728073835addf78381": {
      "model_module": "@jupyter-widgets/controls",
      "model_module_version": "1.5.0",
      "model_name": "HTMLModel",
      "state": {
       "layout": "IPY_MODEL_133e12de8ffa4e00af1970f5c60a7fc0",
       "style": "IPY_MODEL_7b7818d348b3411b8fe6230ea6fd0db1",
       "value": "ibmq_casablanca"
      }
     },
     "335fe1edd4e14097a36047f8c4470052": {
      "model_module": "@jupyter-widgets/controls",
      "model_module_version": "1.5.0",
      "model_name": "DescriptionStyleModel",
      "state": {
       "description_width": ""
      }
     },
     "3389a82dc00a457da7bc4f4b56524fe8": {
      "model_module": "@jupyter-widgets/controls",
      "model_module_version": "1.5.0",
      "model_name": "HTMLModel",
      "state": {
       "layout": "IPY_MODEL_d29b234d8feb44f29ae0441cf99dbed9",
       "style": "IPY_MODEL_4ab558bd8fc24172a1e7c34243f58fb0",
       "value": "61a12f1f83753d08a927bbe9"
      }
     },
     "33cf0944d4a445cabc52667c7ac7193f": {
      "model_module": "@jupyter-widgets/controls",
      "model_module_version": "1.5.0",
      "model_name": "ButtonStyleModel",
      "state": {}
     },
     "33e5cbbb4ee045398af394a3c6bff087": {
      "model_module": "@jupyter-widgets/base",
      "model_module_version": "1.2.0",
      "model_name": "LayoutModel",
      "state": {
       "margin": "0px 5px 0px 0px",
       "width": "32px"
      }
     },
     "346d5da7a8a342e8ae73b62d1badfe06": {
      "model_module": "@jupyter-widgets/controls",
      "model_module_version": "1.5.0",
      "model_name": "HTMLModel",
      "state": {
       "layout": "IPY_MODEL_b5af131abf6d40ef8c955c1efe8c78ea",
       "style": "IPY_MODEL_477148ab5c47477394bce1caf66fd53a",
       "value": "job has successfully run"
      }
     },
     "346e6bd85f724939b65c7f1335a7a00b": {
      "model_module": "@jupyter-widgets/controls",
      "model_module_version": "1.5.0",
      "model_name": "HTMLModel",
      "state": {
       "layout": "IPY_MODEL_c54e0c43b1b24d54a23845d1e5cb015e",
       "style": "IPY_MODEL_2f4a900ef874487db1b156b039991686",
       "value": "job has successfully run"
      }
     },
     "349fa558fc564d1885af64b961f821c6": {
      "model_module": "@jupyter-widgets/controls",
      "model_module_version": "1.5.0",
      "model_name": "DescriptionStyleModel",
      "state": {
       "description_width": ""
      }
     },
     "34f48d8e2540445b86b4251123135838": {
      "model_module": "@jupyter-widgets/controls",
      "model_module_version": "1.5.0",
      "model_name": "DescriptionStyleModel",
      "state": {
       "description_width": ""
      }
     },
     "35e1692734f24c56822e47f6775550df": {
      "model_module": "@jupyter-widgets/controls",
      "model_module_version": "1.5.0",
      "model_name": "DescriptionStyleModel",
      "state": {
       "description_width": ""
      }
     },
     "360c94d654ae486db6c23e9b0b862ee1": {
      "model_module": "@jupyter-widgets/base",
      "model_module_version": "1.2.0",
      "model_name": "LayoutModel",
      "state": {
       "width": "95px"
      }
     },
     "3622a7ee0b8441bcad2556c5ad8a2cfe": {
      "model_module": "@jupyter-widgets/controls",
      "model_module_version": "1.5.0",
      "model_name": "HTMLModel",
      "state": {
       "layout": "IPY_MODEL_4e05d90717cc4c44b8d133f301c5b3f4",
       "style": "IPY_MODEL_ee6c1fd08eac4d31a340ce5d5b9c8a42",
       "value": "ibmq_casablanca"
      }
     },
     "365258ec0b464fa2ad117a736b1907ee": {
      "model_module": "@jupyter-widgets/controls",
      "model_module_version": "1.5.0",
      "model_name": "ButtonStyleModel",
      "state": {
       "button_color": "white"
      }
     },
     "37217ceb6bbc4f1486235556e58e964d": {
      "model_module": "@jupyter-widgets/controls",
      "model_module_version": "1.5.0",
      "model_name": "HTMLModel",
      "state": {
       "layout": "IPY_MODEL_bc7502bdf1df4d6995593f609d800872",
       "style": "IPY_MODEL_bedb26cb52164463802330f9c57182eb",
       "value": "ibmq_casablanca"
      }
     },
     "3772f6f4d3c84f8aa0317a1ea53d5ea2": {
      "model_module": "@jupyter-widgets/base",
      "model_module_version": "1.2.0",
      "model_name": "LayoutModel",
      "state": {
       "width": "95px"
      }
     },
     "37a548637e09440eb08c5ee3b88bcc05": {
      "model_module": "@jupyter-widgets/controls",
      "model_module_version": "1.5.0",
      "model_name": "HTMLModel",
      "state": {
       "layout": "IPY_MODEL_3afcae041cd04e98aaf170265ffd815d",
       "style": "IPY_MODEL_9ec17449fb6d44fc97cbf11ab420aac8",
       "value": "ibmq_casablanca"
      }
     },
     "37bb443359ea4740a8e85cafbad227a9": {
      "model_module": "@jupyter-widgets/controls",
      "model_module_version": "1.5.0",
      "model_name": "HTMLModel",
      "state": {
       "layout": "IPY_MODEL_e9e29b673c3b45f7b36673ef09499478",
       "style": "IPY_MODEL_668ede6abe34490a828d38ee9351014b",
       "value": "<font style='color:#34BC6E'>DONE</font>"
      }
     },
     "3801693874ad49238483327ee0f5c164": {
      "model_module": "@jupyter-widgets/base",
      "model_module_version": "1.2.0",
      "model_name": "LayoutModel",
      "state": {
       "width": "145px"
      }
     },
     "380a30e8b1fd43e482001b4b463a0cac": {
      "model_module": "@jupyter-widgets/controls",
      "model_module_version": "1.5.0",
      "model_name": "ButtonModel",
      "state": {
       "icon": "close",
       "layout": "IPY_MODEL_fb4ef0e0cbee4f488a79feb52258ead8",
       "style": "IPY_MODEL_c932dc162cc848b39a705de7e8a8ee87"
      }
     },
     "380ef99618d04239abff4217b7429c64": {
      "model_module": "@jupyter-widgets/controls",
      "model_module_version": "1.5.0",
      "model_name": "DescriptionStyleModel",
      "state": {
       "description_width": ""
      }
     },
     "383d48f74cfb461a804f7de5e3ea3fb3": {
      "model_module": "@jupyter-widgets/controls",
      "model_module_version": "1.5.0",
      "model_name": "DescriptionStyleModel",
      "state": {
       "description_width": ""
      }
     },
     "38503a9c2fde43c7849891ca88aa9a8a": {
      "model_module": "@jupyter-widgets/base",
      "model_module_version": "1.2.0",
      "model_name": "LayoutModel",
      "state": {
       "max_width": "700px",
       "min_width": "700px"
      }
     },
     "38c08255f71d46e783e0479f6c93f6f6": {
      "model_module": "@jupyter-widgets/base",
      "model_module_version": "1.2.0",
      "model_name": "LayoutModel",
      "state": {
       "margin": "0px 5px 0px 0px",
       "width": "32px"
      }
     },
     "38f2768bf71a426d9e2438023acaf4bc": {
      "model_module": "@jupyter-widgets/controls",
      "model_module_version": "1.5.0",
      "model_name": "HBoxModel",
      "state": {
       "children": [
        "IPY_MODEL_c3f7af9a896f4db6abab8ab98292c074",
        "IPY_MODEL_0bc4020901ee46569487855062a33b33",
        "IPY_MODEL_67e8a05301454f8e90171b6f224dd2ca",
        "IPY_MODEL_21ce9f19a1f94d8ba226650cc4a1fcd2",
        "IPY_MODEL_e5cf1f5197aa483ebfb5cb3a879d8abd",
        "IPY_MODEL_7df7111c811d418dacc407ff037bd44e"
       ],
       "layout": "IPY_MODEL_0e2df3a52239470bae55205f5c12e86e"
      }
     },
     "39c189cc0cc8482daa722d145834d559": {
      "model_module": "@jupyter-widgets/controls",
      "model_module_version": "1.5.0",
      "model_name": "DescriptionStyleModel",
      "state": {
       "description_width": ""
      }
     },
     "3afcae041cd04e98aaf170265ffd815d": {
      "model_module": "@jupyter-widgets/base",
      "model_module_version": "1.2.0",
      "model_name": "LayoutModel",
      "state": {
       "width": "145px"
      }
     },
     "3b0a253fde144fcbb174cdb41d4d186e": {
      "model_module": "@jupyter-widgets/base",
      "model_module_version": "1.2.0",
      "model_name": "LayoutModel",
      "state": {
       "width": "95px"
      }
     },
     "3b43937b1074497ea381fe38096841bd": {
      "model_module": "@jupyter-widgets/controls",
      "model_module_version": "1.5.0",
      "model_name": "DescriptionStyleModel",
      "state": {
       "description_width": ""
      }
     },
     "3b8202d5f49e4a698dbf2d87ee6685e0": {
      "model_module": "@jupyter-widgets/controls",
      "model_module_version": "1.5.0",
      "model_name": "HTMLModel",
      "state": {
       "layout": "IPY_MODEL_325d71fe0fbb41f7b6cf711e82e9f980",
       "style": "IPY_MODEL_c1a3ec91d8eb482db31659e25bf4fc31",
       "value": "61a131a1398b84e9b7c29465"
      }
     },
     "3bde248c5a6d41379278f4e49ca6a9c4": {
      "model_module": "@jupyter-widgets/base",
      "model_module_version": "1.2.0",
      "model_name": "LayoutModel",
      "state": {
       "width": "190px"
      }
     },
     "3d4aaf6076f4480e90e7804d999c8365": {
      "model_module": "@jupyter-widgets/base",
      "model_module_version": "1.2.0",
      "model_name": "LayoutModel",
      "state": {
       "width": "145px"
      }
     },
     "3d7cfddab8ba4f738c193d68790d1dbb": {
      "model_module": "@jupyter-widgets/controls",
      "model_module_version": "1.5.0",
      "model_name": "ButtonModel",
      "state": {
       "icon": "close",
       "layout": "IPY_MODEL_33e5cbbb4ee045398af394a3c6bff087",
       "style": "IPY_MODEL_27263c055d1542188a7f78bf5f857282"
      }
     },
     "3dc09aab18f54e52bc0e56a661ae1bff": {
      "model_module": "@jupyter-widgets/controls",
      "model_module_version": "1.5.0",
      "model_name": "DescriptionStyleModel",
      "state": {
       "description_width": ""
      }
     },
     "3e06d9e0e7914a91812a7d74159d88e7": {
      "model_module": "@jupyter-widgets/controls",
      "model_module_version": "1.5.0",
      "model_name": "DescriptionStyleModel",
      "state": {
       "description_width": ""
      }
     },
     "3e5ed051e743415d9e20c7a67aa4d3e3": {
      "model_module": "@jupyter-widgets/base",
      "model_module_version": "1.2.0",
      "model_name": "LayoutModel",
      "state": {
       "max_width": "700px",
       "min_width": "700px"
      }
     },
     "3e9c01195ff84cf8a12d4e6c477cde90": {
      "model_module": "@jupyter-widgets/controls",
      "model_module_version": "1.5.0",
      "model_name": "ButtonStyleModel",
      "state": {
       "button_color": "white"
      }
     },
     "3edc40e74090453495219834f346c687": {
      "model_module": "@jupyter-widgets/controls",
      "model_module_version": "1.5.0",
      "model_name": "HTMLModel",
      "state": {
       "layout": "IPY_MODEL_e6e100f6e2634c058e22e1f0e657ba80",
       "style": "IPY_MODEL_0a2d1b5d42f6436693f5f2e79f116ca6",
       "value": "job has successfully run"
      }
     },
     "3f0f0adf31704d1ca99126fa4e74fd51": {
      "model_module": "@jupyter-widgets/base",
      "model_module_version": "1.2.0",
      "model_name": "LayoutModel",
      "state": {
       "width": "95px"
      }
     },
     "3f55f58becfd4434b2a9c33771ffe05c": {
      "model_module": "@jupyter-widgets/controls",
      "model_module_version": "1.5.0",
      "model_name": "DescriptionStyleModel",
      "state": {
       "description_width": ""
      }
     },
     "3f8c2ec17e4149b98c8bd90242815cea": {
      "model_module": "@jupyter-widgets/base",
      "model_module_version": "1.2.0",
      "model_name": "LayoutModel",
      "state": {
       "width": "70px"
      }
     },
     "403dae499e814d8b83f7439d1dcb230f": {
      "model_module": "@jupyter-widgets/controls",
      "model_module_version": "1.5.0",
      "model_name": "ButtonStyleModel",
      "state": {
       "button_color": "white"
      }
     },
     "405c1c7d235749148c473d044002a0a6": {
      "model_module": "@jupyter-widgets/base",
      "model_module_version": "1.2.0",
      "model_name": "LayoutModel",
      "state": {
       "width": "70px"
      }
     },
     "40761f61e0484876942aa14c6651e765": {
      "model_module": "@jupyter-widgets/base",
      "model_module_version": "1.2.0",
      "model_name": "LayoutModel",
      "state": {
       "width": "190px"
      }
     },
     "40d24a98695744748319ca4f3a0b6494": {
      "model_module": "@jupyter-widgets/controls",
      "model_module_version": "1.5.0",
      "model_name": "HTMLModel",
      "state": {
       "layout": "IPY_MODEL_d563c37137a649e9bb20f74827a0da35",
       "style": "IPY_MODEL_6bde1afccd034b6e940ff3d512aa33bd",
       "value": "-"
      }
     },
     "42089eabbcbc4ae6b6595679d96cbb59": {
      "model_module": "@jupyter-widgets/controls",
      "model_module_version": "1.5.0",
      "model_name": "DescriptionStyleModel",
      "state": {
       "description_width": ""
      }
     },
     "431fa5cd085a4295b8132b127e4546be": {
      "model_module": "@jupyter-widgets/controls",
      "model_module_version": "1.5.0",
      "model_name": "HTMLModel",
      "state": {
       "layout": "IPY_MODEL_8d94bc4215054807871f1c2f3f5e9a34",
       "style": "IPY_MODEL_f45407239e304fec8b728716e756631f",
       "value": "<font style='color:#34BC6E'>DONE</font>"
      }
     },
     "432b75f1294a454188aea1478602c268": {
      "model_module": "@jupyter-widgets/controls",
      "model_module_version": "1.5.0",
      "model_name": "DescriptionStyleModel",
      "state": {
       "description_width": ""
      }
     },
     "43476b8d73264ccabdeac46441706a83": {
      "model_module": "@jupyter-widgets/controls",
      "model_module_version": "1.5.0",
      "model_name": "HTMLModel",
      "state": {
       "layout": "IPY_MODEL_76049b8fb79143b6ab3cafeb52ca65d6",
       "style": "IPY_MODEL_d46a0bbd4f654bf6ba161dfd8f538eee",
       "value": "<font style='color:#34BC6E'>DONE</font>"
      }
     },
     "4354e400b6a04dfdaa62ffc5933c7395": {
      "model_module": "@jupyter-widgets/controls",
      "model_module_version": "1.5.0",
      "model_name": "HTMLModel",
      "state": {
       "layout": "IPY_MODEL_03410bfe7de74e4b9c8b1d1e9cdfb485",
       "style": "IPY_MODEL_dafc05e18eed4a249611361c8227aa60",
       "value": "-"
      }
     },
     "435838760d1d4ebeac718cace43e6135": {
      "model_module": "@jupyter-widgets/base",
      "model_module_version": "1.2.0",
      "model_name": "LayoutModel",
      "state": {
       "width": "145px"
      }
     },
     "43d95bf0d6fb491e8bff0b39634a78da": {
      "model_module": "@jupyter-widgets/controls",
      "model_module_version": "1.5.0",
      "model_name": "HTMLModel",
      "state": {
       "layout": "IPY_MODEL_722ab26a241b4750a690e97e2031c99b",
       "style": "IPY_MODEL_e1bcfe3519594131a7abda76199e0afe",
       "value": "-"
      }
     },
     "43d9ed489ce64e5faaf24ae42b4b5557": {
      "model_module": "@jupyter-widgets/controls",
      "model_module_version": "1.5.0",
      "model_name": "DescriptionStyleModel",
      "state": {
       "description_width": ""
      }
     },
     "43fd4de673e240d2a5e19ca26af9f2a1": {
      "model_module": "@jupyter-widgets/base",
      "model_module_version": "1.2.0",
      "model_name": "LayoutModel",
      "state": {
       "width": "145px"
      }
     },
     "441787916e0f42a3a7c6c49af8fd2904": {
      "model_module": "@jupyter-widgets/base",
      "model_module_version": "1.2.0",
      "model_name": "LayoutModel",
      "state": {
       "width": "145px"
      }
     },
     "446725af196d4b88b61926e2d782df4e": {
      "model_module": "@jupyter-widgets/controls",
      "model_module_version": "1.5.0",
      "model_name": "ButtonModel",
      "state": {
       "icon": "close",
       "layout": "IPY_MODEL_c5a933ed49a54118ab014737a66a0c95",
       "style": "IPY_MODEL_be0a0fc59473442c9e40926b14c6ade7"
      }
     },
     "4480d23017144b80a93bd33554954550": {
      "model_module": "@jupyter-widgets/controls",
      "model_module_version": "1.5.0",
      "model_name": "DescriptionStyleModel",
      "state": {
       "description_width": ""
      }
     },
     "448628a8997c4b92963c5cc89fe00ad0": {
      "model_module": "@jupyter-widgets/controls",
      "model_module_version": "1.5.0",
      "model_name": "DescriptionStyleModel",
      "state": {
       "description_width": ""
      }
     },
     "44f9ecae39934ec68534c0605833cfad": {
      "model_module": "@jupyter-widgets/controls",
      "model_module_version": "1.5.0",
      "model_name": "HTMLModel",
      "state": {
       "layout": "IPY_MODEL_3bde248c5a6d41379278f4e49ca6a9c4",
       "style": "IPY_MODEL_3f55f58becfd4434b2a9c33771ffe05c",
       "value": "61a1305cfd3a886db959031c"
      }
     },
     "452d53f14edc4e9ba8d2bd8252f993d3": {
      "model_module": "@jupyter-widgets/base",
      "model_module_version": "1.2.0",
      "model_name": "LayoutModel",
      "state": {
       "width": "70px"
      }
     },
     "45a77684389949d6835e3cf30374d2ad": {
      "model_module": "@jupyter-widgets/base",
      "model_module_version": "1.2.0",
      "model_name": "LayoutModel",
      "state": {
       "margin": "0px 0px 0px 37px",
       "width": "600px"
      }
     },
     "46bd5c8238264786ad7c5afbe14cac92": {
      "model_module": "@jupyter-widgets/base",
      "model_module_version": "1.2.0",
      "model_name": "LayoutModel",
      "state": {
       "width": "95px"
      }
     },
     "4751d3845ede4e9299d84d35b80bd4c3": {
      "model_module": "@jupyter-widgets/controls",
      "model_module_version": "1.5.0",
      "model_name": "DescriptionStyleModel",
      "state": {
       "description_width": ""
      }
     },
     "477148ab5c47477394bce1caf66fd53a": {
      "model_module": "@jupyter-widgets/controls",
      "model_module_version": "1.5.0",
      "model_name": "DescriptionStyleModel",
      "state": {
       "description_width": ""
      }
     },
     "47773dc84c914c5a9faf8a054a8cc536": {
      "model_module": "@jupyter-widgets/controls",
      "model_module_version": "1.5.0",
      "model_name": "HTMLModel",
      "state": {
       "layout": "IPY_MODEL_77e800d44a4a496f8eb665fc1c146e84",
       "style": "IPY_MODEL_4bc8bc45c83c4504a5ec595e01237020",
       "value": "job has successfully run"
      }
     },
     "47c161200fc34c98856109cdff558f77": {
      "model_module": "@jupyter-widgets/base",
      "model_module_version": "1.2.0",
      "model_name": "LayoutModel",
      "state": {
       "max_width": "700px",
       "min_width": "700px"
      }
     },
     "480a0966075041bdb48ec7a4c0093276": {
      "model_module": "@jupyter-widgets/controls",
      "model_module_version": "1.5.0",
      "model_name": "ButtonModel",
      "state": {
       "icon": "close",
       "layout": "IPY_MODEL_a1da6d033e174a29bffc4aea804d5e64",
       "style": "IPY_MODEL_ea6d46b7df4c491b833b2803c7b5a223"
      }
     },
     "4847d3e37e0a47fab1c8e28081be3c6d": {
      "model_module": "@jupyter-widgets/controls",
      "model_module_version": "1.5.0",
      "model_name": "ButtonStyleModel",
      "state": {
       "button_color": "white"
      }
     },
     "4876b54d61d94b1fbfc760d0999d0e1b": {
      "model_module": "@jupyter-widgets/controls",
      "model_module_version": "1.5.0",
      "model_name": "HBoxModel",
      "state": {
       "children": [
        "IPY_MODEL_92d2e2f4394b464aae60f022eb3f799c",
        "IPY_MODEL_ee7b2393ca34470d92ea52182d28a3fc",
        "IPY_MODEL_a9db48f2d7504bf9ab1a699c2d09c0d6",
        "IPY_MODEL_a776a9ddf07b4428921845d49bb536da",
        "IPY_MODEL_b5b86f9e3c48489f9355cd7a3316a150",
        "IPY_MODEL_78d50257fa454b9bb8124871a91e35ca"
       ],
       "layout": "IPY_MODEL_bdb983807fc648699a0c9012f3e4b918"
      }
     },
     "4929078bb2f740cfadd033c53e26a97e": {
      "model_module": "@jupyter-widgets/controls",
      "model_module_version": "1.5.0",
      "model_name": "ButtonModel",
      "state": {
       "icon": "close",
       "layout": "IPY_MODEL_82b8ea41b842422aa7ee4ae925b24e50",
       "style": "IPY_MODEL_fbb7f47cb92746deb1a848e0f4d23b56"
      }
     },
     "49295924bb08475395ba0cda2c0c88f5": {
      "model_module": "@jupyter-widgets/controls",
      "model_module_version": "1.5.0",
      "model_name": "HTMLModel",
      "state": {
       "layout": "IPY_MODEL_699aac36416c400fbdab7ea0562b76ed",
       "style": "IPY_MODEL_448628a8997c4b92963c5cc89fe00ad0",
       "value": "job has successfully run"
      }
     },
     "49471f2221cd4e068cf5a38ca48d135b": {
      "model_module": "@jupyter-widgets/controls",
      "model_module_version": "1.5.0",
      "model_name": "ButtonModel",
      "state": {
       "icon": "close",
       "layout": "IPY_MODEL_8600d3c087ab47c1aac6b15b19f3ce0b",
       "style": "IPY_MODEL_b7f7fb88a5cb40c2ac67f6252b4a4602"
      }
     },
     "495a7db946c04d4dac1d7cfd7d69ea61": {
      "model_module": "@jupyter-widgets/controls",
      "model_module_version": "1.5.0",
      "model_name": "DescriptionStyleModel",
      "state": {
       "description_width": ""
      }
     },
     "4987440dcd8f47d0ae3127480fc09518": {
      "model_module": "@jupyter-widgets/controls",
      "model_module_version": "1.5.0",
      "model_name": "HTMLModel",
      "state": {
       "layout": "IPY_MODEL_2a4afe8786584dab93b5bd4a162890f1",
       "style": "IPY_MODEL_8f9162b6d4df4877908760c1c9d4339c",
       "value": "61a11092cbd506c18bfefd95"
      }
     },
     "49a9f7567a76406c847db1ba137eebf9": {
      "model_module": "@jupyter-widgets/base",
      "model_module_version": "1.2.0",
      "model_name": "LayoutModel",
      "state": {
       "width": "70px"
      }
     },
     "4a235d7530df46089f96f768330708a9": {
      "model_module": "@jupyter-widgets/controls",
      "model_module_version": "1.5.0",
      "model_name": "DescriptionStyleModel",
      "state": {
       "description_width": ""
      }
     },
     "4a25d4a7707b4f7e87613bf41d845c84": {
      "model_module": "@jupyter-widgets/base",
      "model_module_version": "1.2.0",
      "model_name": "LayoutModel",
      "state": {
       "margin": "0px 5px 0px 0px",
       "width": "32px"
      }
     },
     "4a37b816fc0f4a9b91b488102fceead4": {
      "model_module": "@jupyter-widgets/base",
      "model_module_version": "1.2.0",
      "model_name": "LayoutModel",
      "state": {
       "margin": "0px 5px 0px 0px",
       "width": "32px"
      }
     },
     "4ab558bd8fc24172a1e7c34243f58fb0": {
      "model_module": "@jupyter-widgets/controls",
      "model_module_version": "1.5.0",
      "model_name": "DescriptionStyleModel",
      "state": {
       "description_width": ""
      }
     },
     "4bc8bc45c83c4504a5ec595e01237020": {
      "model_module": "@jupyter-widgets/controls",
      "model_module_version": "1.5.0",
      "model_name": "DescriptionStyleModel",
      "state": {
       "description_width": ""
      }
     },
     "4c6439e174de4ed1b8967855a1d4ae5c": {
      "model_module": "@jupyter-widgets/controls",
      "model_module_version": "1.5.0",
      "model_name": "DescriptionStyleModel",
      "state": {
       "description_width": ""
      }
     },
     "4cc5e8339ec24c098cd3825f63b358bf": {
      "model_module": "@jupyter-widgets/base",
      "model_module_version": "1.2.0",
      "model_name": "LayoutModel",
      "state": {
       "overflow_x": "scroll"
      }
     },
     "4ce4c0c736e44bd08c4b9816c48372b0": {
      "model_module": "@jupyter-widgets/controls",
      "model_module_version": "1.5.0",
      "model_name": "DescriptionStyleModel",
      "state": {
       "description_width": ""
      }
     },
     "4d502a7a0d9e4c058c80a1f64ac9f0d4": {
      "model_module": "@jupyter-widgets/base",
      "model_module_version": "1.2.0",
      "model_name": "LayoutModel",
      "state": {
       "width": "145px"
      }
     },
     "4d751f3a49c24353a40ea7c10939dc30": {
      "model_module": "@jupyter-widgets/base",
      "model_module_version": "1.2.0",
      "model_name": "LayoutModel",
      "state": {
       "overflow_x": "scroll"
      }
     },
     "4e05d90717cc4c44b8d133f301c5b3f4": {
      "model_module": "@jupyter-widgets/base",
      "model_module_version": "1.2.0",
      "model_name": "LayoutModel",
      "state": {
       "width": "145px"
      }
     },
     "4ed324651d254f26944877b8f0faa31c": {
      "model_module": "@jupyter-widgets/controls",
      "model_module_version": "1.5.0",
      "model_name": "HTMLModel",
      "state": {
       "layout": "IPY_MODEL_bff64d5f8ae54adab8f682e761578993",
       "style": "IPY_MODEL_2218ccc4390c4862b7332312e51892e9",
       "value": "job has successfully run"
      }
     },
     "4f10d6f54e5a494c843b80bfd83e9e47": {
      "model_module": "@jupyter-widgets/base",
      "model_module_version": "1.2.0",
      "model_name": "LayoutModel",
      "state": {
       "width": "145px"
      }
     },
     "4f1d660fd45e4fb291d23c2586f3c9de": {
      "model_module": "@jupyter-widgets/controls",
      "model_module_version": "1.5.0",
      "model_name": "DescriptionStyleModel",
      "state": {
       "description_width": ""
      }
     },
     "4f1e47a0af80426e8be65b0e20ce551b": {
      "model_module": "@jupyter-widgets/controls",
      "model_module_version": "1.5.0",
      "model_name": "DescriptionStyleModel",
      "state": {
       "description_width": ""
      }
     },
     "4ff47e69c988491e9e521e453771ab5f": {
      "model_module": "@jupyter-widgets/base",
      "model_module_version": "1.2.0",
      "model_name": "LayoutModel",
      "state": {
       "max_width": "700px",
       "min_width": "700px"
      }
     },
     "501d00cc5f2646789f4e32918073f9c0": {
      "model_module": "@jupyter-widgets/base",
      "model_module_version": "1.2.0",
      "model_name": "LayoutModel",
      "state": {
       "margin": "0px 5px 0px 0px",
       "width": "32px"
      }
     },
     "508d904f359044398a0182b56ff5c8ce": {
      "model_module": "@jupyter-widgets/controls",
      "model_module_version": "1.5.0",
      "model_name": "HTMLModel",
      "state": {
       "layout": "IPY_MODEL_52c87d4e2da8498398e9da96ee98f7ce",
       "style": "IPY_MODEL_861d9e632c724f3d894c906e39b20a61",
       "value": "<font style='color:#34BC6E'>DONE</font>"
      }
     },
     "51107a66ce6145b6a06b1ff20765c98e": {
      "model_module": "@jupyter-widgets/controls",
      "model_module_version": "1.5.0",
      "model_name": "HTMLModel",
      "state": {
       "layout": "IPY_MODEL_542bc188d01e4b29893359a7f447a441",
       "style": "IPY_MODEL_859698371e92497daf5c6d8329ff69f7",
       "value": "-"
      }
     },
     "5165c706973a491a8e6f1b87d2af0871": {
      "model_module": "@jupyter-widgets/base",
      "model_module_version": "1.2.0",
      "model_name": "LayoutModel",
      "state": {
       "width": "95px"
      }
     },
     "51768ca49f0a4d6f9696afdbc8a1741c": {
      "model_module": "@jupyter-widgets/controls",
      "model_module_version": "1.5.0",
      "model_name": "HTMLModel",
      "state": {
       "layout": "IPY_MODEL_6b177f6413c5450ca4c4f3371cbbff94",
       "style": "IPY_MODEL_72710420ee3f45a5bafcec565f91b2ba",
       "value": "-"
      }
     },
     "5193840e142647acb1d4364abde13d14": {
      "model_module": "@jupyter-widgets/controls",
      "model_module_version": "1.5.0",
      "model_name": "DescriptionStyleModel",
      "state": {
       "description_width": ""
      }
     },
     "51b40d080122410e9c4c405ec5661490": {
      "model_module": "@jupyter-widgets/controls",
      "model_module_version": "1.5.0",
      "model_name": "DescriptionStyleModel",
      "state": {
       "description_width": ""
      }
     },
     "52008971ada84dadb4a7c4e825d872b4": {
      "model_module": "@jupyter-widgets/controls",
      "model_module_version": "1.5.0",
      "model_name": "HBoxModel",
      "state": {
       "children": [
        "IPY_MODEL_fcaf1e3b48b946619f4c00f702bbb354",
        "IPY_MODEL_c4bc81c917044aa3899b9ae7b0c50bd1",
        "IPY_MODEL_31a1997efa6a4cedaaaeae587386c3f8",
        "IPY_MODEL_7375d950624d4c0aa5bc93bc2f18aa31",
        "IPY_MODEL_51768ca49f0a4d6f9696afdbc8a1741c",
        "IPY_MODEL_b268feddbcd24866916f927fef0c08bb"
       ],
       "layout": "IPY_MODEL_7075c27ad10d4cffa1e44728f33d1a0a"
      }
     },
     "523f73a7d7104b2fba2a7387cdf62574": {
      "model_module": "@jupyter-widgets/base",
      "model_module_version": "1.2.0",
      "model_name": "LayoutModel",
      "state": {
       "width": "95px"
      }
     },
     "526e3f26309f434997602f01c6ee8a98": {
      "model_module": "@jupyter-widgets/controls",
      "model_module_version": "1.5.0",
      "model_name": "ButtonModel",
      "state": {
       "icon": "close",
       "layout": "IPY_MODEL_30e1e989ae724778b84ffaa5db5953ed",
       "style": "IPY_MODEL_e4b80590c30f4a2d940166a0a27180b9"
      }
     },
     "52c3db81f98846239be6cc186a9ea1e5": {
      "model_module": "@jupyter-widgets/controls",
      "model_module_version": "1.5.0",
      "model_name": "DescriptionStyleModel",
      "state": {
       "description_width": ""
      }
     },
     "52c87d4e2da8498398e9da96ee98f7ce": {
      "model_module": "@jupyter-widgets/base",
      "model_module_version": "1.2.0",
      "model_name": "LayoutModel",
      "state": {
       "width": "95px"
      }
     },
     "532cdf4cfdee4c20bf9c6633d32b766d": {
      "model_module": "@jupyter-widgets/controls",
      "model_module_version": "1.5.0",
      "model_name": "DescriptionStyleModel",
      "state": {
       "description_width": ""
      }
     },
     "533e537aa8104dccbd99a21a1b1318f6": {
      "model_module": "@jupyter-widgets/base",
      "model_module_version": "1.2.0",
      "model_name": "LayoutModel",
      "state": {
       "width": "190px"
      }
     },
     "53412f6182574d8bb90df0065f2f2ded": {
      "model_module": "@jupyter-widgets/base",
      "model_module_version": "1.2.0",
      "model_name": "LayoutModel",
      "state": {
       "max_width": "700px",
       "min_width": "700px"
      }
     },
     "53a4b9b47ad54fa099b20a7031e7ffce": {
      "model_module": "@jupyter-widgets/controls",
      "model_module_version": "1.5.0",
      "model_name": "ButtonStyleModel",
      "state": {
       "button_color": "white"
      }
     },
     "542bc188d01e4b29893359a7f447a441": {
      "model_module": "@jupyter-widgets/base",
      "model_module_version": "1.2.0",
      "model_name": "LayoutModel",
      "state": {
       "width": "70px"
      }
     },
     "54f3eb944c224decac9374a0cc6a9f37": {
      "model_module": "@jupyter-widgets/base",
      "model_module_version": "1.2.0",
      "model_name": "LayoutModel",
      "state": {
       "width": "145px"
      }
     },
     "5583275730384ad4b7fc36aa14af3315": {
      "model_module": "@jupyter-widgets/base",
      "model_module_version": "1.2.0",
      "model_name": "LayoutModel",
      "state": {
       "overflow_x": "scroll"
      }
     },
     "55ecdb067e8d42e4a9e295d5a464ca27": {
      "model_module": "@jupyter-widgets/controls",
      "model_module_version": "1.5.0",
      "model_name": "HTMLModel",
      "state": {
       "layout": "IPY_MODEL_292b8d1b9f814b7ea020f5f1a7fa94e1",
       "style": "IPY_MODEL_6460f876668745f994b9b77b4e83d16d",
       "value": "<font style='color:#34BC6E'>DONE</font>"
      }
     },
     "563969c1ee8d4344a47650d8a2b463d2": {
      "model_module": "@jupyter-widgets/controls",
      "model_module_version": "1.5.0",
      "model_name": "HBoxModel",
      "state": {
       "children": [
        "IPY_MODEL_21a341f6c6f546a68cc035797ffecd06",
        "IPY_MODEL_02c69857c8c84319ade95bd56c1b9154",
        "IPY_MODEL_f6897318243c4330850bf0ec7c49e7c6",
        "IPY_MODEL_09a2ac2c8f734aaab87e46c83b593b96",
        "IPY_MODEL_b1c492f45239434d82844cd5f1da90f4",
        "IPY_MODEL_2b2c10c29ac74c1085f10d09ea8aa072"
       ],
       "layout": "IPY_MODEL_f3f18f6709214427b60bc35c39cdbcf3"
      }
     },
     "56c8913e489249f7bd1cccdb328adff4": {
      "model_module": "@jupyter-widgets/controls",
      "model_module_version": "1.5.0",
      "model_name": "HTMLModel",
      "state": {
       "layout": "IPY_MODEL_8025311212bf453684937c039ae3a596",
       "style": "IPY_MODEL_a6ab4df437524f5b8fe6be5dc8c09161",
       "value": "1"
      }
     },
     "5715d8640a56488c8661bf03e132fe86": {
      "model_module": "@jupyter-widgets/base",
      "model_module_version": "1.2.0",
      "model_name": "LayoutModel",
      "state": {
       "margin": "0px 5px 0px 0px",
       "width": "32px"
      }
     },
     "57a3ffc3e8b4468589d53899a4cb1cd0": {
      "model_module": "@jupyter-widgets/controls",
      "model_module_version": "1.5.0",
      "model_name": "HBoxModel",
      "state": {
       "children": [
        "IPY_MODEL_ad85621ec2954d029eab75d927d70063",
        "IPY_MODEL_2560b54caf7b463e904dc3d32e53baea",
        "IPY_MODEL_0d705db4104444a1b03b2d94fe529fa0",
        "IPY_MODEL_79ca129e890945febf1810ca0f832120",
        "IPY_MODEL_2142223828ec40a69cd2e4c69028336f",
        "IPY_MODEL_a7b6dedff2a04dd6a90cbce1683d38b2"
       ],
       "layout": "IPY_MODEL_0711455d34c747de9cb31f2afbaee59b"
      }
     },
     "58468697d6eb4dc3820989bd24d2f00f": {
      "model_module": "@jupyter-widgets/controls",
      "model_module_version": "1.5.0",
      "model_name": "HTMLModel",
      "state": {
       "layout": "IPY_MODEL_05c649973c89460e83ca3f81c87b0c1f",
       "style": "IPY_MODEL_0c69818863e7406380a39d2af2baa981",
       "value": "ibmq_casablanca"
      }
     },
     "58504cd37d0843029ddb105a53fb45f4": {
      "model_module": "@jupyter-widgets/base",
      "model_module_version": "1.2.0",
      "model_name": "LayoutModel",
      "state": {
       "width": "190px"
      }
     },
     "58bad0130e4f448fa78f29e3950bf4a1": {
      "model_module": "@jupyter-widgets/controls",
      "model_module_version": "1.5.0",
      "model_name": "HTMLModel",
      "state": {
       "layout": "IPY_MODEL_983b25d5aaf54380ab7dca9e403dad07",
       "style": "IPY_MODEL_3dc09aab18f54e52bc0e56a661ae1bff",
       "value": "<font style='color:#34BC6E'>DONE</font>"
      }
     },
     "58ebccca9e0c477c98a842a5b4c41840": {
      "model_module": "@jupyter-widgets/base",
      "model_module_version": "1.2.0",
      "model_name": "LayoutModel",
      "state": {
       "overflow_x": "scroll"
      }
     },
     "59ab3b7c8614435c81b1695971d94542": {
      "model_module": "@jupyter-widgets/controls",
      "model_module_version": "1.5.0",
      "model_name": "ButtonStyleModel",
      "state": {
       "button_color": "white"
      }
     },
     "59ad0ceb61aa4371b20af5264469dfb0": {
      "model_module": "@jupyter-widgets/controls",
      "model_module_version": "1.5.0",
      "model_name": "HTMLModel",
      "state": {
       "layout": "IPY_MODEL_1259925925ae47068dbaf466918ec402",
       "style": "IPY_MODEL_20ac821fa2da4ebcb96bd850832209d8",
       "value": "61a107aba6ac301388902fd2"
      }
     },
     "59c36c6bead14710a1eebedf40c27666": {
      "model_module": "@jupyter-widgets/controls",
      "model_module_version": "1.5.0",
      "model_name": "DescriptionStyleModel",
      "state": {
       "description_width": ""
      }
     },
     "59ed880bcde5403bacae72be8dde04dc": {
      "model_module": "@jupyter-widgets/base",
      "model_module_version": "1.2.0",
      "model_name": "LayoutModel",
      "state": {
       "width": "70px"
      }
     },
     "5a86041953764218ac8ec211e73e1e3e": {
      "model_module": "@jupyter-widgets/controls",
      "model_module_version": "1.5.0",
      "model_name": "HBoxModel",
      "state": {
       "children": [
        "IPY_MODEL_d25d01f2de374262923894f3338157bd",
        "IPY_MODEL_056a8276ffcd4991b0834b123e878f59",
        "IPY_MODEL_e90a9d683a2d4a15986f67db76114f79",
        "IPY_MODEL_649fad96a1604dbaa004b138976a0290",
        "IPY_MODEL_646baec41073438881e5150c41ef49a2",
        "IPY_MODEL_86674d70c1b24344b99c98c5879bbd02"
       ],
       "layout": "IPY_MODEL_9fee8820a7744ae38e4d941a88c3c19a"
      }
     },
     "5b133201147f40b4838df6656b7f6fed": {
      "model_module": "@jupyter-widgets/base",
      "model_module_version": "1.2.0",
      "model_name": "LayoutModel",
      "state": {
       "width": "145px"
      }
     },
     "5bfe84c0880e40189c514350507bc8f0": {
      "model_module": "@jupyter-widgets/base",
      "model_module_version": "1.2.0",
      "model_name": "LayoutModel",
      "state": {
       "width": "190px"
      }
     },
     "5c14c9c9bf744053ba636d55f91fdaba": {
      "model_module": "@jupyter-widgets/controls",
      "model_module_version": "1.5.0",
      "model_name": "DescriptionStyleModel",
      "state": {
       "description_width": ""
      }
     },
     "5c52525b50a9475aa7d0b27a05e4324d": {
      "model_module": "@jupyter-widgets/controls",
      "model_module_version": "1.5.0",
      "model_name": "HTMLModel",
      "state": {
       "layout": "IPY_MODEL_9663c22230ae4191a86b243558c77ba6",
       "style": "IPY_MODEL_0c0ad8083a4143d782937826fd7c651b",
       "value": "-"
      }
     },
     "5c55fc6eaff049d98aebd302ecb6da2b": {
      "model_module": "@jupyter-widgets/controls",
      "model_module_version": "1.5.0",
      "model_name": "HTMLModel",
      "state": {
       "layout": "IPY_MODEL_007f89c3444543bd8ef3cb59d2589073",
       "style": "IPY_MODEL_b4adea452c04486996174c74c4889bda",
       "value": "61a13034fd3a88e01d59031a"
      }
     },
     "5d40830e692049b79b273eba12817f14": {
      "model_module": "@jupyter-widgets/controls",
      "model_module_version": "1.5.0",
      "model_name": "DescriptionStyleModel",
      "state": {
       "description_width": ""
      }
     },
     "5d995c48e6c54bc891ee5234d0ecd197": {
      "model_module": "@jupyter-widgets/base",
      "model_module_version": "1.2.0",
      "model_name": "LayoutModel",
      "state": {
       "margin": "0px 5px 0px 0px",
       "width": "32px"
      }
     },
     "5da40dc905f848f1ac95e6d0dc4c5447": {
      "model_module": "@jupyter-widgets/controls",
      "model_module_version": "1.5.0",
      "model_name": "DescriptionStyleModel",
      "state": {
       "description_width": ""
      }
     },
     "5f3746b958114908a882093e725a3eda": {
      "model_module": "@jupyter-widgets/base",
      "model_module_version": "1.2.0",
      "model_name": "LayoutModel",
      "state": {
       "width": "190px"
      }
     },
     "5fcaec76b2b84d6db149c8b63d25ee72": {
      "model_module": "@jupyter-widgets/controls",
      "model_module_version": "1.5.0",
      "model_name": "ButtonStyleModel",
      "state": {
       "button_color": "white"
      }
     },
     "5fe4c36cc9224e67af367c99c01cd414": {
      "model_module": "@jupyter-widgets/controls",
      "model_module_version": "1.5.0",
      "model_name": "DescriptionStyleModel",
      "state": {
       "description_width": ""
      }
     },
     "621263b179044f5b9101668d5c5f4ca6": {
      "model_module": "@jupyter-widgets/base",
      "model_module_version": "1.2.0",
      "model_name": "LayoutModel",
      "state": {
       "max_width": "700px",
       "min_width": "700px"
      }
     },
     "621580b74b034098935f6284b49309a3": {
      "model_module": "@jupyter-widgets/controls",
      "model_module_version": "1.5.0",
      "model_name": "ButtonModel",
      "state": {
       "icon": "close",
       "layout": "IPY_MODEL_5d995c48e6c54bc891ee5234d0ecd197",
       "style": "IPY_MODEL_bfa246c62a40440da9a96f8e24a6c8df"
      }
     },
     "62656cd3b2054cffa893abab53cbe71d": {
      "model_module": "@jupyter-widgets/controls",
      "model_module_version": "1.5.0",
      "model_name": "HTMLModel",
      "state": {
       "layout": "IPY_MODEL_26dd00a779b1493f84d5ca039978c22b",
       "style": "IPY_MODEL_20a202146de84aaf8f7afbd3cf1d0eec",
       "value": "ibmq_casablanca"
      }
     },
     "62af1d7c895c43bd9d6ac8d6a7b4204a": {
      "model_module": "@jupyter-widgets/base",
      "model_module_version": "1.2.0",
      "model_name": "LayoutModel",
      "state": {
       "max_width": "700px",
       "min_width": "700px"
      }
     },
     "63b90452d8d84ca9b9fc0bf40a0b1444": {
      "model_module": "@jupyter-widgets/controls",
      "model_module_version": "1.5.0",
      "model_name": "DescriptionStyleModel",
      "state": {
       "description_width": ""
      }
     },
     "63f751e305ef40ef92c7e2077579e96a": {
      "model_module": "@jupyter-widgets/base",
      "model_module_version": "1.2.0",
      "model_name": "LayoutModel",
      "state": {
       "width": "190px"
      }
     },
     "642b273a7bea4e099698429c0c1d39d6": {
      "model_module": "@jupyter-widgets/controls",
      "model_module_version": "1.5.0",
      "model_name": "DescriptionStyleModel",
      "state": {
       "description_width": ""
      }
     },
     "6460f876668745f994b9b77b4e83d16d": {
      "model_module": "@jupyter-widgets/controls",
      "model_module_version": "1.5.0",
      "model_name": "DescriptionStyleModel",
      "state": {
       "description_width": ""
      }
     },
     "646baec41073438881e5150c41ef49a2": {
      "model_module": "@jupyter-widgets/controls",
      "model_module_version": "1.5.0",
      "model_name": "HTMLModel",
      "state": {
       "layout": "IPY_MODEL_59ed880bcde5403bacae72be8dde04dc",
       "style": "IPY_MODEL_fe87c97f0d374e3681b59d95308dabc2",
       "value": "-"
      }
     },
     "647b2616d337493188dd09c9f836fa4f": {
      "model_module": "@jupyter-widgets/controls",
      "model_module_version": "1.5.0",
      "model_name": "DescriptionStyleModel",
      "state": {
       "description_width": ""
      }
     },
     "649fad96a1604dbaa004b138976a0290": {
      "model_module": "@jupyter-widgets/controls",
      "model_module_version": "1.5.0",
      "model_name": "HTMLModel",
      "state": {
       "layout": "IPY_MODEL_9c8197c3af5f49b385155edcf283406a",
       "style": "IPY_MODEL_63b90452d8d84ca9b9fc0bf40a0b1444",
       "value": "<font style='color:#34BC6E'>DONE</font>"
      }
     },
     "64c127bdf60948d5a3f9b2d2f020fefa": {
      "model_module": "@jupyter-widgets/controls",
      "model_module_version": "1.5.0",
      "model_name": "HTMLModel",
      "state": {
       "layout": "IPY_MODEL_df7f256af5944878b042aea4b8cd8753",
       "style": "IPY_MODEL_865808f9557649a5844ddaac73556dc5",
       "value": "<font style='color:#34BC6E'>DONE</font>"
      }
     },
     "64e98afe7a26434db122323565675ba8": {
      "model_module": "@jupyter-widgets/controls",
      "model_module_version": "1.5.0",
      "model_name": "ButtonStyleModel",
      "state": {
       "button_color": "white"
      }
     },
     "6511d65f07294a338917b6c016af11c4": {
      "model_module": "@jupyter-widgets/base",
      "model_module_version": "1.2.0",
      "model_name": "LayoutModel",
      "state": {
       "width": "190px"
      }
     },
     "651eba929cc0425ebaa66c94663ead75": {
      "model_module": "@jupyter-widgets/controls",
      "model_module_version": "1.5.0",
      "model_name": "HTMLModel",
      "state": {
       "layout": "IPY_MODEL_ee85a30726a948a3933715d073d3d908",
       "style": "IPY_MODEL_a4f5983ef79245c984d1bc05cc002b71",
       "value": "job has successfully run"
      }
     },
     "653daa1cf82442ba9e17a846ae9e3800": {
      "model_module": "@jupyter-widgets/base",
      "model_module_version": "1.2.0",
      "model_name": "LayoutModel",
      "state": {
       "margin": "0px 5px 0px 0px",
       "width": "32px"
      }
     },
     "656836493f1444c49f92861ac8c30dd5": {
      "model_module": "@jupyter-widgets/controls",
      "model_module_version": "1.5.0",
      "model_name": "DescriptionStyleModel",
      "state": {
       "description_width": ""
      }
     },
     "656d7eb8a51e45e8ae575169a4abccef": {
      "model_module": "@jupyter-widgets/controls",
      "model_module_version": "1.5.0",
      "model_name": "HBoxModel",
      "state": {
       "children": [
        "IPY_MODEL_b6eeb142a5c146648d00e632e075e94c",
        "IPY_MODEL_cef9d8b10cd64d49aa47dac56a07fbd8",
        "IPY_MODEL_fec34038360445faa6e662c34c401aa3",
        "IPY_MODEL_ff178b4953b84a76abe619974900786c",
        "IPY_MODEL_5c52525b50a9475aa7d0b27a05e4324d",
        "IPY_MODEL_3039a740b23249b38a7d72648462ba16"
       ],
       "layout": "IPY_MODEL_7631f864dae049ada95e43b0d21d6caf"
      }
     },
     "65f22dd59e854a199b25e3b4bb48287d": {
      "model_module": "@jupyter-widgets/base",
      "model_module_version": "1.2.0",
      "model_name": "LayoutModel",
      "state": {
       "width": "190px"
      }
     },
     "6618a333cd344a55a8163cd42bbb1020": {
      "model_module": "@jupyter-widgets/controls",
      "model_module_version": "1.5.0",
      "model_name": "DescriptionStyleModel",
      "state": {
       "description_width": ""
      }
     },
     "662f427395e24e8db4b2e5ec7730af4c": {
      "model_module": "@jupyter-widgets/base",
      "model_module_version": "1.2.0",
      "model_name": "LayoutModel",
      "state": {
       "width": "145px"
      }
     },
     "66699134a40441fdbe9e6f1bcbfe7c87": {
      "model_module": "@jupyter-widgets/base",
      "model_module_version": "1.2.0",
      "model_name": "LayoutModel",
      "state": {
       "width": "145px"
      }
     },
     "668ede6abe34490a828d38ee9351014b": {
      "model_module": "@jupyter-widgets/controls",
      "model_module_version": "1.5.0",
      "model_name": "DescriptionStyleModel",
      "state": {
       "description_width": ""
      }
     },
     "66afc81063aa42ea9d8598ce1f6fd40f": {
      "model_module": "@jupyter-widgets/controls",
      "model_module_version": "1.5.0",
      "model_name": "DescriptionStyleModel",
      "state": {
       "description_width": ""
      }
     },
     "66c32e608aa04955907a4e6241116eba": {
      "model_module": "@jupyter-widgets/base",
      "model_module_version": "1.2.0",
      "model_name": "LayoutModel",
      "state": {
       "margin": "0px 5px 0px 0px",
       "width": "32px"
      }
     },
     "66e81612d52a45afb56e2547004160f1": {
      "model_module": "@jupyter-widgets/controls",
      "model_module_version": "1.5.0",
      "model_name": "DescriptionStyleModel",
      "state": {
       "description_width": ""
      }
     },
     "66efb5f9eefe4aff9e67d9ee07892c3b": {
      "model_module": "@jupyter-widgets/base",
      "model_module_version": "1.2.0",
      "model_name": "LayoutModel",
      "state": {
       "width": "70px"
      }
     },
     "679d47b7746142efad97748a463bb21d": {
      "model_module": "@jupyter-widgets/controls",
      "model_module_version": "1.5.0",
      "model_name": "DescriptionStyleModel",
      "state": {
       "description_width": ""
      }
     },
     "67b60e992fd246fa8bf5417d4653067f": {
      "model_module": "@jupyter-widgets/controls",
      "model_module_version": "1.5.0",
      "model_name": "HTMLModel",
      "state": {
       "layout": "IPY_MODEL_f7682a2749e041e488dfd05c15bc188a",
       "style": "IPY_MODEL_532cdf4cfdee4c20bf9c6633d32b766d",
       "value": "<h5>Backend</h5>"
      }
     },
     "67e8a05301454f8e90171b6f224dd2ca": {
      "model_module": "@jupyter-widgets/controls",
      "model_module_version": "1.5.0",
      "model_name": "HTMLModel",
      "state": {
       "layout": "IPY_MODEL_54f3eb944c224decac9374a0cc6a9f37",
       "style": "IPY_MODEL_0655b205af2248ddbe96e3b14b3be56a",
       "value": "ibmq_casablanca"
      }
     },
     "689d1f7d37ef477cbfa07ee53492daad": {
      "model_module": "@jupyter-widgets/controls",
      "model_module_version": "1.5.0",
      "model_name": "HTMLModel",
      "state": {
       "layout": "IPY_MODEL_018e176dc0964e64bf5fffdf4c2027cc",
       "style": "IPY_MODEL_219919e25fc745858eede6438672afc6",
       "value": "job has successfully run"
      }
     },
     "68fa25b5d30947b7a8fbcf63caf55d35": {
      "model_module": "@jupyter-widgets/base",
      "model_module_version": "1.2.0",
      "model_name": "LayoutModel",
      "state": {
       "max_width": "700px",
       "min_width": "700px"
      }
     },
     "6957b9865337448da21e3cc5d7344855": {
      "model_module": "@jupyter-widgets/controls",
      "model_module_version": "1.5.0",
      "model_name": "ButtonModel",
      "state": {
       "icon": "close",
       "layout": "IPY_MODEL_6f2c54b28f0e4746b575a7dd606817d8",
       "style": "IPY_MODEL_59ab3b7c8614435c81b1695971d94542"
      }
     },
     "697480c2eeda4643bb7568f0043f99d1": {
      "model_module": "@jupyter-widgets/base",
      "model_module_version": "1.2.0",
      "model_name": "LayoutModel",
      "state": {
       "overflow_x": "scroll"
      }
     },
     "699aac36416c400fbdab7ea0562b76ed": {
      "model_module": "@jupyter-widgets/base",
      "model_module_version": "1.2.0",
      "model_name": "LayoutModel",
      "state": {
       "overflow_x": "scroll"
      }
     },
     "69c181677bd04e02bf9a87fe5c800ab0": {
      "model_module": "@jupyter-widgets/base",
      "model_module_version": "1.2.0",
      "model_name": "LayoutModel",
      "state": {
       "width": "145px"
      }
     },
     "6a023a30bd354d598acf44167f8ad8a3": {
      "model_module": "@jupyter-widgets/controls",
      "model_module_version": "1.5.0",
      "model_name": "HTMLModel",
      "state": {
       "layout": "IPY_MODEL_66699134a40441fdbe9e6f1bcbfe7c87",
       "style": "IPY_MODEL_380ef99618d04239abff4217b7429c64",
       "value": "ibmq_casablanca"
      }
     },
     "6a19d717217246f381e37f95b86f7b8c": {
      "model_module": "@jupyter-widgets/base",
      "model_module_version": "1.2.0",
      "model_name": "LayoutModel",
      "state": {
       "margin": "0px 5px 0px 0px",
       "width": "32px"
      }
     },
     "6b177f6413c5450ca4c4f3371cbbff94": {
      "model_module": "@jupyter-widgets/base",
      "model_module_version": "1.2.0",
      "model_name": "LayoutModel",
      "state": {
       "width": "70px"
      }
     },
     "6bde1afccd034b6e940ff3d512aa33bd": {
      "model_module": "@jupyter-widgets/controls",
      "model_module_version": "1.5.0",
      "model_name": "DescriptionStyleModel",
      "state": {
       "description_width": ""
      }
     },
     "6c2f2672eb9e4738b3f1e4c468079e5a": {
      "model_module": "@jupyter-widgets/controls",
      "model_module_version": "1.5.0",
      "model_name": "DescriptionStyleModel",
      "state": {
       "description_width": ""
      }
     },
     "6c5a20dc6cef4095a8f9898270525434": {
      "model_module": "@jupyter-widgets/base",
      "model_module_version": "1.2.0",
      "model_name": "LayoutModel",
      "state": {
       "width": "70px"
      }
     },
     "6ce9f433c2a442a3a70e7383a5c86186": {
      "model_module": "@jupyter-widgets/base",
      "model_module_version": "1.2.0",
      "model_name": "LayoutModel",
      "state": {
       "width": "95px"
      }
     },
     "6e25bcf9b98d4cb7bdf0feef460d4592": {
      "model_module": "@jupyter-widgets/controls",
      "model_module_version": "1.5.0",
      "model_name": "HTMLModel",
      "state": {
       "layout": "IPY_MODEL_5bfe84c0880e40189c514350507bc8f0",
       "style": "IPY_MODEL_d00aee34164043a3bd86213287d4a4c1",
       "value": "61a10e4ddf27956cb068a1ae"
      }
     },
     "6e3db543c5e54f48a0042df629fae574": {
      "model_module": "@jupyter-widgets/controls",
      "model_module_version": "1.5.0",
      "model_name": "DescriptionStyleModel",
      "state": {
       "description_width": ""
      }
     },
     "6f2c54b28f0e4746b575a7dd606817d8": {
      "model_module": "@jupyter-widgets/base",
      "model_module_version": "1.2.0",
      "model_name": "LayoutModel",
      "state": {
       "margin": "0px 5px 0px 0px",
       "width": "32px"
      }
     },
     "6fb5981a65cd4bbcaf12218e5fb517bf": {
      "model_module": "@jupyter-widgets/base",
      "model_module_version": "1.2.0",
      "model_name": "LayoutModel",
      "state": {
       "overflow_x": "scroll"
      }
     },
     "702cd88d367d4d7e9ef7e30bf21afb2b": {
      "model_module": "@jupyter-widgets/controls",
      "model_module_version": "1.5.0",
      "model_name": "HTMLModel",
      "state": {
       "layout": "IPY_MODEL_b2cb0550081b4d0493786efab92e57f4",
       "style": "IPY_MODEL_86d69cf59145453db008118bf3e7a674",
       "value": "61a12f81e76c00e551fa341b"
      }
     },
     "7075c27ad10d4cffa1e44728f33d1a0a": {
      "model_module": "@jupyter-widgets/base",
      "model_module_version": "1.2.0",
      "model_name": "LayoutModel",
      "state": {
       "max_width": "700px",
       "min_width": "700px"
      }
     },
     "70783885941e4ad5b10aa5ae521bd1e3": {
      "model_module": "@jupyter-widgets/base",
      "model_module_version": "1.2.0",
      "model_name": "LayoutModel",
      "state": {
       "margin": "0px 5px 0px 0px",
       "width": "32px"
      }
     },
     "709f1771414042a18a76b0e9bf22c542": {
      "model_module": "@jupyter-widgets/controls",
      "model_module_version": "1.5.0",
      "model_name": "HBoxModel",
      "state": {
       "children": [
        "IPY_MODEL_7a9b26653f82457fb55e2d6e6475c2da",
        "IPY_MODEL_f05c3a97fcdf4b3e932140c2545f76f6",
        "IPY_MODEL_d21b091abc454a7bb2e881238f2df604",
        "IPY_MODEL_743bf63ca9e74016b5d7a1d1a126262e",
        "IPY_MODEL_d2e61fd73dbe436a84dad4579f60e4ae",
        "IPY_MODEL_346d5da7a8a342e8ae73b62d1badfe06"
       ],
       "layout": "IPY_MODEL_9195f4120ec641c6bca363a27d60d97f"
      }
     },
     "70a38fd5c8354f06980653e9d6caa7a7": {
      "model_module": "@jupyter-widgets/controls",
      "model_module_version": "1.5.0",
      "model_name": "HTMLModel",
      "state": {
       "layout": "IPY_MODEL_81023e733d9944f8bf62e7edb247d335",
       "style": "IPY_MODEL_106bbe7d398846ad97227f83c59913fb",
       "value": "61a12f625ddc02f922e740f9"
      }
     },
     "70a417dd9f7140ab9ddf1d057014aa20": {
      "model_module": "@jupyter-widgets/controls",
      "model_module_version": "1.5.0",
      "model_name": "DescriptionStyleModel",
      "state": {
       "description_width": ""
      }
     },
     "710562d40e704ea8b4ee596a1536bfc6": {
      "model_module": "@jupyter-widgets/controls",
      "model_module_version": "1.5.0",
      "model_name": "ButtonModel",
      "state": {
       "icon": "close",
       "layout": "IPY_MODEL_bea35c6fe127468a8a538d63e84ae651",
       "style": "IPY_MODEL_7a40abac1ae342caaaa0a52769ffb1fd"
      }
     },
     "712c091e57434babb1e8fa5249c745b6": {
      "model_module": "@jupyter-widgets/controls",
      "model_module_version": "1.5.0",
      "model_name": "HTMLModel",
      "state": {
       "layout": "IPY_MODEL_89ee548ddf884837ac2f3e71b38b911c",
       "style": "IPY_MODEL_c94729e2fafc418d80c806302f0c8969",
       "value": "ibmq_casablanca"
      }
     },
     "716f9eb16edc482c9b6904460a99abc8": {
      "model_module": "@jupyter-widgets/base",
      "model_module_version": "1.2.0",
      "model_name": "LayoutModel",
      "state": {
       "width": "145px"
      }
     },
     "722ab26a241b4750a690e97e2031c99b": {
      "model_module": "@jupyter-widgets/base",
      "model_module_version": "1.2.0",
      "model_name": "LayoutModel",
      "state": {
       "width": "70px"
      }
     },
     "72710420ee3f45a5bafcec565f91b2ba": {
      "model_module": "@jupyter-widgets/controls",
      "model_module_version": "1.5.0",
      "model_name": "DescriptionStyleModel",
      "state": {
       "description_width": ""
      }
     },
     "729648a368034c5789c01cab873d1ae5": {
      "model_module": "@jupyter-widgets/controls",
      "model_module_version": "1.5.0",
      "model_name": "DescriptionStyleModel",
      "state": {
       "description_width": ""
      }
     },
     "72bdf4ea86ce4d72ac9e4f5c45a09334": {
      "model_module": "@jupyter-widgets/controls",
      "model_module_version": "1.5.0",
      "model_name": "HBoxModel",
      "state": {
       "children": [
        "IPY_MODEL_e516ec474cf747a68bbc6cbe421cf82f",
        "IPY_MODEL_0c904fcc1dc4460a91d021fb2e7bfa25",
        "IPY_MODEL_bdb0460acbca4dd2b6e6684511ea95e8",
        "IPY_MODEL_64c127bdf60948d5a3f9b2d2f020fefa",
        "IPY_MODEL_7b4b2579d7ee4916abd5a02ef2042df8",
        "IPY_MODEL_903933be626442c2839b1e201f9e7fa3"
       ],
       "layout": "IPY_MODEL_22a47ef99a354fa994f8dbe6c79d932a"
      }
     },
     "72f5853d390a449782222a1ed5b1ff51": {
      "model_module": "@jupyter-widgets/controls",
      "model_module_version": "1.5.0",
      "model_name": "DescriptionStyleModel",
      "state": {
       "description_width": ""
      }
     },
     "732fa66e164c4d9ca8411b035974c60d": {
      "model_module": "@jupyter-widgets/controls",
      "model_module_version": "1.5.0",
      "model_name": "DescriptionStyleModel",
      "state": {
       "description_width": ""
      }
     },
     "7375d950624d4c0aa5bc93bc2f18aa31": {
      "model_module": "@jupyter-widgets/controls",
      "model_module_version": "1.5.0",
      "model_name": "HTMLModel",
      "state": {
       "layout": "IPY_MODEL_07837726160b457d9d4f04a0c71e1839",
       "style": "IPY_MODEL_983039a348ae473685fe9f600b592b7b",
       "value": "<font style='color:#34BC6E'>DONE</font>"
      }
     },
     "743bf63ca9e74016b5d7a1d1a126262e": {
      "model_module": "@jupyter-widgets/controls",
      "model_module_version": "1.5.0",
      "model_name": "HTMLModel",
      "state": {
       "layout": "IPY_MODEL_fcf732cca80f46b9adf1cf828cdd73f5",
       "style": "IPY_MODEL_f24f30adab084672b3c1f9713567dcd9",
       "value": "<font style='color:#34BC6E'>DONE</font>"
      }
     },
     "74433a94a6d54f978b68de5138613c0d": {
      "model_module": "@jupyter-widgets/controls",
      "model_module_version": "1.5.0",
      "model_name": "ButtonModel",
      "state": {
       "icon": "close",
       "layout": "IPY_MODEL_66c32e608aa04955907a4e6241116eba",
       "style": "IPY_MODEL_8213b591d1d8441689a4321e4883b73b"
      }
     },
     "746889ab20d84ff3925161bb28fb5307": {
      "model_module": "@jupyter-widgets/base",
      "model_module_version": "1.2.0",
      "model_name": "LayoutModel",
      "state": {
       "width": "190px"
      }
     },
     "748b1965e144400f9791231ded65f286": {
      "model_module": "@jupyter-widgets/base",
      "model_module_version": "1.2.0",
      "model_name": "LayoutModel",
      "state": {
       "width": "70px"
      }
     },
     "748c80f7a6194fb5ab804f5f8ea563c1": {
      "model_module": "@jupyter-widgets/controls",
      "model_module_version": "1.5.0",
      "model_name": "ButtonStyleModel",
      "state": {
       "button_color": "white"
      }
     },
     "74960629ce474949a25ada078874e37a": {
      "model_module": "@jupyter-widgets/base",
      "model_module_version": "1.2.0",
      "model_name": "LayoutModel",
      "state": {
       "margin": "0px 5px 0px 0px",
       "width": "32px"
      }
     },
     "750360441a044aeaaf97c1e59474fb41": {
      "model_module": "@jupyter-widgets/base",
      "model_module_version": "1.2.0",
      "model_name": "LayoutModel",
      "state": {
       "width": "70px"
      }
     },
     "751c1d41a85143a398ef33236391c1bf": {
      "model_module": "@jupyter-widgets/controls",
      "model_module_version": "1.5.0",
      "model_name": "ButtonStyleModel",
      "state": {
       "button_color": "white"
      }
     },
     "7552bb8f157544f9bbfea53614d2401f": {
      "model_module": "@jupyter-widgets/controls",
      "model_module_version": "1.5.0",
      "model_name": "HTMLModel",
      "state": {
       "layout": "IPY_MODEL_160425cf18844c2493a29485d67dbda2",
       "style": "IPY_MODEL_52c3db81f98846239be6cc186a9ea1e5",
       "value": "-"
      }
     },
     "75542356aff546988bf6ba016652c9d9": {
      "model_module": "@jupyter-widgets/controls",
      "model_module_version": "1.5.0",
      "model_name": "HTMLModel",
      "state": {
       "layout": "IPY_MODEL_0196a38b0778446282e27f4870b96478",
       "style": "IPY_MODEL_9ee7365b81db470ebdf1883b2f5f4fff",
       "value": "61a131d25ddc020263e74111"
      }
     },
     "75ef7b55a41d4cc48d4bfbe31a00cf45": {
      "model_module": "@jupyter-widgets/controls",
      "model_module_version": "1.5.0",
      "model_name": "ButtonStyleModel",
      "state": {
       "button_color": "white"
      }
     },
     "76049b8fb79143b6ab3cafeb52ca65d6": {
      "model_module": "@jupyter-widgets/base",
      "model_module_version": "1.2.0",
      "model_name": "LayoutModel",
      "state": {
       "width": "95px"
      }
     },
     "76305901ff6a4106b0c6fef1c8d02595": {
      "model_module": "@jupyter-widgets/controls",
      "model_module_version": "1.5.0",
      "model_name": "HTMLModel",
      "state": {
       "layout": "IPY_MODEL_697480c2eeda4643bb7568f0043f99d1",
       "style": "IPY_MODEL_96428aec7fdb4356a5d416859e002c84",
       "value": "job has successfully run"
      }
     },
     "7631f864dae049ada95e43b0d21d6caf": {
      "model_module": "@jupyter-widgets/base",
      "model_module_version": "1.2.0",
      "model_name": "LayoutModel",
      "state": {
       "max_width": "700px",
       "min_width": "700px"
      }
     },
     "766354e34757421e9f118382929ead23": {
      "model_module": "@jupyter-widgets/base",
      "model_module_version": "1.2.0",
      "model_name": "LayoutModel",
      "state": {
       "width": "95px"
      }
     },
     "76906aa883ac4d4fb60736e4fe7bb9ce": {
      "model_module": "@jupyter-widgets/controls",
      "model_module_version": "1.5.0",
      "model_name": "HTMLModel",
      "state": {
       "layout": "IPY_MODEL_29bb086e5f3d4532aa4cbd8ab86d40eb",
       "style": "IPY_MODEL_ee4f4085af85431290c25eb92d91bcf8",
       "value": "61a10a20a6ac302386902fdf"
      }
     },
     "76d50b28af6043199854e479ccc9c43f": {
      "model_module": "@jupyter-widgets/controls",
      "model_module_version": "1.5.0",
      "model_name": "HTMLModel",
      "state": {
       "layout": "IPY_MODEL_e6fcd8760e91495aa6fec7ccb2648da3",
       "style": "IPY_MODEL_1d5ff43ff07e4f2a9d40a7cf364ea9d1",
       "value": "61a131b5398b84dc66c29466"
      }
     },
     "770a707f85694a00bcc8d4da5f9c76fc": {
      "model_module": "@jupyter-widgets/controls",
      "model_module_version": "1.5.0",
      "model_name": "HTMLModel",
      "state": {
       "layout": "IPY_MODEL_81a126efa75d4fdc96b1cc45e4877aea",
       "style": "IPY_MODEL_a9c21f4dedad4352b90953e791001e17",
       "value": "-"
      }
     },
     "775a72509b504e45bf05f97ec3b1ba45": {
      "model_module": "@jupyter-widgets/controls",
      "model_module_version": "1.5.0",
      "model_name": "HTMLModel",
      "state": {
       "layout": "IPY_MODEL_0ca525a3fb5f4d01aada85a2ae4d3735",
       "style": "IPY_MODEL_c9ab05b836d2482ba0ea73df2a5aa554",
       "value": "61a11b6afd3a8830f05901ee"
      }
     },
     "776009a72c194d479e3eba43c51e8022": {
      "model_module": "@jupyter-widgets/base",
      "model_module_version": "1.2.0",
      "model_name": "LayoutModel",
      "state": {
       "width": "95px"
      }
     },
     "77749d8070d14625a0abf50f084de27f": {
      "model_module": "@jupyter-widgets/controls",
      "model_module_version": "1.5.0",
      "model_name": "DescriptionStyleModel",
      "state": {
       "description_width": ""
      }
     },
     "779fa399b4f94ddb9ac77268521878b1": {
      "model_module": "@jupyter-widgets/controls",
      "model_module_version": "1.5.0",
      "model_name": "HTMLModel",
      "state": {
       "layout": "IPY_MODEL_b3fb588b42be4afbb812913ee56d2aab",
       "style": "IPY_MODEL_f27b5ccf92f84c5483b1ca4c4a530430",
       "value": "-"
      }
     },
     "77e800d44a4a496f8eb665fc1c146e84": {
      "model_module": "@jupyter-widgets/base",
      "model_module_version": "1.2.0",
      "model_name": "LayoutModel",
      "state": {
       "overflow_x": "scroll"
      }
     },
     "77f6876c842e41fcb794d9cac8806bd2": {
      "model_module": "@jupyter-widgets/controls",
      "model_module_version": "1.5.0",
      "model_name": "HTMLModel",
      "state": {
       "layout": "IPY_MODEL_bdeabde3fcc545ecb1edb29056d7e3c2",
       "style": "IPY_MODEL_e75fa3b5b573412c87cd3f28985514b2",
       "value": "ibmq_casablanca"
      }
     },
     "78328a059c41407486fb06e807202760": {
      "model_module": "@jupyter-widgets/controls",
      "model_module_version": "1.5.0",
      "model_name": "ButtonStyleModel",
      "state": {
       "button_color": "white"
      }
     },
     "78cad1acabb747b0bceb598b09a25eb6": {
      "model_module": "@jupyter-widgets/controls",
      "model_module_version": "1.5.0",
      "model_name": "DescriptionStyleModel",
      "state": {
       "description_width": ""
      }
     },
     "78d50257fa454b9bb8124871a91e35ca": {
      "model_module": "@jupyter-widgets/controls",
      "model_module_version": "1.5.0",
      "model_name": "HTMLModel",
      "state": {
       "layout": "IPY_MODEL_4d751f3a49c24353a40ea7c10939dc30",
       "style": "IPY_MODEL_9292a6d5327349389060ee64ae9333c7",
       "value": "job has successfully run"
      }
     },
     "79ca129e890945febf1810ca0f832120": {
      "model_module": "@jupyter-widgets/controls",
      "model_module_version": "1.5.0",
      "model_name": "HTMLModel",
      "state": {
       "layout": "IPY_MODEL_f7dc23dc65894953bf806ce5e5465a63",
       "style": "IPY_MODEL_b73c2ca82d254aabaea2dc304173b08e",
       "value": "<font style='color:#34BC6E'>DONE</font>"
      }
     },
     "79e9c44fdd774c2793e46a4df38f8407": {
      "model_module": "@jupyter-widgets/controls",
      "model_module_version": "1.5.0",
      "model_name": "DescriptionStyleModel",
      "state": {
       "description_width": ""
      }
     },
     "7a0b537136a44c8c97462c0f31bec1f3": {
      "model_module": "@jupyter-widgets/controls",
      "model_module_version": "1.5.0",
      "model_name": "HTMLModel",
      "state": {
       "layout": "IPY_MODEL_86af2f6d6ae44447971baaa5e956fdd8",
       "style": "IPY_MODEL_226a42aadbac402eabee21ada93b3180",
       "value": "job has successfully run"
      }
     },
     "7a3695be577145a7ac38252a1863890b": {
      "model_module": "@jupyter-widgets/base",
      "model_module_version": "1.2.0",
      "model_name": "LayoutModel",
      "state": {
       "width": "95px"
      }
     },
     "7a3b2c37d89b44e7814e850b1b9a7e5c": {
      "model_module": "@jupyter-widgets/controls",
      "model_module_version": "1.5.0",
      "model_name": "DescriptionStyleModel",
      "state": {
       "description_width": ""
      }
     },
     "7a40abac1ae342caaaa0a52769ffb1fd": {
      "model_module": "@jupyter-widgets/controls",
      "model_module_version": "1.5.0",
      "model_name": "ButtonStyleModel",
      "state": {
       "button_color": "white"
      }
     },
     "7a5a713944ce46dc8f70cd11c9adbb6b": {
      "model_module": "@jupyter-widgets/controls",
      "model_module_version": "1.5.0",
      "model_name": "ButtonStyleModel",
      "state": {
       "button_color": "white"
      }
     },
     "7a9b26653f82457fb55e2d6e6475c2da": {
      "model_module": "@jupyter-widgets/controls",
      "model_module_version": "1.5.0",
      "model_name": "ButtonModel",
      "state": {
       "icon": "close",
       "layout": "IPY_MODEL_0b2a0d4d4c21446a8f3e847dfb0ee32e",
       "style": "IPY_MODEL_e36ea56337354a0f86cbc77d97132d24"
      }
     },
     "7b2831c7d4464ad68f7d3047980eaf03": {
      "model_module": "@jupyter-widgets/controls",
      "model_module_version": "1.5.0",
      "model_name": "DescriptionStyleModel",
      "state": {
       "description_width": ""
      }
     },
     "7b474ab129b7499c8d2455bf81427baf": {
      "model_module": "@jupyter-widgets/controls",
      "model_module_version": "1.5.0",
      "model_name": "HTMLModel",
      "state": {
       "layout": "IPY_MODEL_3f8c2ec17e4149b98c8bd90242815cea",
       "style": "IPY_MODEL_25207c8f160b4235bb30791ed6c6374d",
       "value": "-"
      }
     },
     "7b4b2579d7ee4916abd5a02ef2042df8": {
      "model_module": "@jupyter-widgets/controls",
      "model_module_version": "1.5.0",
      "model_name": "HTMLModel",
      "state": {
       "layout": "IPY_MODEL_d5dd61c20bf24e0986472cfa46fa2a67",
       "style": "IPY_MODEL_5d40830e692049b79b273eba12817f14",
       "value": "-"
      }
     },
     "7b642d1f705645e1a3127223957fc194": {
      "model_module": "@jupyter-widgets/base",
      "model_module_version": "1.2.0",
      "model_name": "LayoutModel",
      "state": {}
     },
     "7b7818d348b3411b8fe6230ea6fd0db1": {
      "model_module": "@jupyter-widgets/controls",
      "model_module_version": "1.5.0",
      "model_name": "DescriptionStyleModel",
      "state": {
       "description_width": ""
      }
     },
     "7c0561fb752746c793a3056bffa89522": {
      "model_module": "@jupyter-widgets/controls",
      "model_module_version": "1.5.0",
      "model_name": "HTMLModel",
      "state": {
       "layout": "IPY_MODEL_6c5a20dc6cef4095a8f9898270525434",
       "style": "IPY_MODEL_18a8fd2e80534c3983561f7196c02db9",
       "value": "-"
      }
     },
     "7c45c94f124349f3b8b45c34ba4cffc5": {
      "model_module": "@jupyter-widgets/controls",
      "model_module_version": "1.5.0",
      "model_name": "ButtonStyleModel",
      "state": {
       "button_color": "white"
      }
     },
     "7c4f4d4be88f4aa59aad8d98c3a85655": {
      "model_module": "@jupyter-widgets/controls",
      "model_module_version": "1.5.0",
      "model_name": "DescriptionStyleModel",
      "state": {
       "description_width": ""
      }
     },
     "7c9ae4a429644c06948133bb0045b9a2": {
      "model_module": "@jupyter-widgets/base",
      "model_module_version": "1.2.0",
      "model_name": "LayoutModel",
      "state": {
       "width": "190px"
      }
     },
     "7d0c0dc04eca47888019931b8d346a7b": {
      "model_module": "@jupyter-widgets/controls",
      "model_module_version": "1.5.0",
      "model_name": "DescriptionStyleModel",
      "state": {
       "description_width": ""
      }
     },
     "7db2e5fbca56467caf76d6e5248e2318": {
      "model_module": "@jupyter-widgets/base",
      "model_module_version": "1.2.0",
      "model_name": "LayoutModel",
      "state": {
       "width": "145px"
      }
     },
     "7dcdad45c543421abc2cba3b2366c7b6": {
      "model_module": "@jupyter-widgets/base",
      "model_module_version": "1.2.0",
      "model_name": "LayoutModel",
      "state": {
       "margin": "0px 5px 0px 0px",
       "width": "32px"
      }
     },
     "7df7111c811d418dacc407ff037bd44e": {
      "model_module": "@jupyter-widgets/controls",
      "model_module_version": "1.5.0",
      "model_name": "HTMLModel",
      "state": {
       "layout": "IPY_MODEL_9079c09b073449b88c2c71eccb73c15b",
       "style": "IPY_MODEL_a1953905eea74cdd8bf54f3b8a78dfba",
       "value": "job has successfully run"
      }
     },
     "7e22e9bcbf794430a1900d661510c2cb": {
      "model_module": "@jupyter-widgets/controls",
      "model_module_version": "1.5.0",
      "model_name": "DescriptionStyleModel",
      "state": {
       "description_width": ""
      }
     },
     "7e3170e715294db18497c0019f7c2acc": {
      "model_module": "@jupyter-widgets/base",
      "model_module_version": "1.2.0",
      "model_name": "LayoutModel",
      "state": {
       "margin": "0px 5px 0px 0px",
       "width": "32px"
      }
     },
     "7e4a2d6b4c48494fbe39b02f4a0a733e": {
      "model_module": "@jupyter-widgets/base",
      "model_module_version": "1.2.0",
      "model_name": "LayoutModel",
      "state": {
       "width": "70px"
      }
     },
     "7eaf1d9a2ba648169e9dee2683f26aee": {
      "model_module": "@jupyter-widgets/controls",
      "model_module_version": "1.5.0",
      "model_name": "HTMLModel",
      "state": {
       "layout": "IPY_MODEL_3772f6f4d3c84f8aa0317a1ea53d5ea2",
       "style": "IPY_MODEL_39c189cc0cc8482daa722d145834d559",
       "value": "<font style='color:#34BC6E'>DONE</font>"
      }
     },
     "7eaf461c701f4a6ea37ff5574e614495": {
      "model_module": "@jupyter-widgets/controls",
      "model_module_version": "1.5.0",
      "model_name": "HTMLModel",
      "state": {
       "layout": "IPY_MODEL_5b133201147f40b4838df6656b7f6fed",
       "style": "IPY_MODEL_e80347076f2e410db9879a01a1f53d7e",
       "value": "ibmq_casablanca"
      }
     },
     "7eb86c35e2a8461a960192b1a8cc62ce": {
      "model_module": "@jupyter-widgets/base",
      "model_module_version": "1.2.0",
      "model_name": "LayoutModel",
      "state": {
       "overflow_x": "scroll"
      }
     },
     "7ef22692b0db4df7a8d9b9c7b9a08876": {
      "model_module": "@jupyter-widgets/base",
      "model_module_version": "1.2.0",
      "model_name": "LayoutModel",
      "state": {
       "width": "70px"
      }
     },
     "7f34ddd5635d431482f0803fbb7efeef": {
      "model_module": "@jupyter-widgets/controls",
      "model_module_version": "1.5.0",
      "model_name": "DescriptionStyleModel",
      "state": {
       "description_width": ""
      }
     },
     "7f63dba6de8941cc87428a65cde83eda": {
      "model_module": "@jupyter-widgets/controls",
      "model_module_version": "1.5.0",
      "model_name": "HTMLModel",
      "state": {
       "layout": "IPY_MODEL_766354e34757421e9f118382929ead23",
       "style": "IPY_MODEL_78cad1acabb747b0bceb598b09a25eb6",
       "value": "<font style='color:#34BC6E'>DONE</font>"
      }
     },
     "7fd3f2ea1cac4336b570cf94fd19c479": {
      "model_module": "@jupyter-widgets/base",
      "model_module_version": "1.2.0",
      "model_name": "LayoutModel",
      "state": {
       "width": "145px"
      }
     },
     "8025311212bf453684937c039ae3a596": {
      "model_module": "@jupyter-widgets/base",
      "model_module_version": "1.2.0",
      "model_name": "LayoutModel",
      "state": {
       "width": "70px"
      }
     },
     "8086a2444b3448719987f7ab9d7681be": {
      "model_module": "@jupyter-widgets/controls",
      "model_module_version": "1.5.0",
      "model_name": "HTMLModel",
      "state": {
       "layout": "IPY_MODEL_1700108fd1794643929e84468e8a4d5a",
       "style": "IPY_MODEL_4f1d660fd45e4fb291d23c2586f3c9de",
       "value": "<font style='color:#34BC6E'>DONE</font>"
      }
     },
     "81023e733d9944f8bf62e7edb247d335": {
      "model_module": "@jupyter-widgets/base",
      "model_module_version": "1.2.0",
      "model_name": "LayoutModel",
      "state": {
       "width": "190px"
      }
     },
     "814572fdd77c43168cbcb07ca74879ca": {
      "model_module": "@jupyter-widgets/controls",
      "model_module_version": "1.5.0",
      "model_name": "HTMLModel",
      "state": {
       "layout": "IPY_MODEL_88b184a01443460dad3fb9961f95d964",
       "style": "IPY_MODEL_8a58c6f30e834565905bca2e938a53ee",
       "value": "job has successfully run"
      }
     },
     "81a126efa75d4fdc96b1cc45e4877aea": {
      "model_module": "@jupyter-widgets/base",
      "model_module_version": "1.2.0",
      "model_name": "LayoutModel",
      "state": {
       "width": "70px"
      }
     },
     "81e3e829f8a64d0a86944b6c4b5c3e69": {
      "model_module": "@jupyter-widgets/base",
      "model_module_version": "1.2.0",
      "model_name": "LayoutModel",
      "state": {
       "grid_area": "right",
       "padding": "0px 0px 0px 0px",
       "width": "70px"
      }
     },
     "8213b591d1d8441689a4321e4883b73b": {
      "model_module": "@jupyter-widgets/controls",
      "model_module_version": "1.5.0",
      "model_name": "ButtonStyleModel",
      "state": {
       "button_color": "white"
      }
     },
     "8228988a565c4d139a0803b0c32081d6": {
      "model_module": "@jupyter-widgets/base",
      "model_module_version": "1.2.0",
      "model_name": "LayoutModel",
      "state": {
       "width": "190px"
      }
     },
     "829d56ed18764cc0af09ec0e651d3ffa": {
      "model_module": "@jupyter-widgets/controls",
      "model_module_version": "1.5.0",
      "model_name": "DescriptionStyleModel",
      "state": {
       "description_width": ""
      }
     },
     "82b8ea41b842422aa7ee4ae925b24e50": {
      "model_module": "@jupyter-widgets/base",
      "model_module_version": "1.2.0",
      "model_name": "LayoutModel",
      "state": {
       "margin": "0px 5px 0px 0px",
       "width": "32px"
      }
     },
     "83a1672b7b444bb39bb4659e31688190": {
      "model_module": "@jupyter-widgets/controls",
      "model_module_version": "1.5.0",
      "model_name": "HBoxModel",
      "state": {
       "children": [
        "IPY_MODEL_0581ea8793d04bb9b6a8aeeddf52e2ab",
        "IPY_MODEL_5c55fc6eaff049d98aebd302ecb6da2b",
        "IPY_MODEL_233e89e1167c4b3080453eb12cafd5c4",
        "IPY_MODEL_996de7a29cd848138028a7e474e905e5",
        "IPY_MODEL_779fa399b4f94ddb9ac77268521878b1",
        "IPY_MODEL_d43743f8ab0146229bcf53b39bda80aa"
       ],
       "layout": "IPY_MODEL_bc37c09b03d1423b8e08e911844c20d3"
      }
     },
     "83e2f7a2a61f4ac08e4979b6f46e1389": {
      "model_module": "@jupyter-widgets/base",
      "model_module_version": "1.2.0",
      "model_name": "LayoutModel",
      "state": {
       "overflow_x": "scroll"
      }
     },
     "83f7a3b842254a73a83638bd0f3194d6": {
      "model_module": "@jupyter-widgets/base",
      "model_module_version": "1.2.0",
      "model_name": "LayoutModel",
      "state": {
       "width": "190px"
      }
     },
     "846731958fd84c3292f97d57639da366": {
      "model_module": "@jupyter-widgets/controls",
      "model_module_version": "1.5.0",
      "model_name": "HTMLModel",
      "state": {
       "layout": "IPY_MODEL_5583275730384ad4b7fc36aa14af3315",
       "style": "IPY_MODEL_335fe1edd4e14097a36047f8c4470052",
       "value": "job is queued"
      }
     },
     "859698371e92497daf5c6d8329ff69f7": {
      "model_module": "@jupyter-widgets/controls",
      "model_module_version": "1.5.0",
      "model_name": "DescriptionStyleModel",
      "state": {
       "description_width": ""
      }
     },
     "85acb16d03454faead1f6e995199574b": {
      "model_module": "@jupyter-widgets/base",
      "model_module_version": "1.2.0",
      "model_name": "LayoutModel",
      "state": {
       "width": "145px"
      }
     },
     "85d1dc3c38174b3697b0251fee354bba": {
      "model_module": "@jupyter-widgets/controls",
      "model_module_version": "1.5.0",
      "model_name": "HTMLModel",
      "state": {
       "layout": "IPY_MODEL_0b6131c5c7b4473aa3b5e795c4ab5729",
       "style": "IPY_MODEL_349fa558fc564d1885af64b961f821c6",
       "value": "61a1164e83753dc8db27baa2"
      }
     },
     "8600d3c087ab47c1aac6b15b19f3ce0b": {
      "model_module": "@jupyter-widgets/base",
      "model_module_version": "1.2.0",
      "model_name": "LayoutModel",
      "state": {
       "margin": "0px 5px 0px 0px",
       "width": "32px"
      }
     },
     "861d9e632c724f3d894c906e39b20a61": {
      "model_module": "@jupyter-widgets/controls",
      "model_module_version": "1.5.0",
      "model_name": "DescriptionStyleModel",
      "state": {
       "description_width": ""
      }
     },
     "865808f9557649a5844ddaac73556dc5": {
      "model_module": "@jupyter-widgets/controls",
      "model_module_version": "1.5.0",
      "model_name": "DescriptionStyleModel",
      "state": {
       "description_width": ""
      }
     },
     "86674459381748979306186d63b80941": {
      "model_module": "@jupyter-widgets/controls",
      "model_module_version": "1.5.0",
      "model_name": "HTMLModel",
      "state": {
       "layout": "IPY_MODEL_f3303804002544f9b53c7f44fe6d5ee0",
       "style": "IPY_MODEL_43d9ed489ce64e5faaf24ae42b4b5557",
       "value": "ibmq_casablanca"
      }
     },
     "86674d70c1b24344b99c98c5879bbd02": {
      "model_module": "@jupyter-widgets/controls",
      "model_module_version": "1.5.0",
      "model_name": "HTMLModel",
      "state": {
       "layout": "IPY_MODEL_89c9ea9fc476410c869d489743a4cccb",
       "style": "IPY_MODEL_b82d7292857841f885562cc365db72b1",
       "value": "job has successfully run"
      }
     },
     "867db52c84c9470b9148532cc5490d5a": {
      "model_module": "@jupyter-widgets/controls",
      "model_module_version": "1.5.0",
      "model_name": "DescriptionStyleModel",
      "state": {
       "description_width": ""
      }
     },
     "86af2f6d6ae44447971baaa5e956fdd8": {
      "model_module": "@jupyter-widgets/base",
      "model_module_version": "1.2.0",
      "model_name": "LayoutModel",
      "state": {
       "overflow_x": "scroll"
      }
     },
     "86d69cf59145453db008118bf3e7a674": {
      "model_module": "@jupyter-widgets/controls",
      "model_module_version": "1.5.0",
      "model_name": "DescriptionStyleModel",
      "state": {
       "description_width": ""
      }
     },
     "86d69d4933154fd3b766c42201f5db6a": {
      "model_module": "@jupyter-widgets/controls",
      "model_module_version": "1.5.0",
      "model_name": "ButtonStyleModel",
      "state": {
       "button_color": "white"
      }
     },
     "8776bdafec4a4dfd8eef2cdf7fb19d40": {
      "model_module": "@jupyter-widgets/base",
      "model_module_version": "1.2.0",
      "model_name": "LayoutModel",
      "state": {
       "max_width": "700px",
       "min_width": "700px"
      }
     },
     "877bf5a76c3d401a973a5f2dcd1c0dfb": {
      "model_module": "@jupyter-widgets/controls",
      "model_module_version": "1.5.0",
      "model_name": "HTMLModel",
      "state": {
       "layout": "IPY_MODEL_2dbddeacd47c46b7b1b31d6790508fd1",
       "style": "IPY_MODEL_01362d0a8dd4481bacb54ce3f082be45",
       "value": "job has successfully run"
      }
     },
     "88a75f502e8c410f9a510ae546741a94": {
      "model_module": "@jupyter-widgets/controls",
      "model_module_version": "1.5.0",
      "model_name": "HTMLModel",
      "state": {
       "layout": "IPY_MODEL_d65a993c69aa42abb02ff92ccddf6cd6",
       "style": "IPY_MODEL_7a3b2c37d89b44e7814e850b1b9a7e5c",
       "value": "61a10f3d60e4c00b6b6052d9"
      }
     },
     "88b184a01443460dad3fb9961f95d964": {
      "model_module": "@jupyter-widgets/base",
      "model_module_version": "1.2.0",
      "model_name": "LayoutModel",
      "state": {
       "overflow_x": "scroll"
      }
     },
     "8908c5e8528b4e50a37b7f0eb152ca9b": {
      "model_module": "@jupyter-widgets/controls",
      "model_module_version": "1.5.0",
      "model_name": "HTMLModel",
      "state": {
       "layout": "IPY_MODEL_0a27c589f2de4d4d8e1680218dc83b99",
       "style": "IPY_MODEL_1f9cd3e1923d4ab09dbd3ee77227a3d2",
       "value": "-"
      }
     },
     "891c5a1f0c29494f99f8a8a280d38fbd": {
      "model_module": "@jupyter-widgets/controls",
      "model_module_version": "1.5.0",
      "model_name": "HBoxModel",
      "state": {
       "children": [
        "IPY_MODEL_911c4e66caa04bc9b61c725aab731206",
        "IPY_MODEL_a9a16149e7094261981fdbb9c4ab1abb",
        "IPY_MODEL_ddb6f746b38541cd8eab5ad356adaf1d",
        "IPY_MODEL_abb0cdb163cd464b9d575bad75936163",
        "IPY_MODEL_289fc7a36b964ddaa33c0e95e6f0b562",
        "IPY_MODEL_3edc40e74090453495219834f346c687"
       ],
       "layout": "IPY_MODEL_1673e651bf9e43fc96b94bb022a77fba"
      }
     },
     "8930393d34f44ecc9b0a0787c4766714": {
      "model_module": "@jupyter-widgets/controls",
      "model_module_version": "1.5.0",
      "model_name": "DescriptionStyleModel",
      "state": {
       "description_width": ""
      }
     },
     "89c9ea9fc476410c869d489743a4cccb": {
      "model_module": "@jupyter-widgets/base",
      "model_module_version": "1.2.0",
      "model_name": "LayoutModel",
      "state": {
       "overflow_x": "scroll"
      }
     },
     "89ee548ddf884837ac2f3e71b38b911c": {
      "model_module": "@jupyter-widgets/base",
      "model_module_version": "1.2.0",
      "model_name": "LayoutModel",
      "state": {
       "width": "145px"
      }
     },
     "8a58c6f30e834565905bca2e938a53ee": {
      "model_module": "@jupyter-widgets/controls",
      "model_module_version": "1.5.0",
      "model_name": "DescriptionStyleModel",
      "state": {
       "description_width": ""
      }
     },
     "8ac044c90ef941d297e5e10c091bc0ea": {
      "model_module": "@jupyter-widgets/controls",
      "model_module_version": "1.5.0",
      "model_name": "ButtonModel",
      "state": {
       "icon": "close",
       "layout": "IPY_MODEL_6a19d717217246f381e37f95b86f7b8c",
       "style": "IPY_MODEL_fd8074894b0547f6b0db87e645eb2af0"
      }
     },
     "8b027f6f571b4dbc849b8f69388d2f5a": {
      "model_module": "@jupyter-widgets/controls",
      "model_module_version": "1.5.0",
      "model_name": "DescriptionStyleModel",
      "state": {
       "description_width": ""
      }
     },
     "8bcb6c08e6be4b70b49f54ce021abca2": {
      "model_module": "@jupyter-widgets/base",
      "model_module_version": "1.2.0",
      "model_name": "LayoutModel",
      "state": {
       "width": "190px"
      }
     },
     "8c0f877a9f5545448374a75bce6a6b95": {
      "model_module": "@jupyter-widgets/controls",
      "model_module_version": "1.5.0",
      "model_name": "HTMLModel",
      "state": {
       "layout": "IPY_MODEL_7c9ae4a429644c06948133bb0045b9a2",
       "style": "IPY_MODEL_35e1692734f24c56822e47f6775550df",
       "value": "61a1312f60e4c05777605445"
      }
     },
     "8cb6b8ede3054f31b1e8c2cebe5b2d79": {
      "model_module": "@jupyter-widgets/base",
      "model_module_version": "1.2.0",
      "model_name": "LayoutModel",
      "state": {
       "max_width": "700px",
       "min_width": "700px"
      }
     },
     "8cc31cae9c904e99824e2ea7c2b5f908": {
      "model_module": "@jupyter-widgets/base",
      "model_module_version": "1.2.0",
      "model_name": "LayoutModel",
      "state": {
       "width": "145px"
      }
     },
     "8ce7a764984245958be3df31619596ea": {
      "model_module": "@jupyter-widgets/base",
      "model_module_version": "1.2.0",
      "model_name": "LayoutModel",
      "state": {
       "width": "95px"
      }
     },
     "8d889814e6654c2eb1e364279bc82856": {
      "model_module": "@jupyter-widgets/controls",
      "model_module_version": "1.5.0",
      "model_name": "HTMLModel",
      "state": {
       "layout": "IPY_MODEL_6fb5981a65cd4bbcaf12218e5fb517bf",
       "style": "IPY_MODEL_19987929139447359f00c3cc4cab1a48",
       "value": "job has successfully run"
      }
     },
     "8d8900e7456941fb853f512c0a377347": {
      "model_module": "@jupyter-widgets/controls",
      "model_module_version": "1.5.0",
      "model_name": "HTMLModel",
      "state": {
       "layout": "IPY_MODEL_7fd3f2ea1cac4336b570cf94fd19c479",
       "style": "IPY_MODEL_f48ba1a5e6034e8daaa4c9e58300dc27",
       "value": "ibmq_casablanca"
      }
     },
     "8d94bc4215054807871f1c2f3f5e9a34": {
      "model_module": "@jupyter-widgets/base",
      "model_module_version": "1.2.0",
      "model_name": "LayoutModel",
      "state": {
       "width": "95px"
      }
     },
     "8dd0f90758de4380afddeb3e6b8bd679": {
      "model_module": "@jupyter-widgets/controls",
      "model_module_version": "1.5.0",
      "model_name": "HBoxModel",
      "state": {
       "children": [
        "IPY_MODEL_a7ba539fc2044da7b403ff2a953045ab",
        "IPY_MODEL_9c89538d5c284ac4a73186e07635840e",
        "IPY_MODEL_fc2b16c975e84f94b331df0dadcfe02f",
        "IPY_MODEL_7f63dba6de8941cc87428a65cde83eda",
        "IPY_MODEL_d7c62a5bbd1b41d1a2ded22e81a93f19",
        "IPY_MODEL_346e6bd85f724939b65c7f1335a7a00b"
       ],
       "layout": "IPY_MODEL_8cb6b8ede3054f31b1e8c2cebe5b2d79"
      }
     },
     "8dd918df1096419192085c9ed88d47ce": {
      "model_module": "@jupyter-widgets/controls",
      "model_module_version": "1.5.0",
      "model_name": "HTMLModel",
      "state": {
       "layout": "IPY_MODEL_f70e19e2c5bc47e7a23f7685bd1c2af3",
       "style": "IPY_MODEL_322acc67c50c42259bcecc3f119a1dd6",
       "value": "61a1120d60e4c0ebc26052e2"
      }
     },
     "8e8f12b6764f4193ac4dd1779594d70f": {
      "model_module": "@jupyter-widgets/base",
      "model_module_version": "1.2.0",
      "model_name": "LayoutModel",
      "state": {
       "overflow_x": "scroll"
      }
     },
     "8ec225ffe58144bba93c4fdb4ed05f69": {
      "model_module": "@jupyter-widgets/controls",
      "model_module_version": "1.5.0",
      "model_name": "HBoxModel",
      "state": {
       "children": [
        "IPY_MODEL_621580b74b034098935f6284b49309a3",
        "IPY_MODEL_d5fa28c85dc149d8bf9be7146d519e73",
        "IPY_MODEL_a79c00609abf42348bc24920de08f0e8",
        "IPY_MODEL_1d08d135a3784b56908eb22e3f13476f",
        "IPY_MODEL_0054328bb1f049f9b0587104def1843f",
        "IPY_MODEL_aeedf45c09cd4d6db2c825bdf1ff3ed8"
       ],
       "layout": "IPY_MODEL_c3e093984983473a9dd894089e77067b"
      }
     },
     "8f9162b6d4df4877908760c1c9d4339c": {
      "model_module": "@jupyter-widgets/controls",
      "model_module_version": "1.5.0",
      "model_name": "DescriptionStyleModel",
      "state": {
       "description_width": ""
      }
     },
     "903933be626442c2839b1e201f9e7fa3": {
      "model_module": "@jupyter-widgets/controls",
      "model_module_version": "1.5.0",
      "model_name": "HTMLModel",
      "state": {
       "layout": "IPY_MODEL_ba842b8ec5a04b7fb9d2cf529197a464",
       "style": "IPY_MODEL_134a1de422844996a06b424f3b5b19d2",
       "value": "job has successfully run"
      }
     },
     "906201d5df4d405d91ee40282d1e4804": {
      "model_module": "@jupyter-widgets/controls",
      "model_module_version": "1.5.0",
      "model_name": "HTMLModel",
      "state": {
       "layout": "IPY_MODEL_8228988a565c4d139a0803b0c32081d6",
       "style": "IPY_MODEL_c600f40a0d3344de977247f828ab47b0",
       "value": "<h5>Job ID</h5>"
      }
     },
     "9079c09b073449b88c2c71eccb73c15b": {
      "model_module": "@jupyter-widgets/base",
      "model_module_version": "1.2.0",
      "model_name": "LayoutModel",
      "state": {
       "overflow_x": "scroll"
      }
     },
     "90ee67e0773c45d08cd4ba98459f1a4e": {
      "model_module": "@jupyter-widgets/controls",
      "model_module_version": "1.5.0",
      "model_name": "HTMLModel",
      "state": {
       "layout": "IPY_MODEL_c0f6ee133d1d4c45afaa9a7359579cbc",
       "style": "IPY_MODEL_7f34ddd5635d431482f0803fbb7efeef",
       "value": "<font style='color:#34BC6E'>DONE</font>"
      }
     },
     "911c4e66caa04bc9b61c725aab731206": {
      "model_module": "@jupyter-widgets/controls",
      "model_module_version": "1.5.0",
      "model_name": "ButtonModel",
      "state": {
       "icon": "close",
       "layout": "IPY_MODEL_d456e012974246d3b5097ea09de2bb23",
       "style": "IPY_MODEL_751c1d41a85143a398ef33236391c1bf"
      }
     },
     "91601bcce18f4e67b9db862098e849f1": {
      "model_module": "@jupyter-widgets/base",
      "model_module_version": "1.2.0",
      "model_name": "LayoutModel",
      "state": {
       "width": "95px"
      }
     },
     "9188c1d31c6c4beea6fa6a81a854fcfb": {
      "model_module": "@jupyter-widgets/base",
      "model_module_version": "1.2.0",
      "model_name": "LayoutModel",
      "state": {
       "max_width": "700px",
       "min_width": "700px"
      }
     },
     "9195f4120ec641c6bca363a27d60d97f": {
      "model_module": "@jupyter-widgets/base",
      "model_module_version": "1.2.0",
      "model_name": "LayoutModel",
      "state": {
       "max_width": "700px",
       "min_width": "700px"
      }
     },
     "9250afe231e2433bbb27b5c49706e095": {
      "model_module": "@jupyter-widgets/controls",
      "model_module_version": "1.5.0",
      "model_name": "HTMLModel",
      "state": {
       "layout": "IPY_MODEL_97244d56fcee4d5c873c84a1adae950e",
       "style": "IPY_MODEL_ee347ce120dc4bf29ab238ccbc0a16f2",
       "value": "ibmq_casablanca"
      }
     },
     "9292a6d5327349389060ee64ae9333c7": {
      "model_module": "@jupyter-widgets/controls",
      "model_module_version": "1.5.0",
      "model_name": "DescriptionStyleModel",
      "state": {
       "description_width": ""
      }
     },
     "92ac996603594e60ac06ad1dd34756cd": {
      "model_module": "@jupyter-widgets/base",
      "model_module_version": "1.2.0",
      "model_name": "LayoutModel",
      "state": {
       "width": "70px"
      }
     },
     "92d2e2f4394b464aae60f022eb3f799c": {
      "model_module": "@jupyter-widgets/controls",
      "model_module_version": "1.5.0",
      "model_name": "ButtonModel",
      "state": {
       "icon": "close",
       "layout": "IPY_MODEL_a3b507c5cbd54822ae309ffc4fb38af1",
       "style": "IPY_MODEL_53a4b9b47ad54fa099b20a7031e7ffce"
      }
     },
     "93595d159bd8438a8fc20508b4b83152": {
      "model_module": "@jupyter-widgets/controls",
      "model_module_version": "1.5.0",
      "model_name": "HTMLModel",
      "state": {
       "layout": "IPY_MODEL_43fd4de673e240d2a5e19ca26af9f2a1",
       "style": "IPY_MODEL_13be46622d03483fb669965567df25e7",
       "value": "ibmq_casablanca"
      }
     },
     "938f358596c94035956de3eed8d80cc6": {
      "model_module": "@jupyter-widgets/controls",
      "model_module_version": "1.5.0",
      "model_name": "DescriptionStyleModel",
      "state": {
       "description_width": ""
      }
     },
     "94d9d7e76af543c5b364367f02a37ab1": {
      "model_module": "@jupyter-widgets/controls",
      "model_module_version": "1.5.0",
      "model_name": "HBoxModel",
      "state": {
       "children": [
        "IPY_MODEL_aa89e3825eec4c2a87bbe6c618b2ef69",
        "IPY_MODEL_eb3cd9d4cfe5491b8ae93a6ab94c8a15",
        "IPY_MODEL_77f6876c842e41fcb794d9cac8806bd2",
        "IPY_MODEL_fb4af920e80648beafb1905c122a7204",
        "IPY_MODEL_4354e400b6a04dfdaa62ffc5933c7395",
        "IPY_MODEL_00550d9ca63748afb10c987f184fd645"
       ],
       "layout": "IPY_MODEL_b62a3c9d2b2a417383625c087bc40f13"
      }
     },
     "94faeb22826c4404b39af1cee48c9021": {
      "model_module": "@jupyter-widgets/controls",
      "model_module_version": "1.5.0",
      "model_name": "HTMLModel",
      "state": {
       "layout": "IPY_MODEL_aec4390563a74666a3bff6c517548fd4",
       "style": "IPY_MODEL_4ce4c0c736e44bd08c4b9816c48372b0",
       "value": "ibmq_casablanca"
      }
     },
     "961c0c3e1efe47a3b88330b83e0449e4": {
      "model_module": "@jupyter-widgets/base",
      "model_module_version": "1.2.0",
      "model_name": "LayoutModel",
      "state": {
       "max_width": "700px",
       "min_width": "700px"
      }
     },
     "96358456126647b2acbdc85a21a2541f": {
      "model_module": "@jupyter-widgets/base",
      "model_module_version": "1.2.0",
      "model_name": "LayoutModel",
      "state": {
       "width": "145px"
      }
     },
     "96428aec7fdb4356a5d416859e002c84": {
      "model_module": "@jupyter-widgets/controls",
      "model_module_version": "1.5.0",
      "model_name": "DescriptionStyleModel",
      "state": {
       "description_width": ""
      }
     },
     "9648052d1ebc47f69a2585a7133402b6": {
      "model_module": "@jupyter-widgets/base",
      "model_module_version": "1.2.0",
      "model_name": "LayoutModel",
      "state": {
       "width": "95px"
      }
     },
     "9663c22230ae4191a86b243558c77ba6": {
      "model_module": "@jupyter-widgets/base",
      "model_module_version": "1.2.0",
      "model_name": "LayoutModel",
      "state": {
       "width": "70px"
      }
     },
     "97233c30ff1e4e2ca799d9cdcd972ec7": {
      "model_module": "@jupyter-widgets/controls",
      "model_module_version": "1.5.0",
      "model_name": "HTMLModel",
      "state": {
       "layout": "IPY_MODEL_452d53f14edc4e9ba8d2bd8252f993d3",
       "style": "IPY_MODEL_14f2d7038fb14ca883c087c00203c573",
       "value": "<h5>Queue</h5>"
      }
     },
     "97244d56fcee4d5c873c84a1adae950e": {
      "model_module": "@jupyter-widgets/base",
      "model_module_version": "1.2.0",
      "model_name": "LayoutModel",
      "state": {
       "width": "145px"
      }
     },
     "9743bbe5292041d09e9037bd5df670f8": {
      "model_module": "@jupyter-widgets/controls",
      "model_module_version": "1.5.0",
      "model_name": "HTMLModel",
      "state": {
       "layout": "IPY_MODEL_cd190817e0a34655b6cd54949acdeb47",
       "style": "IPY_MODEL_f5677ea530dd4f4980594258d6dfcd1b",
       "value": "-"
      }
     },
     "978b8e9e7abf4b34808205954b66b112": {
      "model_module": "@jupyter-widgets/controls",
      "model_module_version": "1.5.0",
      "model_name": "DescriptionStyleModel",
      "state": {
       "description_width": ""
      }
     },
     "983039a348ae473685fe9f600b592b7b": {
      "model_module": "@jupyter-widgets/controls",
      "model_module_version": "1.5.0",
      "model_name": "DescriptionStyleModel",
      "state": {
       "description_width": ""
      }
     },
     "983b25d5aaf54380ab7dca9e403dad07": {
      "model_module": "@jupyter-widgets/base",
      "model_module_version": "1.2.0",
      "model_name": "LayoutModel",
      "state": {
       "width": "95px"
      }
     },
     "98f9e68169874948b3c33dec6e3a3348": {
      "model_module": "@jupyter-widgets/controls",
      "model_module_version": "1.5.0",
      "model_name": "DescriptionStyleModel",
      "state": {
       "description_width": ""
      }
     },
     "995a058ccc4c47d8a4693bf0136f2e6b": {
      "model_module": "@jupyter-widgets/controls",
      "model_module_version": "1.5.0",
      "model_name": "DescriptionStyleModel",
      "state": {
       "description_width": ""
      }
     },
     "996de7a29cd848138028a7e474e905e5": {
      "model_module": "@jupyter-widgets/controls",
      "model_module_version": "1.5.0",
      "model_name": "HTMLModel",
      "state": {
       "layout": "IPY_MODEL_b84825efe83445cf9c18e0d59226e645",
       "style": "IPY_MODEL_073a6ba087d9434fae65f492a85319d6",
       "value": "<font style='color:#34BC6E'>DONE</font>"
      }
     },
     "99da2df5c84a4551b8fac5977d1d2d10": {
      "model_module": "@jupyter-widgets/base",
      "model_module_version": "1.2.0",
      "model_name": "LayoutModel",
      "state": {
       "width": "190px"
      }
     },
     "9a2e03e6c5a8494cab50d7683415ce48": {
      "model_module": "@jupyter-widgets/base",
      "model_module_version": "1.2.0",
      "model_name": "LayoutModel",
      "state": {
       "width": "95px"
      }
     },
     "9a83b7dd9d3d489396509e67e2a69d57": {
      "model_module": "@jupyter-widgets/controls",
      "model_module_version": "1.5.0",
      "model_name": "HTMLModel",
      "state": {
       "layout": "IPY_MODEL_f383447de43d4580833e8dcc4ca07374",
       "style": "IPY_MODEL_4f1e47a0af80426e8be65b0e20ce551b",
       "value": "-"
      }
     },
     "9acb2f1507d64b0f8dc874c4f8901812": {
      "model_module": "@jupyter-widgets/base",
      "model_module_version": "1.2.0",
      "model_name": "LayoutModel",
      "state": {
       "max_width": "700px",
       "min_width": "700px"
      }
     },
     "9b22c79ca1c64bfe9957c641e5c2fed7": {
      "model_module": "@jupyter-widgets/base",
      "model_module_version": "1.2.0",
      "model_name": "LayoutModel",
      "state": {
       "max_width": "700px",
       "min_width": "700px"
      }
     },
     "9ba75db1fad44072ac71d3c174b57184": {
      "model_module": "@jupyter-widgets/base",
      "model_module_version": "1.2.0",
      "model_name": "LayoutModel",
      "state": {
       "width": "145px"
      }
     },
     "9bb1390ed46b4f35af66c01a3d6c4a15": {
      "model_module": "@jupyter-widgets/controls",
      "model_module_version": "1.5.0",
      "model_name": "DescriptionStyleModel",
      "state": {
       "description_width": ""
      }
     },
     "9bcf09c176904548a0655447130f8ca6": {
      "model_module": "@jupyter-widgets/base",
      "model_module_version": "1.2.0",
      "model_name": "LayoutModel",
      "state": {
       "width": "95px"
      }
     },
     "9c8197c3af5f49b385155edcf283406a": {
      "model_module": "@jupyter-widgets/base",
      "model_module_version": "1.2.0",
      "model_name": "LayoutModel",
      "state": {
       "width": "95px"
      }
     },
     "9c89538d5c284ac4a73186e07635840e": {
      "model_module": "@jupyter-widgets/controls",
      "model_module_version": "1.5.0",
      "model_name": "HTMLModel",
      "state": {
       "layout": "IPY_MODEL_1ac413aca027478bb44abe2ffad882a4",
       "style": "IPY_MODEL_31723587b6054bc5a0445942400d3522",
       "value": "61a108afcbd5062677fefd7d"
      }
     },
     "9cbfbd382eee4322a8564b39b28cd27d": {
      "model_module": "@jupyter-widgets/controls",
      "model_module_version": "1.5.0",
      "model_name": "DescriptionStyleModel",
      "state": {
       "description_width": ""
      }
     },
     "9cf9094ba95846ccba296b2024b25289": {
      "model_module": "@jupyter-widgets/base",
      "model_module_version": "1.2.0",
      "model_name": "LayoutModel",
      "state": {
       "width": "95px"
      }
     },
     "9d41d2f777f04183892fc4eee16385dc": {
      "model_module": "@jupyter-widgets/base",
      "model_module_version": "1.2.0",
      "model_name": "LayoutModel",
      "state": {
       "width": "70px"
      }
     },
     "9e06d9f57b40418d9a567d05e2bda127": {
      "model_module": "@jupyter-widgets/controls",
      "model_module_version": "1.5.0",
      "model_name": "HTMLModel",
      "state": {
       "layout": "IPY_MODEL_750360441a044aeaaf97c1e59474fb41",
       "style": "IPY_MODEL_20111bf7a173457d9e74c0cce29a592e",
       "value": "-"
      }
     },
     "9ec17449fb6d44fc97cbf11ab420aac8": {
      "model_module": "@jupyter-widgets/controls",
      "model_module_version": "1.5.0",
      "model_name": "DescriptionStyleModel",
      "state": {
       "description_width": ""
      }
     },
     "9ec7ff033a1b40a2bfaea371bac9e9a0": {
      "model_module": "@jupyter-widgets/base",
      "model_module_version": "1.2.0",
      "model_name": "LayoutModel",
      "state": {
       "width": "190px"
      }
     },
     "9ee7365b81db470ebdf1883b2f5f4fff": {
      "model_module": "@jupyter-widgets/controls",
      "model_module_version": "1.5.0",
      "model_name": "DescriptionStyleModel",
      "state": {
       "description_width": ""
      }
     },
     "9f26b2886c7041b78f947d25dedf2324": {
      "model_module": "@jupyter-widgets/controls",
      "model_module_version": "1.5.0",
      "model_name": "DescriptionStyleModel",
      "state": {
       "description_width": ""
      }
     },
     "9fa776f80c09416b997704d44375e07d": {
      "model_module": "@jupyter-widgets/controls",
      "model_module_version": "1.5.0",
      "model_name": "HTMLModel",
      "state": {
       "layout": "IPY_MODEL_ce9fb4b3c24c44b6a7e6d5f048a3c93d",
       "style": "IPY_MODEL_9f26b2886c7041b78f947d25dedf2324",
       "value": "<p style='font-family: IBM Plex Sans, Arial, Helvetica, sans-serif; font-size: 20px; font-weight: medium;'>Circuit Properties</p>"
      }
     },
     "9fabcd96764e4d8bb927367a6ad2b4e0": {
      "model_module": "@jupyter-widgets/controls",
      "model_module_version": "1.5.0",
      "model_name": "DescriptionStyleModel",
      "state": {
       "description_width": ""
      }
     },
     "9fee8820a7744ae38e4d941a88c3c19a": {
      "model_module": "@jupyter-widgets/base",
      "model_module_version": "1.2.0",
      "model_name": "LayoutModel",
      "state": {
       "max_width": "700px",
       "min_width": "700px"
      }
     },
     "a0602902985b465394d1cfc1678e916c": {
      "model_module": "@jupyter-widgets/base",
      "model_module_version": "1.2.0",
      "model_name": "LayoutModel",
      "state": {
       "width": "145px"
      }
     },
     "a0a26b0d07fc47a89336289e534612c8": {
      "model_module": "@jupyter-widgets/base",
      "model_module_version": "1.2.0",
      "model_name": "LayoutModel",
      "state": {
       "margin": "0px 5px 0px 0px",
       "width": "32px"
      }
     },
     "a0bf86e65a5a48b0bbb33a4eb6fe51fa": {
      "model_module": "@jupyter-widgets/controls",
      "model_module_version": "1.5.0",
      "model_name": "HTMLModel",
      "state": {
       "layout": "IPY_MODEL_7a3695be577145a7ac38252a1863890b",
       "style": "IPY_MODEL_0da54f82b0f6417f82db506c15e59404",
       "value": "<font style='color:#34BC6E'>DONE</font>"
      }
     },
     "a18152a8d7b9438094652bae91be5b7a": {
      "model_module": "@jupyter-widgets/base",
      "model_module_version": "1.2.0",
      "model_name": "LayoutModel",
      "state": {
       "overflow_x": "scroll"
      }
     },
     "a1953905eea74cdd8bf54f3b8a78dfba": {
      "model_module": "@jupyter-widgets/controls",
      "model_module_version": "1.5.0",
      "model_name": "DescriptionStyleModel",
      "state": {
       "description_width": ""
      }
     },
     "a1da6d033e174a29bffc4aea804d5e64": {
      "model_module": "@jupyter-widgets/base",
      "model_module_version": "1.2.0",
      "model_name": "LayoutModel",
      "state": {
       "margin": "0px 5px 0px 0px",
       "width": "32px"
      }
     },
     "a32ffc5cace4414c8cbf041ba6d4c6fd": {
      "model_module": "@jupyter-widgets/base",
      "model_module_version": "1.2.0",
      "model_name": "LayoutModel",
      "state": {
       "max_width": "700px",
       "min_width": "700px"
      }
     },
     "a35d9529c25343f399e0e49d71cf6949": {
      "model_module": "@jupyter-widgets/controls",
      "model_module_version": "1.5.0",
      "model_name": "DescriptionStyleModel",
      "state": {
       "description_width": ""
      }
     },
     "a3811b0968554791bdd37b9045856b49": {
      "model_module": "@jupyter-widgets/controls",
      "model_module_version": "1.5.0",
      "model_name": "DescriptionStyleModel",
      "state": {
       "description_width": ""
      }
     },
     "a3b507c5cbd54822ae309ffc4fb38af1": {
      "model_module": "@jupyter-widgets/base",
      "model_module_version": "1.2.0",
      "model_name": "LayoutModel",
      "state": {
       "margin": "0px 5px 0px 0px",
       "width": "32px"
      }
     },
     "a443d19bdb9840e78122848c40ef98f5": {
      "model_module": "@jupyter-widgets/base",
      "model_module_version": "1.2.0",
      "model_name": "LayoutModel",
      "state": {
       "width": "190px"
      }
     },
     "a47455307d9e4aaa850c3cc207a231d9": {
      "model_module": "@jupyter-widgets/controls",
      "model_module_version": "1.5.0",
      "model_name": "DescriptionStyleModel",
      "state": {
       "description_width": ""
      }
     },
     "a4f12c13971a4eef9e065e32c16078ac": {
      "model_module": "@jupyter-widgets/controls",
      "model_module_version": "1.5.0",
      "model_name": "HBoxModel",
      "state": {
       "children": [
        "IPY_MODEL_fd99f4dd9c0f43d3a652fae122449ac7",
        "IPY_MODEL_70a38fd5c8354f06980653e9d6caa7a7",
        "IPY_MODEL_94faeb22826c4404b39af1cee48c9021",
        "IPY_MODEL_8086a2444b3448719987f7ab9d7681be",
        "IPY_MODEL_770a707f85694a00bcc8d4da5f9c76fc",
        "IPY_MODEL_c09747f011294a54a4a5936c6e9a7282"
       ],
       "layout": "IPY_MODEL_1d8dd34137044dec83e925678ae62570"
      }
     },
     "a4f5983ef79245c984d1bc05cc002b71": {
      "model_module": "@jupyter-widgets/controls",
      "model_module_version": "1.5.0",
      "model_name": "DescriptionStyleModel",
      "state": {
       "description_width": ""
      }
     },
     "a504efcb25c74692a8f88b26de59518d": {
      "model_module": "@jupyter-widgets/controls",
      "model_module_version": "1.5.0",
      "model_name": "DescriptionStyleModel",
      "state": {
       "description_width": ""
      }
     },
     "a51616f6acbb4a6d98a70e345465aeac": {
      "model_module": "@jupyter-widgets/controls",
      "model_module_version": "1.5.0",
      "model_name": "ButtonStyleModel",
      "state": {
       "button_color": "white"
      }
     },
     "a546948ee7c24c05b467b0fa5892069d": {
      "model_module": "@jupyter-widgets/controls",
      "model_module_version": "1.5.0",
      "model_name": "DescriptionStyleModel",
      "state": {
       "description_width": ""
      }
     },
     "a57d8d3baf8241a484f1d3910981dd76": {
      "model_module": "@jupyter-widgets/base",
      "model_module_version": "1.2.0",
      "model_name": "LayoutModel",
      "state": {
       "width": "145px"
      }
     },
     "a5e56bdfeb4447028f3bb77abdd8c943": {
      "model_module": "@jupyter-widgets/controls",
      "model_module_version": "1.5.0",
      "model_name": "HBoxModel",
      "state": {
       "children": [
        "IPY_MODEL_1245d9d23750454ea605a286781531cc",
        "IPY_MODEL_775a72509b504e45bf05f97ec3b1ba45",
        "IPY_MODEL_6a023a30bd354d598acf44167f8ad8a3",
        "IPY_MODEL_d05e7b17c6d5489b893b06927939035c",
        "IPY_MODEL_7b474ab129b7499c8d2455bf81427baf",
        "IPY_MODEL_f6be3139b0844336ae5d620fa56a086d"
       ],
       "layout": "IPY_MODEL_62af1d7c895c43bd9d6ac8d6a7b4204a"
      }
     },
     "a6ab4df437524f5b8fe6be5dc8c09161": {
      "model_module": "@jupyter-widgets/controls",
      "model_module_version": "1.5.0",
      "model_name": "DescriptionStyleModel",
      "state": {
       "description_width": ""
      }
     },
     "a6ec461def894182895bbb93e776f6f5": {
      "model_module": "@jupyter-widgets/base",
      "model_module_version": "1.2.0",
      "model_name": "LayoutModel",
      "state": {
       "max_width": "700px",
       "min_width": "700px"
      }
     },
     "a70ad0ede3d04ed3b100fb91def76422": {
      "model_module": "@jupyter-widgets/controls",
      "model_module_version": "1.5.0",
      "model_name": "DescriptionStyleModel",
      "state": {
       "description_width": ""
      }
     },
     "a743f822179c4d9cb995011651293cbc": {
      "model_module": "@jupyter-widgets/base",
      "model_module_version": "1.2.0",
      "model_name": "LayoutModel",
      "state": {
       "width": "145px"
      }
     },
     "a776a9ddf07b4428921845d49bb536da": {
      "model_module": "@jupyter-widgets/controls",
      "model_module_version": "1.5.0",
      "model_name": "HTMLModel",
      "state": {
       "layout": "IPY_MODEL_360c94d654ae486db6c23e9b0b862ee1",
       "style": "IPY_MODEL_72f5853d390a449782222a1ed5b1ff51",
       "value": "<font style='color:#34BC6E'>DONE</font>"
      }
     },
     "a79c00609abf42348bc24920de08f0e8": {
      "model_module": "@jupyter-widgets/controls",
      "model_module_version": "1.5.0",
      "model_name": "HTMLModel",
      "state": {
       "layout": "IPY_MODEL_063cc5adf4a84c44867dccd8b70b867c",
       "style": "IPY_MODEL_383d48f74cfb461a804f7de5e3ea3fb3",
       "value": "ibmq_casablanca"
      }
     },
     "a7b6dedff2a04dd6a90cbce1683d38b2": {
      "model_module": "@jupyter-widgets/controls",
      "model_module_version": "1.5.0",
      "model_name": "HTMLModel",
      "state": {
       "layout": "IPY_MODEL_1deba066b36c4869b501b0e731128f84",
       "style": "IPY_MODEL_51b40d080122410e9c4c405ec5661490",
       "value": "job has successfully run"
      }
     },
     "a7ba539fc2044da7b403ff2a953045ab": {
      "model_module": "@jupyter-widgets/controls",
      "model_module_version": "1.5.0",
      "model_name": "ButtonModel",
      "state": {
       "icon": "close",
       "layout": "IPY_MODEL_501d00cc5f2646789f4e32918073f9c0",
       "style": "IPY_MODEL_86d69d4933154fd3b766c42201f5db6a"
      }
     },
     "a7c3ced6dc3e425eb7d7be4372e3a9b1": {
      "model_module": "@jupyter-widgets/base",
      "model_module_version": "1.2.0",
      "model_name": "LayoutModel",
      "state": {
       "width": "70px"
      }
     },
     "a8adbd6e021d41ff962e994b0d4c7f6a": {
      "model_module": "@jupyter-widgets/controls",
      "model_module_version": "1.5.0",
      "model_name": "HTMLModel",
      "state": {
       "layout": "IPY_MODEL_6ce9f433c2a442a3a70e7383a5c86186",
       "style": "IPY_MODEL_70a417dd9f7140ab9ddf1d057014aa20",
       "value": "<font style='color:#34BC6E'>DONE</font>"
      }
     },
     "a8d64f44aca94012bdb19f933213d9ca": {
      "model_module": "@jupyter-widgets/controls",
      "model_module_version": "1.5.0",
      "model_name": "DescriptionStyleModel",
      "state": {
       "description_width": ""
      }
     },
     "a935a97893a24b399862f321ef25cdcf": {
      "model_module": "@jupyter-widgets/controls",
      "model_module_version": "1.5.0",
      "model_name": "DescriptionStyleModel",
      "state": {
       "description_width": ""
      }
     },
     "a9690ee82e1b479a9d16dca1ecaff7be": {
      "model_module": "@jupyter-widgets/controls",
      "model_module_version": "1.5.0",
      "model_name": "HBoxModel",
      "state": {
       "children": [
        "IPY_MODEL_b519b21246e74573945e234990dad029",
        "IPY_MODEL_2462be69a4b74ccc96638e98ff1c14a9",
        "IPY_MODEL_37217ceb6bbc4f1486235556e58e964d",
        "IPY_MODEL_7eaf1d9a2ba648169e9dee2683f26aee",
        "IPY_MODEL_f9f53e4891dc45d2aef94ecf92f45e6b",
        "IPY_MODEL_689d1f7d37ef477cbfa07ee53492daad"
       ],
       "layout": "IPY_MODEL_c9490ff0db9e437abedaeb871fc253a8"
      }
     },
     "a991a8350d5a400eaf53b16a9469966a": {
      "model_module": "@jupyter-widgets/base",
      "model_module_version": "1.2.0",
      "model_name": "LayoutModel",
      "state": {
       "margin": "0px 5px 0px 0px",
       "width": "32px"
      }
     },
     "a9a16149e7094261981fdbb9c4ab1abb": {
      "model_module": "@jupyter-widgets/controls",
      "model_module_version": "1.5.0",
      "model_name": "HTMLModel",
      "state": {
       "layout": "IPY_MODEL_09b78fbb009d4e18a2f8acf78c982616",
       "style": "IPY_MODEL_729648a368034c5789c01cab873d1ae5",
       "value": "61a10a3e5ddc0256aae73f7e"
      }
     },
     "a9c21f4dedad4352b90953e791001e17": {
      "model_module": "@jupyter-widgets/controls",
      "model_module_version": "1.5.0",
      "model_name": "DescriptionStyleModel",
      "state": {
       "description_width": ""
      }
     },
     "a9db48f2d7504bf9ab1a699c2d09c0d6": {
      "model_module": "@jupyter-widgets/controls",
      "model_module_version": "1.5.0",
      "model_name": "HTMLModel",
      "state": {
       "layout": "IPY_MODEL_441787916e0f42a3a7c6c49af8fd2904",
       "style": "IPY_MODEL_4751d3845ede4e9299d84d35b80bd4c3",
       "value": "ibmq_casablanca"
      }
     },
     "aa89e3825eec4c2a87bbe6c618b2ef69": {
      "model_module": "@jupyter-widgets/controls",
      "model_module_version": "1.5.0",
      "model_name": "ButtonModel",
      "state": {
       "icon": "close",
       "layout": "IPY_MODEL_f7af49f664ec42bd9cd26bc50a52f20e",
       "style": "IPY_MODEL_64e98afe7a26434db122323565675ba8"
      }
     },
     "ab42c0dd996d469785a9da6736be4ac2": {
      "model_module": "@jupyter-widgets/base",
      "model_module_version": "1.2.0",
      "model_name": "LayoutModel",
      "state": {
       "width": "95px"
      }
     },
     "abb0cdb163cd464b9d575bad75936163": {
      "model_module": "@jupyter-widgets/controls",
      "model_module_version": "1.5.0",
      "model_name": "HTMLModel",
      "state": {
       "layout": "IPY_MODEL_3b0a253fde144fcbb174cdb41d4d186e",
       "style": "IPY_MODEL_32291d2693d540fda6da166bd7b7a02a",
       "value": "<font style='color:#34BC6E'>DONE</font>"
      }
     },
     "ad3008e5508640ec95b400bedc6e63ea": {
      "model_module": "@jupyter-widgets/controls",
      "model_module_version": "1.5.0",
      "model_name": "HTMLModel",
      "state": {
       "layout": "IPY_MODEL_2adaa60ff9d14f3d91c5ce8e8f8f4f54",
       "style": "IPY_MODEL_bea98bfaeb0345678288f60ccfa53e2d",
       "value": "-"
      }
     },
     "ad85621ec2954d029eab75d927d70063": {
      "model_module": "@jupyter-widgets/controls",
      "model_module_version": "1.5.0",
      "model_name": "ButtonModel",
      "state": {
       "icon": "close",
       "layout": "IPY_MODEL_653daa1cf82442ba9e17a846ae9e3800",
       "style": "IPY_MODEL_d8ec59e078c24f28bfa08d3b9924eda6"
      }
     },
     "adb29776f1b844e0a7fec1301e2f663b": {
      "model_module": "@jupyter-widgets/controls",
      "model_module_version": "1.5.0",
      "model_name": "ButtonModel",
      "state": {
       "icon": "close",
       "layout": "IPY_MODEL_7dcdad45c543421abc2cba3b2366c7b6",
       "style": "IPY_MODEL_0777c75ee7f2432fa8ae3979ea521b48"
      }
     },
     "adc0fbe70fd349ff9b99990df1c3d93f": {
      "model_module": "@jupyter-widgets/controls",
      "model_module_version": "1.5.0",
      "model_name": "DescriptionStyleModel",
      "state": {
       "description_width": ""
      }
     },
     "ae3d27f880494a35af881e9b326fef6f": {
      "model_module": "@jupyter-widgets/controls",
      "model_module_version": "1.5.0",
      "model_name": "HTMLModel",
      "state": {
       "layout": "IPY_MODEL_9d41d2f777f04183892fc4eee16385dc",
       "style": "IPY_MODEL_98f9e68169874948b3c33dec6e3a3348",
       "value": "-"
      }
     },
     "aec4390563a74666a3bff6c517548fd4": {
      "model_module": "@jupyter-widgets/base",
      "model_module_version": "1.2.0",
      "model_name": "LayoutModel",
      "state": {
       "width": "145px"
      }
     },
     "aeedf45c09cd4d6db2c825bdf1ff3ed8": {
      "model_module": "@jupyter-widgets/controls",
      "model_module_version": "1.5.0",
      "model_name": "HTMLModel",
      "state": {
       "layout": "IPY_MODEL_4cc5e8339ec24c098cd3825f63b358bf",
       "style": "IPY_MODEL_bb06c40c1db54a78a81a5cf89d90335f",
       "value": "job has successfully run"
      }
     },
     "af38d33b5570460fb8a49f2db373638f": {
      "model_module": "@jupyter-widgets/controls",
      "model_module_version": "1.5.0",
      "model_name": "HBoxModel",
      "state": {
       "children": [
        "IPY_MODEL_74433a94a6d54f978b68de5138613c0d",
        "IPY_MODEL_75542356aff546988bf6ba016652c9d9",
        "IPY_MODEL_f5a656c99b944e16a40d4a544c58d03d",
        "IPY_MODEL_01c4222dd21a4e71a54323c21d3a898e",
        "IPY_MODEL_021258d01b75431f90d09917386c4232",
        "IPY_MODEL_f844be8569f9468ca61b409eef0bea47"
       ],
       "layout": "IPY_MODEL_288d52c168e644518507bd0a35cd5474"
      }
     },
     "afa6d9dfb9254b5cb77e5d5d9ceee9c3": {
      "model_module": "@jupyter-widgets/base",
      "model_module_version": "1.2.0",
      "model_name": "LayoutModel",
      "state": {
       "width": "95px"
      }
     },
     "afb285e0b2be4a48b3b16cba6407ae9e": {
      "model_module": "@jupyter-widgets/controls",
      "model_module_version": "1.5.0",
      "model_name": "DescriptionStyleModel",
      "state": {
       "description_width": ""
      }
     },
     "b0762ad8f9e94edb991696de7d945f8f": {
      "model_module": "@jupyter-widgets/controls",
      "model_module_version": "1.5.0",
      "model_name": "HTMLModel",
      "state": {
       "layout": "IPY_MODEL_3d4aaf6076f4480e90e7804d999c8365",
       "style": "IPY_MODEL_732fa66e164c4d9ca8411b035974c60d",
       "value": "ibmq_casablanca"
      }
     },
     "b13c439e376143739b3b62d1695e1474": {
      "model_module": "@jupyter-widgets/controls",
      "model_module_version": "1.5.0",
      "model_name": "DescriptionStyleModel",
      "state": {
       "description_width": ""
      }
     },
     "b1bb206c63884a0cae7e250a53d5e66e": {
      "model_module": "@jupyter-widgets/controls",
      "model_module_version": "1.5.0",
      "model_name": "HTMLModel",
      "state": {
       "layout": "IPY_MODEL_2a5cc9fb32314b4b97096f58278979bc",
       "style": "IPY_MODEL_a3811b0968554791bdd37b9045856b49",
       "value": "61a10a99cbd5060974fefd82"
      }
     },
     "b1c492f45239434d82844cd5f1da90f4": {
      "model_module": "@jupyter-widgets/controls",
      "model_module_version": "1.5.0",
      "model_name": "HTMLModel",
      "state": {
       "layout": "IPY_MODEL_7ef22692b0db4df7a8d9b9c7b9a08876",
       "style": "IPY_MODEL_f50779e16c404d45b1b65aba56fa52cd",
       "value": "-"
      }
     },
     "b2490b39b67e4cf98687b361350078e6": {
      "model_module": "@jupyter-widgets/controls",
      "model_module_version": "1.5.0",
      "model_name": "ButtonStyleModel",
      "state": {
       "button_color": "white"
      }
     },
     "b268feddbcd24866916f927fef0c08bb": {
      "model_module": "@jupyter-widgets/controls",
      "model_module_version": "1.5.0",
      "model_name": "HTMLModel",
      "state": {
       "layout": "IPY_MODEL_df274b235fd14f25b78eeb01669b3234",
       "style": "IPY_MODEL_32226aa4a787473dae7bfe013d8675dc",
       "value": "job has successfully run"
      }
     },
     "b28623eeec9e44a4a37604bdd315ad1a": {
      "model_module": "@jupyter-widgets/controls",
      "model_module_version": "1.5.0",
      "model_name": "HTMLModel",
      "state": {
       "layout": "IPY_MODEL_9a2e03e6c5a8494cab50d7683415ce48",
       "style": "IPY_MODEL_66e81612d52a45afb56e2547004160f1",
       "value": "<font style='color:#34BC6E'>DONE</font>"
      }
     },
     "b2cb0550081b4d0493786efab92e57f4": {
      "model_module": "@jupyter-widgets/base",
      "model_module_version": "1.2.0",
      "model_name": "LayoutModel",
      "state": {
       "width": "190px"
      }
     },
     "b30923c89d8d4660a7d5afffe3909c09": {
      "model_module": "@jupyter-widgets/controls",
      "model_module_version": "1.5.0",
      "model_name": "DescriptionStyleModel",
      "state": {
       "description_width": ""
      }
     },
     "b30dd2b992814123bc1c77b9a7e8705b": {
      "model_module": "@jupyter-widgets/base",
      "model_module_version": "1.2.0",
      "model_name": "LayoutModel",
      "state": {
       "max_width": "700px",
       "min_width": "700px"
      }
     },
     "b351d25aa2c24a0ca4d413203a697900": {
      "model_module": "@jupyter-widgets/controls",
      "model_module_version": "1.5.0",
      "model_name": "HTMLModel",
      "state": {
       "layout": "IPY_MODEL_d7b0251d668f425c8981898b7e624d53",
       "style": "IPY_MODEL_42089eabbcbc4ae6b6595679d96cbb59",
       "value": "ibmq_casablanca"
      }
     },
     "b3fb588b42be4afbb812913ee56d2aab": {
      "model_module": "@jupyter-widgets/base",
      "model_module_version": "1.2.0",
      "model_name": "LayoutModel",
      "state": {
       "width": "70px"
      }
     },
     "b44349b34c8045fdaae3011ca4f0ddc7": {
      "model_module": "@jupyter-widgets/controls",
      "model_module_version": "1.5.0",
      "model_name": "HTMLModel",
      "state": {
       "layout": "IPY_MODEL_8e8f12b6764f4193ac4dd1779594d70f",
       "style": "IPY_MODEL_6618a333cd344a55a8163cd42bbb1020",
       "value": "job has successfully run"
      }
     },
     "b487807cfdfb4d00b77207b4962a803c": {
      "model_module": "@jupyter-widgets/controls",
      "model_module_version": "1.5.0",
      "model_name": "DescriptionStyleModel",
      "state": {
       "description_width": ""
      }
     },
     "b4adea452c04486996174c74c4889bda": {
      "model_module": "@jupyter-widgets/controls",
      "model_module_version": "1.5.0",
      "model_name": "DescriptionStyleModel",
      "state": {
       "description_width": ""
      }
     },
     "b4ae0d754bbb40bc9c1ff6e1c140c9c7": {
      "model_module": "@jupyter-widgets/controls",
      "model_module_version": "1.5.0",
      "model_name": "DescriptionStyleModel",
      "state": {
       "description_width": ""
      }
     },
     "b519b21246e74573945e234990dad029": {
      "model_module": "@jupyter-widgets/controls",
      "model_module_version": "1.5.0",
      "model_name": "ButtonModel",
      "state": {
       "icon": "close",
       "layout": "IPY_MODEL_d921f8b19c414b958e7d827642717de9",
       "style": "IPY_MODEL_365258ec0b464fa2ad117a736b1907ee"
      }
     },
     "b568d9ca476c45259544f5d9dc63d83d": {
      "model_module": "@jupyter-widgets/base",
      "model_module_version": "1.2.0",
      "model_name": "LayoutModel",
      "state": {
       "width": "145px"
      }
     },
     "b5af131abf6d40ef8c955c1efe8c78ea": {
      "model_module": "@jupyter-widgets/base",
      "model_module_version": "1.2.0",
      "model_name": "LayoutModel",
      "state": {
       "overflow_x": "scroll"
      }
     },
     "b5b86f9e3c48489f9355cd7a3316a150": {
      "model_module": "@jupyter-widgets/controls",
      "model_module_version": "1.5.0",
      "model_name": "HTMLModel",
      "state": {
       "layout": "IPY_MODEL_405c1c7d235749148c473d044002a0a6",
       "style": "IPY_MODEL_e2c99a674c874536b4edf5831a7eb659",
       "value": "-"
      }
     },
     "b5fa8dc61a8d40438a36e5b508950e4f": {
      "model_module": "@jupyter-widgets/controls",
      "model_module_version": "1.5.0",
      "model_name": "HTMLModel",
      "state": {
       "layout": "IPY_MODEL_14a1821640e9435bb9990eaa28ee9421",
       "style": "IPY_MODEL_cccb1bde63bb4979a22012fe188f0e36",
       "value": "-"
      }
     },
     "b60b375485974469abe5ee31c111b57e": {
      "model_module": "@jupyter-widgets/controls",
      "model_module_version": "1.5.0",
      "model_name": "ButtonModel",
      "state": {
       "icon": "close",
       "layout": "IPY_MODEL_d320914cdc9b43e4b8af1eae2564b4c7",
       "style": "IPY_MODEL_29c5de5474e74c3e92732dcb6373080a"
      }
     },
     "b61821741cbb4c769733d51a88a88b05": {
      "model_module": "@jupyter-widgets/controls",
      "model_module_version": "1.5.0",
      "model_name": "HBoxModel",
      "state": {
       "children": [
        "IPY_MODEL_6957b9865337448da21e3cc5d7344855",
        "IPY_MODEL_3389a82dc00a457da7bc4f4b56524fe8",
        "IPY_MODEL_2479dedce8ce4407a009bc9ba6c5c167",
        "IPY_MODEL_c0073c5478d548099e0fd40a0f1fa5a7",
        "IPY_MODEL_badf7fcce108446eadc00d9bbc00618a",
        "IPY_MODEL_c40a6307620045459fe603925450ce41"
       ],
       "layout": "IPY_MODEL_05d576c9ffbd4c85a6ac2f5b3cb847dc"
      }
     },
     "b62a3c9d2b2a417383625c087bc40f13": {
      "model_module": "@jupyter-widgets/base",
      "model_module_version": "1.2.0",
      "model_name": "LayoutModel",
      "state": {
       "max_width": "700px",
       "min_width": "700px"
      }
     },
     "b6c1d031756c46a081e98174ca3db114": {
      "model_module": "@jupyter-widgets/base",
      "model_module_version": "1.2.0",
      "model_name": "LayoutModel",
      "state": {
       "width": "70px"
      }
     },
     "b6eeb142a5c146648d00e632e075e94c": {
      "model_module": "@jupyter-widgets/controls",
      "model_module_version": "1.5.0",
      "model_name": "ButtonModel",
      "state": {
       "icon": "close",
       "layout": "IPY_MODEL_a0a26b0d07fc47a89336289e534612c8",
       "style": "IPY_MODEL_0ed80009ccf94bdcbf3057806ac1ea51"
      }
     },
     "b73c2ca82d254aabaea2dc304173b08e": {
      "model_module": "@jupyter-widgets/controls",
      "model_module_version": "1.5.0",
      "model_name": "DescriptionStyleModel",
      "state": {
       "description_width": ""
      }
     },
     "b74d72814957499eb78c41e5c4a02c4b": {
      "model_module": "@jupyter-widgets/controls",
      "model_module_version": "1.5.0",
      "model_name": "HBoxModel",
      "state": {
       "children": [
        "IPY_MODEL_fb29a0565cda48838c95a87df93e6705",
        "IPY_MODEL_b7c48a0927ad465081b9adf5555014fa",
        "IPY_MODEL_1058817380ab431a893384ced8155df0",
        "IPY_MODEL_37bb443359ea4740a8e85cafbad227a9",
        "IPY_MODEL_f4e160570173436a8b3bb00f0b3ddc54",
        "IPY_MODEL_76305901ff6a4106b0c6fef1c8d02595"
       ],
       "layout": "IPY_MODEL_02ee457493e846008cf31308fa0a73cc"
      }
     },
     "b752d88e78d04dd281b00d503a5e490b": {
      "model_module": "@jupyter-widgets/base",
      "model_module_version": "1.2.0",
      "model_name": "LayoutModel",
      "state": {
       "width": "190px"
      }
     },
     "b7c48a0927ad465081b9adf5555014fa": {
      "model_module": "@jupyter-widgets/controls",
      "model_module_version": "1.5.0",
      "model_name": "HTMLModel",
      "state": {
       "layout": "IPY_MODEL_63f751e305ef40ef92c7e2077579e96a",
       "style": "IPY_MODEL_66afc81063aa42ea9d8598ce1f6fd40f",
       "value": "61a118e9398b845cd0c29313"
      }
     },
     "b7f7fb88a5cb40c2ac67f6252b4a4602": {
      "model_module": "@jupyter-widgets/controls",
      "model_module_version": "1.5.0",
      "model_name": "ButtonStyleModel",
      "state": {
       "button_color": "white"
      }
     },
     "b80d48ddd4984e4e87fdbef34260bc9e": {
      "model_module": "@jupyter-widgets/controls",
      "model_module_version": "1.5.0",
      "model_name": "DescriptionStyleModel",
      "state": {
       "description_width": ""
      }
     },
     "b82d7292857841f885562cc365db72b1": {
      "model_module": "@jupyter-widgets/controls",
      "model_module_version": "1.5.0",
      "model_name": "DescriptionStyleModel",
      "state": {
       "description_width": ""
      }
     },
     "b84825efe83445cf9c18e0d59226e645": {
      "model_module": "@jupyter-widgets/base",
      "model_module_version": "1.2.0",
      "model_name": "LayoutModel",
      "state": {
       "width": "95px"
      }
     },
     "b8bf86c916204693a049acce209f9b43": {
      "model_module": "@jupyter-widgets/controls",
      "model_module_version": "1.5.0",
      "model_name": "HBoxModel",
      "state": {
       "children": [
        "IPY_MODEL_b8f69a5e841d4e369d0f55f19d0d6759",
        "IPY_MODEL_44f9ecae39934ec68534c0605833cfad",
        "IPY_MODEL_3344143ce0094c728073835addf78381",
        "IPY_MODEL_b9cc1b59dde14f7b894884dd7835f216",
        "IPY_MODEL_daf1b2257ea042a3948063a60e2606ad",
        "IPY_MODEL_814572fdd77c43168cbcb07ca74879ca"
       ],
       "layout": "IPY_MODEL_0598eb146d7444c4a0b82058544c22f0"
      }
     },
     "b8f69a5e841d4e369d0f55f19d0d6759": {
      "model_module": "@jupyter-widgets/controls",
      "model_module_version": "1.5.0",
      "model_name": "ButtonModel",
      "state": {
       "icon": "close",
       "layout": "IPY_MODEL_5715d8640a56488c8661bf03e132fe86",
       "style": "IPY_MODEL_3e9c01195ff84cf8a12d4e6c477cde90"
      }
     },
     "b972c04e71ba4ff1b1fa1a4463759bb7": {
      "model_module": "@jupyter-widgets/controls",
      "model_module_version": "1.5.0",
      "model_name": "ButtonModel",
      "state": {
       "icon": "close",
       "layout": "IPY_MODEL_c597c32f8c93463a902adf16082b72b1",
       "style": "IPY_MODEL_0e2771ac1e2c4cc7bbcf67b5a3dea489"
      }
     },
     "b9cc1b59dde14f7b894884dd7835f216": {
      "model_module": "@jupyter-widgets/controls",
      "model_module_version": "1.5.0",
      "model_name": "HTMLModel",
      "state": {
       "layout": "IPY_MODEL_9cf9094ba95846ccba296b2024b25289",
       "style": "IPY_MODEL_b4ae0d754bbb40bc9c1ff6e1c140c9c7",
       "value": "<font style='color:#34BC6E'>DONE</font>"
      }
     },
     "ba10dd9209b046eebe1e9f32a295fc7b": {
      "model_module": "@jupyter-widgets/base",
      "model_module_version": "1.2.0",
      "model_name": "LayoutModel",
      "state": {
       "overflow_x": "scroll"
      }
     },
     "ba842b8ec5a04b7fb9d2cf529197a464": {
      "model_module": "@jupyter-widgets/base",
      "model_module_version": "1.2.0",
      "model_name": "LayoutModel",
      "state": {
       "overflow_x": "scroll"
      }
     },
     "badad828adcd4756a34883f1c752bf7e": {
      "model_module": "@jupyter-widgets/controls",
      "model_module_version": "1.5.0",
      "model_name": "HBoxModel",
      "state": {
       "children": [
        "IPY_MODEL_446725af196d4b88b61926e2d782df4e",
        "IPY_MODEL_6e25bcf9b98d4cb7bdf0feef460d4592",
        "IPY_MODEL_2df565db869447129fb83ba27c0b29d2",
        "IPY_MODEL_d87e415566e84a9aadfbe6638c9b35ad",
        "IPY_MODEL_b5fa8dc61a8d40438a36e5b508950e4f",
        "IPY_MODEL_0327e5d8ded04442bfac953d78d00c1d"
       ],
       "layout": "IPY_MODEL_9b22c79ca1c64bfe9957c641e5c2fed7"
      }
     },
     "badf7fcce108446eadc00d9bbc00618a": {
      "model_module": "@jupyter-widgets/controls",
      "model_module_version": "1.5.0",
      "model_name": "HTMLModel",
      "state": {
       "layout": "IPY_MODEL_7e4a2d6b4c48494fbe39b02f4a0a733e",
       "style": "IPY_MODEL_cb8971ea9d5048c69f888c9762d59f7a",
       "value": "-"
      }
     },
     "bb06c40c1db54a78a81a5cf89d90335f": {
      "model_module": "@jupyter-widgets/controls",
      "model_module_version": "1.5.0",
      "model_name": "DescriptionStyleModel",
      "state": {
       "description_width": ""
      }
     },
     "bc37c09b03d1423b8e08e911844c20d3": {
      "model_module": "@jupyter-widgets/base",
      "model_module_version": "1.2.0",
      "model_name": "LayoutModel",
      "state": {
       "max_width": "700px",
       "min_width": "700px"
      }
     },
     "bc7502bdf1df4d6995593f609d800872": {
      "model_module": "@jupyter-widgets/base",
      "model_module_version": "1.2.0",
      "model_name": "LayoutModel",
      "state": {
       "width": "145px"
      }
     },
     "bd471b2eca024643a9b6ac46c99077cf": {
      "model_module": "@jupyter-widgets/controls",
      "model_module_version": "1.5.0",
      "model_name": "HTMLModel",
      "state": {
       "layout": "IPY_MODEL_3f0f0adf31704d1ca99126fa4e74fd51",
       "style": "IPY_MODEL_30d1a3a4f67446b892031bf04e6205a4",
       "value": "<font style='color:#34BC6E'>DONE</font>"
      }
     },
     "bdb0460acbca4dd2b6e6684511ea95e8": {
      "model_module": "@jupyter-widgets/controls",
      "model_module_version": "1.5.0",
      "model_name": "HTMLModel",
      "state": {
       "layout": "IPY_MODEL_85acb16d03454faead1f6e995199574b",
       "style": "IPY_MODEL_fa5d45ce8d154f1388789e27b0ec5d4d",
       "value": "ibmq_casablanca"
      }
     },
     "bdb983807fc648699a0c9012f3e4b918": {
      "model_module": "@jupyter-widgets/base",
      "model_module_version": "1.2.0",
      "model_name": "LayoutModel",
      "state": {
       "max_width": "700px",
       "min_width": "700px"
      }
     },
     "bdeabde3fcc545ecb1edb29056d7e3c2": {
      "model_module": "@jupyter-widgets/base",
      "model_module_version": "1.2.0",
      "model_name": "LayoutModel",
      "state": {
       "width": "145px"
      }
     },
     "be0a0fc59473442c9e40926b14c6ade7": {
      "model_module": "@jupyter-widgets/controls",
      "model_module_version": "1.5.0",
      "model_name": "ButtonStyleModel",
      "state": {
       "button_color": "white"
      }
     },
     "be57630d9be44fd291c136bc585943c2": {
      "model_module": "@jupyter-widgets/controls",
      "model_module_version": "1.5.0",
      "model_name": "HTMLModel",
      "state": {
       "layout": "IPY_MODEL_c036f581177342149bc706158b43dda2",
       "style": "IPY_MODEL_656836493f1444c49f92861ac8c30dd5",
       "value": "<font style='color:#34BC6E'>DONE</font>"
      }
     },
     "be66f769f830437f8a0dd6c9f5e0f93d": {
      "model_module": "@jupyter-widgets/controls",
      "model_module_version": "1.5.0",
      "model_name": "ButtonStyleModel",
      "state": {
       "button_color": "white"
      }
     },
     "bea35c6fe127468a8a538d63e84ae651": {
      "model_module": "@jupyter-widgets/base",
      "model_module_version": "1.2.0",
      "model_name": "LayoutModel",
      "state": {
       "margin": "0px 5px 0px 0px",
       "width": "32px"
      }
     },
     "bea98bfaeb0345678288f60ccfa53e2d": {
      "model_module": "@jupyter-widgets/controls",
      "model_module_version": "1.5.0",
      "model_name": "DescriptionStyleModel",
      "state": {
       "description_width": ""
      }
     },
     "bedb26cb52164463802330f9c57182eb": {
      "model_module": "@jupyter-widgets/controls",
      "model_module_version": "1.5.0",
      "model_name": "DescriptionStyleModel",
      "state": {
       "description_width": ""
      }
     },
     "bf176e1e185d4317a79dd435b9b777f1": {
      "model_module": "@jupyter-widgets/controls",
      "model_module_version": "1.5.0",
      "model_name": "HTMLModel",
      "state": {
       "layout": "IPY_MODEL_f792b7a16e2944588757376b3e90b4e7",
       "style": "IPY_MODEL_7c4f4d4be88f4aa59aad8d98c3a85655",
       "value": "job has successfully run"
      }
     },
     "bf3174de1bd740be9257aceeb23fd99f": {
      "model_module": "@jupyter-widgets/controls",
      "model_module_version": "1.5.0",
      "model_name": "DescriptionStyleModel",
      "state": {
       "description_width": ""
      }
     },
     "bfa246c62a40440da9a96f8e24a6c8df": {
      "model_module": "@jupyter-widgets/controls",
      "model_module_version": "1.5.0",
      "model_name": "ButtonStyleModel",
      "state": {
       "button_color": "white"
      }
     },
     "bff64d5f8ae54adab8f682e761578993": {
      "model_module": "@jupyter-widgets/base",
      "model_module_version": "1.2.0",
      "model_name": "LayoutModel",
      "state": {
       "overflow_x": "scroll"
      }
     },
     "c0073c5478d548099e0fd40a0f1fa5a7": {
      "model_module": "@jupyter-widgets/controls",
      "model_module_version": "1.5.0",
      "model_name": "HTMLModel",
      "state": {
       "layout": "IPY_MODEL_9bcf09c176904548a0655447130f8ca6",
       "style": "IPY_MODEL_7e22e9bcbf794430a1900d661510c2cb",
       "value": "<font style='color:#34BC6E'>DONE</font>"
      }
     },
     "c012a98645af41298ff6cc450033ee33": {
      "model_module": "@jupyter-widgets/controls",
      "model_module_version": "1.5.0",
      "model_name": "DescriptionStyleModel",
      "state": {
       "description_width": ""
      }
     },
     "c036f581177342149bc706158b43dda2": {
      "model_module": "@jupyter-widgets/base",
      "model_module_version": "1.2.0",
      "model_name": "LayoutModel",
      "state": {
       "width": "95px"
      }
     },
     "c09747f011294a54a4a5936c6e9a7282": {
      "model_module": "@jupyter-widgets/controls",
      "model_module_version": "1.5.0",
      "model_name": "HTMLModel",
      "state": {
       "layout": "IPY_MODEL_10c181da63364e659b913ea7ede13696",
       "style": "IPY_MODEL_066449e0be7f4ba4a1b8b3f08ee44549",
       "value": "job has successfully run"
      }
     },
     "c0f6ee133d1d4c45afaa9a7359579cbc": {
      "model_module": "@jupyter-widgets/base",
      "model_module_version": "1.2.0",
      "model_name": "LayoutModel",
      "state": {
       "width": "95px"
      }
     },
     "c1a3ec91d8eb482db31659e25bf4fc31": {
      "model_module": "@jupyter-widgets/controls",
      "model_module_version": "1.5.0",
      "model_name": "DescriptionStyleModel",
      "state": {
       "description_width": ""
      }
     },
     "c1bd5d37c6224a9d8cd102edf81f4bb2": {
      "model_module": "@jupyter-widgets/controls",
      "model_module_version": "1.5.0",
      "model_name": "DescriptionStyleModel",
      "state": {
       "description_width": ""
      }
     },
     "c268939c27314c1ea22a527265e55525": {
      "model_module": "@jupyter-widgets/controls",
      "model_module_version": "1.5.0",
      "model_name": "HTMLModel",
      "state": {
       "layout": "IPY_MODEL_533e537aa8104dccbd99a21a1b1318f6",
       "style": "IPY_MODEL_5da40dc905f848f1ac95e6d0dc4c5447",
       "value": "61a11041fd3a885f5f5901ca"
      }
     },
     "c2ecd419a7fd4832aa2b20dba407432b": {
      "model_module": "@jupyter-widgets/controls",
      "model_module_version": "1.5.0",
      "model_name": "DescriptionStyleModel",
      "state": {
       "description_width": ""
      }
     },
     "c3b5362527934634b290880501a11879": {
      "model_module": "@jupyter-widgets/controls",
      "model_module_version": "1.5.0",
      "model_name": "HTMLModel",
      "state": {
       "layout": "IPY_MODEL_58ebccca9e0c477c98a842a5b4c41840",
       "style": "IPY_MODEL_5193840e142647acb1d4364abde13d14",
       "value": "job has successfully run"
      }
     },
     "c3e093984983473a9dd894089e77067b": {
      "model_module": "@jupyter-widgets/base",
      "model_module_version": "1.2.0",
      "model_name": "LayoutModel",
      "state": {
       "max_width": "700px",
       "min_width": "700px"
      }
     },
     "c3f7af9a896f4db6abab8ab98292c074": {
      "model_module": "@jupyter-widgets/controls",
      "model_module_version": "1.5.0",
      "model_name": "ButtonModel",
      "state": {
       "icon": "close",
       "layout": "IPY_MODEL_38c08255f71d46e783e0479f6c93f6f6",
       "style": "IPY_MODEL_4847d3e37e0a47fab1c8e28081be3c6d"
      }
     },
     "c40a6307620045459fe603925450ce41": {
      "model_module": "@jupyter-widgets/controls",
      "model_module_version": "1.5.0",
      "model_name": "HTMLModel",
      "state": {
       "layout": "IPY_MODEL_fc881e962eb742de9b871b8699419503",
       "style": "IPY_MODEL_c012a98645af41298ff6cc450033ee33",
       "value": "job has successfully run"
      }
     },
     "c482e0e39fa14ba8a8649dad753b97a0": {
      "model_module": "@jupyter-widgets/controls",
      "model_module_version": "1.5.0",
      "model_name": "DescriptionStyleModel",
      "state": {
       "description_width": ""
      }
     },
     "c4bc81c917044aa3899b9ae7b0c50bd1": {
      "model_module": "@jupyter-widgets/controls",
      "model_module_version": "1.5.0",
      "model_name": "HTMLModel",
      "state": {
       "layout": "IPY_MODEL_0d736633da9e463585be81b426d4c0a0",
       "style": "IPY_MODEL_59c36c6bead14710a1eebedf40c27666",
       "value": "61a13048fd3a88bdc559031b"
      }
     },
     "c4cd369e05064a0daa8914b736308e1f": {
      "model_module": "@jupyter-widgets/base",
      "model_module_version": "1.2.0",
      "model_name": "LayoutModel",
      "state": {
       "width": "145px"
      }
     },
     "c4ebd40c94994984b10e647224f336b9": {
      "model_module": "@jupyter-widgets/base",
      "model_module_version": "1.2.0",
      "model_name": "LayoutModel",
      "state": {
       "width": "95px"
      }
     },
     "c54e0c43b1b24d54a23845d1e5cb015e": {
      "model_module": "@jupyter-widgets/base",
      "model_module_version": "1.2.0",
      "model_name": "LayoutModel",
      "state": {
       "overflow_x": "scroll"
      }
     },
     "c597c32f8c93463a902adf16082b72b1": {
      "model_module": "@jupyter-widgets/base",
      "model_module_version": "1.2.0",
      "model_name": "LayoutModel",
      "state": {
       "margin": "0px 5px 0px 0px",
       "width": "32px"
      }
     },
     "c5a933ed49a54118ab014737a66a0c95": {
      "model_module": "@jupyter-widgets/base",
      "model_module_version": "1.2.0",
      "model_name": "LayoutModel",
      "state": {
       "margin": "0px 5px 0px 0px",
       "width": "32px"
      }
     },
     "c5b46bb0eb4e44a5917b30e2d56a79de": {
      "model_module": "@jupyter-widgets/controls",
      "model_module_version": "1.5.0",
      "model_name": "ButtonModel",
      "state": {
       "icon": "close",
       "layout": "IPY_MODEL_d6685147797d440688da5dbf06cecd42",
       "style": "IPY_MODEL_403dae499e814d8b83f7439d1dcb230f"
      }
     },
     "c600f40a0d3344de977247f828ab47b0": {
      "model_module": "@jupyter-widgets/controls",
      "model_module_version": "1.5.0",
      "model_name": "DescriptionStyleModel",
      "state": {
       "description_width": ""
      }
     },
     "c6aac3d6b4e44126b193296ec5128485": {
      "model_module": "@jupyter-widgets/base",
      "model_module_version": "1.2.0",
      "model_name": "LayoutModel",
      "state": {
       "max_width": "700px",
       "min_width": "700px"
      }
     },
     "c6fa64b4853b43d09224776de8b0d62f": {
      "model_module": "@jupyter-widgets/controls",
      "model_module_version": "1.5.0",
      "model_name": "HBoxModel",
      "state": {
       "children": [
        "IPY_MODEL_b60b375485974469abe5ee31c111b57e",
        "IPY_MODEL_76906aa883ac4d4fb60736e4fe7bb9ce",
        "IPY_MODEL_712c091e57434babb1e8fa5249c745b6",
        "IPY_MODEL_08e2f6f670ab4a7387e45433695c2189",
        "IPY_MODEL_9a83b7dd9d3d489396509e67e2a69d57",
        "IPY_MODEL_f31de08c73ae44f4876a99e66ebf51cc"
       ],
       "layout": "IPY_MODEL_9188c1d31c6c4beea6fa6a81a854fcfb"
      }
     },
     "c860877de5f645939dfd50790d400ed6": {
      "model_module": "@jupyter-widgets/controls",
      "model_module_version": "1.5.0",
      "model_name": "DescriptionStyleModel",
      "state": {
       "description_width": ""
      }
     },
     "c932dc162cc848b39a705de7e8a8ee87": {
      "model_module": "@jupyter-widgets/controls",
      "model_module_version": "1.5.0",
      "model_name": "ButtonStyleModel",
      "state": {
       "button_color": "white"
      }
     },
     "c94729e2fafc418d80c806302f0c8969": {
      "model_module": "@jupyter-widgets/controls",
      "model_module_version": "1.5.0",
      "model_name": "DescriptionStyleModel",
      "state": {
       "description_width": ""
      }
     },
     "c9490ff0db9e437abedaeb871fc253a8": {
      "model_module": "@jupyter-widgets/base",
      "model_module_version": "1.2.0",
      "model_name": "LayoutModel",
      "state": {
       "max_width": "700px",
       "min_width": "700px"
      }
     },
     "c9ab05b836d2482ba0ea73df2a5aa554": {
      "model_module": "@jupyter-widgets/controls",
      "model_module_version": "1.5.0",
      "model_name": "DescriptionStyleModel",
      "state": {
       "description_width": ""
      }
     },
     "cb4ccd0b72d7417f8c586b051e485e35": {
      "model_module": "@jupyter-widgets/controls",
      "model_module_version": "1.5.0",
      "model_name": "DescriptionStyleModel",
      "state": {
       "description_width": ""
      }
     },
     "cb8971ea9d5048c69f888c9762d59f7a": {
      "model_module": "@jupyter-widgets/controls",
      "model_module_version": "1.5.0",
      "model_name": "DescriptionStyleModel",
      "state": {
       "description_width": ""
      }
     },
     "cccb1bde63bb4979a22012fe188f0e36": {
      "model_module": "@jupyter-widgets/controls",
      "model_module_version": "1.5.0",
      "model_name": "DescriptionStyleModel",
      "state": {
       "description_width": ""
      }
     },
     "cd16af62ac2b40329b7e3a6acfa2223c": {
      "model_module": "@jupyter-widgets/controls",
      "model_module_version": "1.5.0",
      "model_name": "HTMLModel",
      "state": {
       "layout": "IPY_MODEL_96358456126647b2acbdc85a21a2541f",
       "style": "IPY_MODEL_01c7b99d6ae84d789bbc4d5dc5e7507f",
       "value": "ibmq_casablanca"
      }
     },
     "cd190817e0a34655b6cd54949acdeb47": {
      "model_module": "@jupyter-widgets/base",
      "model_module_version": "1.2.0",
      "model_name": "LayoutModel",
      "state": {
       "width": "70px"
      }
     },
     "ce9362673568406db09f609e590628c8": {
      "model_module": "@jupyter-widgets/controls",
      "model_module_version": "1.5.0",
      "model_name": "HBoxModel",
      "state": {
       "children": [
        "IPY_MODEL_906201d5df4d405d91ee40282d1e4804",
        "IPY_MODEL_67b60e992fd246fa8bf5417d4653067f",
        "IPY_MODEL_02f1d3ff077f48d793501b1073855d3f",
        "IPY_MODEL_97233c30ff1e4e2ca799d9cdcd972ec7",
        "IPY_MODEL_13405dab28b943b2ae772e04373b3a93"
       ],
       "layout": "IPY_MODEL_45a77684389949d6835e3cf30374d2ad"
      }
     },
     "ce9fb4b3c24c44b6a7e6d5f048a3c93d": {
      "model_module": "@jupyter-widgets/base",
      "model_module_version": "1.2.0",
      "model_name": "LayoutModel",
      "state": {
       "margin": "0px 0px 10px 0px"
      }
     },
     "cef9d8b10cd64d49aa47dac56a07fbd8": {
      "model_module": "@jupyter-widgets/controls",
      "model_module_version": "1.5.0",
      "model_name": "HTMLModel",
      "state": {
       "layout": "IPY_MODEL_6511d65f07294a338917b6c016af11c4",
       "style": "IPY_MODEL_4a235d7530df46089f96f768330708a9",
       "value": "61a10e7efd3a8852185901bf"
      }
     },
     "cfb400a305844a1398dda1fa39f00693": {
      "model_module": "@jupyter-widgets/controls",
      "model_module_version": "1.5.0",
      "model_name": "HTMLModel",
      "state": {
       "layout": "IPY_MODEL_0b79bfd19b2d4a8593a051899591b2e2",
       "style": "IPY_MODEL_995a058ccc4c47d8a4693bf0136f2e6b",
       "value": "job has successfully run"
      }
     },
     "cfe61a2608a5416d84c66a2accea7a62": {
      "model_module": "@jupyter-widgets/base",
      "model_module_version": "1.2.0",
      "model_name": "LayoutModel",
      "state": {
       "width": "70px"
      }
     },
     "d00aee34164043a3bd86213287d4a4c1": {
      "model_module": "@jupyter-widgets/controls",
      "model_module_version": "1.5.0",
      "model_name": "DescriptionStyleModel",
      "state": {
       "description_width": ""
      }
     },
     "d05e7b17c6d5489b893b06927939035c": {
      "model_module": "@jupyter-widgets/controls",
      "model_module_version": "1.5.0",
      "model_name": "HTMLModel",
      "state": {
       "layout": "IPY_MODEL_13885d0247f148aca36fbf4240b1b522",
       "style": "IPY_MODEL_015fbf3fec4c4c0fac3a881447b940df",
       "value": "<font style='color:#34BC6E'>DONE</font>"
      }
     },
     "d08b31fd48034442a9c5c17650436ca9": {
      "model_module": "@jupyter-widgets/base",
      "model_module_version": "1.2.0",
      "model_name": "LayoutModel",
      "state": {
       "overflow_x": "scroll"
      }
     },
     "d0c48d46dbf54cf190f6692036b7b0b6": {
      "model_module": "@jupyter-widgets/controls",
      "model_module_version": "1.5.0",
      "model_name": "HTMLModel",
      "state": {
       "layout": "IPY_MODEL_df706202188246f7909497ce3fa4ac39",
       "style": "IPY_MODEL_432b75f1294a454188aea1478602c268",
       "value": "61a13289fd3a88e36a59032c"
      }
     },
     "d0ef6d74ca7d4a44a82b30db25950e2e": {
      "model_module": "@jupyter-widgets/controls",
      "model_module_version": "1.5.0",
      "model_name": "DescriptionStyleModel",
      "state": {
       "description_width": ""
      }
     },
     "d15e1533bc724333937f80b5c8b2595b": {
      "model_module": "@jupyter-widgets/controls",
      "model_module_version": "1.5.0",
      "model_name": "HBoxModel",
      "state": {
       "children": [
        "IPY_MODEL_dde8f0a82cee4bcb8e3fff4c0e390a8c",
        "IPY_MODEL_702cd88d367d4d7e9ef7e30bf21afb2b",
        "IPY_MODEL_0401879d398545e3b230d4872e504d03",
        "IPY_MODEL_431fa5cd085a4295b8132b127e4546be",
        "IPY_MODEL_ae3d27f880494a35af881e9b326fef6f",
        "IPY_MODEL_8d889814e6654c2eb1e364279bc82856"
       ],
       "layout": "IPY_MODEL_8776bdafec4a4dfd8eef2cdf7fb19d40"
      }
     },
     "d2058278c79a45f39d65c24f36f4f558": {
      "model_module": "@jupyter-widgets/controls",
      "model_module_version": "1.5.0",
      "model_name": "HTMLModel",
      "state": {
       "layout": "IPY_MODEL_83e2f7a2a61f4ac08e4979b6f46e1389",
       "style": "IPY_MODEL_29f502e516eb4ba6b9f4da7be8178b2e",
       "value": "job has successfully run"
      }
     },
     "d21b091abc454a7bb2e881238f2df604": {
      "model_module": "@jupyter-widgets/controls",
      "model_module_version": "1.5.0",
      "model_name": "HTMLModel",
      "state": {
       "layout": "IPY_MODEL_4d502a7a0d9e4c058c80a1f64ac9f0d4",
       "style": "IPY_MODEL_642b273a7bea4e099698429c0c1d39d6",
       "value": "ibmq_casablanca"
      }
     },
     "d25d01f2de374262923894f3338157bd": {
      "model_module": "@jupyter-widgets/controls",
      "model_module_version": "1.5.0",
      "model_name": "ButtonModel",
      "state": {
       "icon": "close",
       "layout": "IPY_MODEL_4a25d4a7707b4f7e87613bf41d845c84",
       "style": "IPY_MODEL_75ef7b55a41d4cc48d4bfbe31a00cf45"
      }
     },
     "d29b234d8feb44f29ae0441cf99dbed9": {
      "model_module": "@jupyter-widgets/base",
      "model_module_version": "1.2.0",
      "model_name": "LayoutModel",
      "state": {
       "width": "190px"
      }
     },
     "d2a7399ff1b748b39521ca54f3bc4c74": {
      "model_module": "@jupyter-widgets/controls",
      "model_module_version": "1.5.0",
      "model_name": "HBoxModel",
      "state": {
       "children": [
        "IPY_MODEL_49471f2221cd4e068cf5a38ca48d135b",
        "IPY_MODEL_76d50b28af6043199854e479ccc9c43f",
        "IPY_MODEL_b0762ad8f9e94edb991696de7d945f8f",
        "IPY_MODEL_f33366e89c354994be43387038a09636",
        "IPY_MODEL_9743bbe5292041d09e9037bd5df670f8",
        "IPY_MODEL_bf176e1e185d4317a79dd435b9b777f1"
       ],
       "layout": "IPY_MODEL_ff99633da9784e5cadc7cf4c6ccc6b96"
      }
     },
     "d2e61fd73dbe436a84dad4579f60e4ae": {
      "model_module": "@jupyter-widgets/controls",
      "model_module_version": "1.5.0",
      "model_name": "HTMLModel",
      "state": {
       "layout": "IPY_MODEL_49a9f7567a76406c847db1ba137eebf9",
       "style": "IPY_MODEL_e66c33e8a3b6423ba82af5bd85f6042a",
       "value": "-"
      }
     },
     "d320914cdc9b43e4b8af1eae2564b4c7": {
      "model_module": "@jupyter-widgets/base",
      "model_module_version": "1.2.0",
      "model_name": "LayoutModel",
      "state": {
       "margin": "0px 5px 0px 0px",
       "width": "32px"
      }
     },
     "d398c18d7d6b45ef880e8a3cf29f0a8a": {
      "model_module": "@jupyter-widgets/base",
      "model_module_version": "1.2.0",
      "model_name": "LayoutModel",
      "state": {
       "grid_template_areas": "\n                                       \". . . . right \"\n                                        ",
       "grid_template_columns": "20% 20% 20% 20% 20%",
       "width": "100%"
      }
     },
     "d3d8e06a0704491ebb1e6e0700a82b4e": {
      "model_module": "@jupyter-widgets/controls",
      "model_module_version": "1.5.0",
      "model_name": "HTMLModel",
      "state": {
       "layout": "IPY_MODEL_9ec7ff033a1b40a2bfaea371bac9e9a0",
       "style": "IPY_MODEL_3b43937b1074497ea381fe38096841bd",
       "value": "61a11104cbd506c22afefd98"
      }
     },
     "d3e1799c057f4e779ca38660f98dd474": {
      "model_module": "@jupyter-widgets/base",
      "model_module_version": "1.2.0",
      "model_name": "LayoutModel",
      "state": {
       "width": "145px"
      }
     },
     "d43743f8ab0146229bcf53b39bda80aa": {
      "model_module": "@jupyter-widgets/controls",
      "model_module_version": "1.5.0",
      "model_name": "HTMLModel",
      "state": {
       "layout": "IPY_MODEL_e87180b73cd9481cbdabcd91fc435168",
       "style": "IPY_MODEL_7b2831c7d4464ad68f7d3047980eaf03",
       "value": "job has successfully run"
      }
     },
     "d456e012974246d3b5097ea09de2bb23": {
      "model_module": "@jupyter-widgets/base",
      "model_module_version": "1.2.0",
      "model_name": "LayoutModel",
      "state": {
       "margin": "0px 5px 0px 0px",
       "width": "32px"
      }
     },
     "d46a0bbd4f654bf6ba161dfd8f538eee": {
      "model_module": "@jupyter-widgets/controls",
      "model_module_version": "1.5.0",
      "model_name": "DescriptionStyleModel",
      "state": {
       "description_width": ""
      }
     },
     "d4b3c18680ed4a08bd9d1f35fbbb5be2": {
      "model_module": "@jupyter-widgets/controls",
      "model_module_version": "1.5.0",
      "model_name": "DescriptionStyleModel",
      "state": {
       "description_width": ""
      }
     },
     "d563c37137a649e9bb20f74827a0da35": {
      "model_module": "@jupyter-widgets/base",
      "model_module_version": "1.2.0",
      "model_name": "LayoutModel",
      "state": {
       "width": "70px"
      }
     },
     "d579b65486464678ba8f2a2c2c20fa9d": {
      "model_module": "@jupyter-widgets/base",
      "model_module_version": "1.2.0",
      "model_name": "LayoutModel",
      "state": {
       "width": "190px"
      }
     },
     "d5dd61c20bf24e0986472cfa46fa2a67": {
      "model_module": "@jupyter-widgets/base",
      "model_module_version": "1.2.0",
      "model_name": "LayoutModel",
      "state": {
       "width": "70px"
      }
     },
     "d5fa28c85dc149d8bf9be7146d519e73": {
      "model_module": "@jupyter-widgets/controls",
      "model_module_version": "1.5.0",
      "model_name": "HTMLModel",
      "state": {
       "layout": "IPY_MODEL_b752d88e78d04dd281b00d503a5e490b",
       "style": "IPY_MODEL_6c2f2672eb9e4738b3f1e4c468079e5a",
       "value": "61a1315bcbd50696e8fefefb"
      }
     },
     "d65a993c69aa42abb02ff92ccddf6cd6": {
      "model_module": "@jupyter-widgets/base",
      "model_module_version": "1.2.0",
      "model_name": "LayoutModel",
      "state": {
       "width": "190px"
      }
     },
     "d6685147797d440688da5dbf06cecd42": {
      "model_module": "@jupyter-widgets/base",
      "model_module_version": "1.2.0",
      "model_name": "LayoutModel",
      "state": {
       "margin": "0px 5px 0px 0px",
       "width": "32px"
      }
     },
     "d68b6c2d8c614cf29d161702b313b06b": {
      "model_module": "@jupyter-widgets/controls",
      "model_module_version": "1.5.0",
      "model_name": "DescriptionStyleModel",
      "state": {
       "description_width": ""
      }
     },
     "d775c83e7a5e4e508cda86fb6d28a740": {
      "model_module": "@jupyter-widgets/controls",
      "model_module_version": "1.5.0",
      "model_name": "HTMLModel",
      "state": {
       "layout": "IPY_MODEL_40761f61e0484876942aa14c6651e765",
       "style": "IPY_MODEL_9bb1390ed46b4f35af66c01a3d6c4a15",
       "value": "61a10b2ea6ac30178f902fea"
      }
     },
     "d792c665cbc8421ea7e7df5c90565842": {
      "model_module": "@jupyter-widgets/base",
      "model_module_version": "1.2.0",
      "model_name": "LayoutModel",
      "state": {
       "width": "190px"
      }
     },
     "d7b0251d668f425c8981898b7e624d53": {
      "model_module": "@jupyter-widgets/base",
      "model_module_version": "1.2.0",
      "model_name": "LayoutModel",
      "state": {
       "width": "145px"
      }
     },
     "d7b4a1ab86b648bc9a87c7dc35379a0b": {
      "model_module": "@jupyter-widgets/controls",
      "model_module_version": "1.5.0",
      "model_name": "DescriptionStyleModel",
      "state": {
       "description_width": ""
      }
     },
     "d7b763265bf24f7db357c35fd540c8cc": {
      "model_module": "@jupyter-widgets/base",
      "model_module_version": "1.2.0",
      "model_name": "LayoutModel",
      "state": {
       "overflow_x": "scroll"
      }
     },
     "d7c62a5bbd1b41d1a2ded22e81a93f19": {
      "model_module": "@jupyter-widgets/controls",
      "model_module_version": "1.5.0",
      "model_name": "HTMLModel",
      "state": {
       "layout": "IPY_MODEL_1782ad366a104d10ba6fbe7c5724ce3d",
       "style": "IPY_MODEL_647b2616d337493188dd09c9f836fa4f",
       "value": "-"
      }
     },
     "d7cf6712a54b40d9aaeb7c3ac572c3ec": {
      "model_module": "@jupyter-widgets/controls",
      "model_module_version": "1.5.0",
      "model_name": "HTMLModel",
      "state": {
       "layout": "IPY_MODEL_eb36f0734efc4c90a7d69320cb296dfb",
       "style": "IPY_MODEL_938f358596c94035956de3eed8d80cc6",
       "value": "job has successfully run"
      }
     },
     "d850fa61f7784d91abb1d14536362684": {
      "model_module": "@jupyter-widgets/base",
      "model_module_version": "1.2.0",
      "model_name": "LayoutModel",
      "state": {
       "margin": "0px 5px 0px 0px",
       "width": "32px"
      }
     },
     "d87e415566e84a9aadfbe6638c9b35ad": {
      "model_module": "@jupyter-widgets/controls",
      "model_module_version": "1.5.0",
      "model_name": "HTMLModel",
      "state": {
       "layout": "IPY_MODEL_da0f7fcf5e5347709118c2401acd551d",
       "style": "IPY_MODEL_0dcefac14d654ec98caf1a46457ae522",
       "value": "<font style='color:#34BC6E'>DONE</font>"
      }
     },
     "d8e4843b0a854a05895d332e80b55de6": {
      "model_module": "@jupyter-widgets/controls",
      "model_module_version": "1.5.0",
      "model_name": "DescriptionStyleModel",
      "state": {
       "description_width": ""
      }
     },
     "d8ec59e078c24f28bfa08d3b9924eda6": {
      "model_module": "@jupyter-widgets/controls",
      "model_module_version": "1.5.0",
      "model_name": "ButtonStyleModel",
      "state": {
       "button_color": "white"
      }
     },
     "d921f8b19c414b958e7d827642717de9": {
      "model_module": "@jupyter-widgets/base",
      "model_module_version": "1.2.0",
      "model_name": "LayoutModel",
      "state": {
       "margin": "0px 5px 0px 0px",
       "width": "32px"
      }
     },
     "d9d08596cf8f4c9b8ec33ab6032e2e48": {
      "model_module": "@jupyter-widgets/controls",
      "model_module_version": "1.5.0",
      "model_name": "ButtonModel",
      "state": {
       "icon": "close",
       "layout": "IPY_MODEL_1b655336d97048b38f3f3a6d031ae814",
       "style": "IPY_MODEL_2af0bace790e4f999fe2ddf31156ec5f"
      }
     },
     "da0f7fcf5e5347709118c2401acd551d": {
      "model_module": "@jupyter-widgets/base",
      "model_module_version": "1.2.0",
      "model_name": "LayoutModel",
      "state": {
       "width": "95px"
      }
     },
     "dad56197044d48c087008ad60aade4ba": {
      "model_module": "@jupyter-widgets/controls",
      "model_module_version": "1.5.0",
      "model_name": "HBoxModel",
      "state": {
       "children": [
        "IPY_MODEL_480a0966075041bdb48ec7a4c0093276",
        "IPY_MODEL_4987440dcd8f47d0ae3127480fc09518",
        "IPY_MODEL_0b67b10506294bc9ac2c0b44889585a6",
        "IPY_MODEL_f4c23014ec784ce3a65e036a2fcdf1b7",
        "IPY_MODEL_40d24a98695744748319ca4f3a0b6494",
        "IPY_MODEL_c3b5362527934634b290880501a11879"
       ],
       "layout": "IPY_MODEL_38503a9c2fde43c7849891ca88aa9a8a"
      }
     },
     "daf1b2257ea042a3948063a60e2606ad": {
      "model_module": "@jupyter-widgets/controls",
      "model_module_version": "1.5.0",
      "model_name": "HTMLModel",
      "state": {
       "layout": "IPY_MODEL_fb5c3190e1624f718ca49ba7015fb5b8",
       "style": "IPY_MODEL_b30923c89d8d4660a7d5afffe3909c09",
       "value": "-"
      }
     },
     "dafc05e18eed4a249611361c8227aa60": {
      "model_module": "@jupyter-widgets/controls",
      "model_module_version": "1.5.0",
      "model_name": "DescriptionStyleModel",
      "state": {
       "description_width": ""
      }
     },
     "db4e4ad1ab3e4617846404e59fd5b666": {
      "model_module": "@jupyter-widgets/controls",
      "model_module_version": "1.5.0",
      "model_name": "HTMLModel",
      "state": {
       "layout": "IPY_MODEL_12aed85bed5c4aba9023481eb9616883",
       "style": "IPY_MODEL_11cdac2dbddd4467aac70ef43e9a2b43",
       "value": "-"
      }
     },
     "dc27b9ab6024444a9341f15544b1c03a": {
      "model_module": "@jupyter-widgets/controls",
      "model_module_version": "1.5.0",
      "model_name": "ButtonStyleModel",
      "state": {
       "button_color": "white"
      }
     },
     "dc8c2f0f899243f2ab7f88804d307741": {
      "model_module": "@jupyter-widgets/base",
      "model_module_version": "1.2.0",
      "model_name": "LayoutModel",
      "state": {
       "width": "70px"
      }
     },
     "dd30f3e40e7c4d4b91693335119f6ba9": {
      "model_module": "@jupyter-widgets/controls",
      "model_module_version": "1.5.0",
      "model_name": "HBoxModel",
      "state": {
       "children": [
        "IPY_MODEL_8ac044c90ef941d297e5e10c091bc0ea",
        "IPY_MODEL_3b8202d5f49e4a698dbf2d87ee6685e0",
        "IPY_MODEL_93595d159bd8438a8fc20508b4b83152",
        "IPY_MODEL_f7e534741a634c3b84923bee91126224",
        "IPY_MODEL_21a3054fb25e43f7acb8434488388376",
        "IPY_MODEL_cfb400a305844a1398dda1fa39f00693"
       ],
       "layout": "IPY_MODEL_b30dd2b992814123bc1c77b9a7e8705b"
      }
     },
     "dd9fd740206e4d87ab272932d7ac7a3d": {
      "model_module": "@jupyter-widgets/controls",
      "model_module_version": "1.5.0",
      "model_name": "DescriptionStyleModel",
      "state": {
       "description_width": ""
      }
     },
     "ddb6f746b38541cd8eab5ad356adaf1d": {
      "model_module": "@jupyter-widgets/controls",
      "model_module_version": "1.5.0",
      "model_name": "HTMLModel",
      "state": {
       "layout": "IPY_MODEL_716f9eb16edc482c9b6904460a99abc8",
       "style": "IPY_MODEL_34f48d8e2540445b86b4251123135838",
       "value": "ibmq_casablanca"
      }
     },
     "dde8f0a82cee4bcb8e3fff4c0e390a8c": {
      "model_module": "@jupyter-widgets/controls",
      "model_module_version": "1.5.0",
      "model_name": "ButtonModel",
      "state": {
       "icon": "close",
       "layout": "IPY_MODEL_74960629ce474949a25ada078874e37a",
       "style": "IPY_MODEL_280d5e1087cd4811899c52870ec3630b"
      }
     },
     "df168a7fc1754ac9abd5d172b6f11fe1": {
      "model_module": "@jupyter-widgets/base",
      "model_module_version": "1.2.0",
      "model_name": "LayoutModel",
      "state": {
       "margin": "0px 5px 0px 0px",
       "width": "32px"
      }
     },
     "df274b235fd14f25b78eeb01669b3234": {
      "model_module": "@jupyter-widgets/base",
      "model_module_version": "1.2.0",
      "model_name": "LayoutModel",
      "state": {
       "overflow_x": "scroll"
      }
     },
     "df706202188246f7909497ce3fa4ac39": {
      "model_module": "@jupyter-widgets/base",
      "model_module_version": "1.2.0",
      "model_name": "LayoutModel",
      "state": {
       "width": "190px"
      }
     },
     "df7f256af5944878b042aea4b8cd8753": {
      "model_module": "@jupyter-widgets/base",
      "model_module_version": "1.2.0",
      "model_name": "LayoutModel",
      "state": {
       "width": "95px"
      }
     },
     "dfb2b533f5d34bc385dec90415ef555d": {
      "model_module": "@jupyter-widgets/controls",
      "model_module_version": "1.5.0",
      "model_name": "ButtonModel",
      "state": {
       "button_style": "primary",
       "description": "Clear",
       "layout": "IPY_MODEL_81e3e829f8a64d0a86944b6c4b5c3e69",
       "style": "IPY_MODEL_33cf0944d4a445cabc52667c7ac7193f"
      }
     },
     "e1bcfe3519594131a7abda76199e0afe": {
      "model_module": "@jupyter-widgets/controls",
      "model_module_version": "1.5.0",
      "model_name": "DescriptionStyleModel",
      "state": {
       "description_width": ""
      }
     },
     "e2c99a674c874536b4edf5831a7eb659": {
      "model_module": "@jupyter-widgets/controls",
      "model_module_version": "1.5.0",
      "model_name": "DescriptionStyleModel",
      "state": {
       "description_width": ""
      }
     },
     "e36ea56337354a0f86cbc77d97132d24": {
      "model_module": "@jupyter-widgets/controls",
      "model_module_version": "1.5.0",
      "model_name": "ButtonStyleModel",
      "state": {
       "button_color": "white"
      }
     },
     "e44c615d08b94684839f07e9170d8ddd": {
      "model_module": "@jupyter-widgets/controls",
      "model_module_version": "1.5.0",
      "model_name": "HBoxModel",
      "state": {
       "children": [
        "IPY_MODEL_4929078bb2f740cfadd033c53e26a97e",
        "IPY_MODEL_b1bb206c63884a0cae7e250a53d5e66e",
        "IPY_MODEL_b351d25aa2c24a0ca4d413203a697900",
        "IPY_MODEL_90ee67e0773c45d08cd4ba98459f1a4e",
        "IPY_MODEL_9e06d9f57b40418d9a567d05e2bda127",
        "IPY_MODEL_47773dc84c914c5a9faf8a054a8cc536"
       ],
       "layout": "IPY_MODEL_68fa25b5d30947b7a8fbcf63caf55d35"
      }
     },
     "e4b80590c30f4a2d940166a0a27180b9": {
      "model_module": "@jupyter-widgets/controls",
      "model_module_version": "1.5.0",
      "model_name": "ButtonStyleModel",
      "state": {
       "button_color": "white"
      }
     },
     "e516ec474cf747a68bbc6cbe421cf82f": {
      "model_module": "@jupyter-widgets/controls",
      "model_module_version": "1.5.0",
      "model_name": "ButtonModel",
      "state": {
       "icon": "close",
       "layout": "IPY_MODEL_d850fa61f7784d91abb1d14536362684",
       "style": "IPY_MODEL_748c80f7a6194fb5ab804f5f8ea563c1"
      }
     },
     "e5cf1f5197aa483ebfb5cb3a879d8abd": {
      "model_module": "@jupyter-widgets/controls",
      "model_module_version": "1.5.0",
      "model_name": "HTMLModel",
      "state": {
       "layout": "IPY_MODEL_748b1965e144400f9791231ded65f286",
       "style": "IPY_MODEL_d4b3c18680ed4a08bd9d1f35fbbb5be2",
       "value": "-"
      }
     },
     "e66c33e8a3b6423ba82af5bd85f6042a": {
      "model_module": "@jupyter-widgets/controls",
      "model_module_version": "1.5.0",
      "model_name": "DescriptionStyleModel",
      "state": {
       "description_width": ""
      }
     },
     "e6e100f6e2634c058e22e1f0e657ba80": {
      "model_module": "@jupyter-widgets/base",
      "model_module_version": "1.2.0",
      "model_name": "LayoutModel",
      "state": {
       "overflow_x": "scroll"
      }
     },
     "e6fcd8760e91495aa6fec7ccb2648da3": {
      "model_module": "@jupyter-widgets/base",
      "model_module_version": "1.2.0",
      "model_name": "LayoutModel",
      "state": {
       "width": "190px"
      }
     },
     "e75fa3b5b573412c87cd3f28985514b2": {
      "model_module": "@jupyter-widgets/controls",
      "model_module_version": "1.5.0",
      "model_name": "DescriptionStyleModel",
      "state": {
       "description_width": ""
      }
     },
     "e80347076f2e410db9879a01a1f53d7e": {
      "model_module": "@jupyter-widgets/controls",
      "model_module_version": "1.5.0",
      "model_name": "DescriptionStyleModel",
      "state": {
       "description_width": ""
      }
     },
     "e814adef5e444f4388285060eb095a12": {
      "model_module": "@jupyter-widgets/controls",
      "model_module_version": "1.5.0",
      "model_name": "HTMLModel",
      "state": {
       "layout": "IPY_MODEL_8bcb6c08e6be4b70b49f54ce021abca2",
       "style": "IPY_MODEL_a47455307d9e4aaa850c3cc207a231d9",
       "value": "61a10a0c83753d0d0e27ba83"
      }
     },
     "e87180b73cd9481cbdabcd91fc435168": {
      "model_module": "@jupyter-widgets/base",
      "model_module_version": "1.2.0",
      "model_name": "LayoutModel",
      "state": {
       "overflow_x": "scroll"
      }
     },
     "e90a9d683a2d4a15986f67db76114f79": {
      "model_module": "@jupyter-widgets/controls",
      "model_module_version": "1.5.0",
      "model_name": "HTMLModel",
      "state": {
       "layout": "IPY_MODEL_435838760d1d4ebeac718cace43e6135",
       "style": "IPY_MODEL_7d0c0dc04eca47888019931b8d346a7b",
       "value": "ibmq_casablanca"
      }
     },
     "e91ee9d5bfcd48b3a251bcb4a654897b": {
      "model_module": "@jupyter-widgets/base",
      "model_module_version": "1.2.0",
      "model_name": "LayoutModel",
      "state": {
       "overflow_x": "scroll"
      }
     },
     "e97b948169be4ac18dc0ac086decf574": {
      "model_module": "@jupyter-widgets/base",
      "model_module_version": "1.2.0",
      "model_name": "LayoutModel",
      "state": {
       "overflow_x": "scroll"
      }
     },
     "e9e29b673c3b45f7b36673ef09499478": {
      "model_module": "@jupyter-widgets/base",
      "model_module_version": "1.2.0",
      "model_name": "LayoutModel",
      "state": {
       "width": "95px"
      }
     },
     "ea6d46b7df4c491b833b2803c7b5a223": {
      "model_module": "@jupyter-widgets/controls",
      "model_module_version": "1.5.0",
      "model_name": "ButtonStyleModel",
      "state": {
       "button_color": "white"
      }
     },
     "ea852d0c7ca0448c8cf17b0c807bfee8": {
      "model_module": "@jupyter-widgets/base",
      "model_module_version": "1.2.0",
      "model_name": "LayoutModel",
      "state": {
       "width": "95px"
      }
     },
     "eb36f0734efc4c90a7d69320cb296dfb": {
      "model_module": "@jupyter-widgets/base",
      "model_module_version": "1.2.0",
      "model_name": "LayoutModel",
      "state": {
       "overflow_x": "scroll"
      }
     },
     "eb3cd9d4cfe5491b8ae93a6ab94c8a15": {
      "model_module": "@jupyter-widgets/controls",
      "model_module_version": "1.5.0",
      "model_name": "HTMLModel",
      "state": {
       "layout": "IPY_MODEL_83f7a3b842254a73a83638bd0f3194d6",
       "style": "IPY_MODEL_afb285e0b2be4a48b3b16cba6407ae9e",
       "value": "61a10645a6ac300943902fcb"
      }
     },
     "ecb9c42127a542d19c0263d946b3fb5b": {
      "model_module": "@jupyter-widgets/controls",
      "model_module_version": "1.5.0",
      "model_name": "HBoxModel",
      "state": {
       "children": [
        "IPY_MODEL_adb29776f1b844e0a7fec1301e2f663b",
        "IPY_MODEL_e814adef5e444f4388285060eb095a12",
        "IPY_MODEL_86674459381748979306186d63b80941",
        "IPY_MODEL_55ecdb067e8d42e4a9e295d5a464ca27",
        "IPY_MODEL_7552bb8f157544f9bbfea53614d2401f",
        "IPY_MODEL_7a0b537136a44c8c97462c0f31bec1f3"
       ],
       "layout": "IPY_MODEL_53412f6182574d8bb90df0065f2f2ded"
      }
     },
     "ecc08d503ea14322a0565ac3fcb14fc1": {
      "model_module": "@jupyter-widgets/controls",
      "model_module_version": "1.5.0",
      "model_name": "HBoxModel",
      "state": {
       "children": [
        "IPY_MODEL_2ec1aef1baaf4e21881d4673dc30fef6",
        "IPY_MODEL_8c0f877a9f5545448374a75bce6a6b95",
        "IPY_MODEL_9250afe231e2433bbb27b5c49706e095",
        "IPY_MODEL_508d904f359044398a0182b56ff5c8ce",
        "IPY_MODEL_db4e4ad1ab3e4617846404e59fd5b666",
        "IPY_MODEL_f043955b209042978bac9c53058935dc"
       ],
       "layout": "IPY_MODEL_4ff47e69c988491e9e521e453771ab5f"
      }
     },
     "ee347ce120dc4bf29ab238ccbc0a16f2": {
      "model_module": "@jupyter-widgets/controls",
      "model_module_version": "1.5.0",
      "model_name": "DescriptionStyleModel",
      "state": {
       "description_width": ""
      }
     },
     "ee4f4085af85431290c25eb92d91bcf8": {
      "model_module": "@jupyter-widgets/controls",
      "model_module_version": "1.5.0",
      "model_name": "DescriptionStyleModel",
      "state": {
       "description_width": ""
      }
     },
     "ee6c1fd08eac4d31a340ce5d5b9c8a42": {
      "model_module": "@jupyter-widgets/controls",
      "model_module_version": "1.5.0",
      "model_name": "DescriptionStyleModel",
      "state": {
       "description_width": ""
      }
     },
     "ee7b2393ca34470d92ea52182d28a3fc": {
      "model_module": "@jupyter-widgets/controls",
      "model_module_version": "1.5.0",
      "model_name": "HTMLModel",
      "state": {
       "layout": "IPY_MODEL_746889ab20d84ff3925161bb28fb5307",
       "style": "IPY_MODEL_30c66c9d39a84a048a530654f0cfb527",
       "value": "61a11b16e76c00bf50fa32ed"
      }
     },
     "ee85a30726a948a3933715d073d3d908": {
      "model_module": "@jupyter-widgets/base",
      "model_module_version": "1.2.0",
      "model_name": "LayoutModel",
      "state": {
       "overflow_x": "scroll"
      }
     },
     "ef43807b48f94bceb2cf6f74305eefb1": {
      "model_module": "@jupyter-widgets/controls",
      "model_module_version": "1.5.0",
      "model_name": "DescriptionStyleModel",
      "state": {
       "description_width": ""
      }
     },
     "f043955b209042978bac9c53058935dc": {
      "model_module": "@jupyter-widgets/controls",
      "model_module_version": "1.5.0",
      "model_name": "HTMLModel",
      "state": {
       "layout": "IPY_MODEL_e97b948169be4ac18dc0ac086decf574",
       "style": "IPY_MODEL_8930393d34f44ecc9b0a0787c4766714",
       "value": "job has successfully run"
      }
     },
     "f05c3a97fcdf4b3e932140c2545f76f6": {
      "model_module": "@jupyter-widgets/controls",
      "model_module_version": "1.5.0",
      "model_name": "HTMLModel",
      "state": {
       "layout": "IPY_MODEL_a443d19bdb9840e78122848c40ef98f5",
       "style": "IPY_MODEL_d68b6c2d8c614cf29d161702b313b06b",
       "value": "61a12e5e6a16f9616a87171d"
      }
     },
     "f24f30adab084672b3c1f9713567dcd9": {
      "model_module": "@jupyter-widgets/controls",
      "model_module_version": "1.5.0",
      "model_name": "DescriptionStyleModel",
      "state": {
       "description_width": ""
      }
     },
     "f27b5ccf92f84c5483b1ca4c4a530430": {
      "model_module": "@jupyter-widgets/controls",
      "model_module_version": "1.5.0",
      "model_name": "DescriptionStyleModel",
      "state": {
       "description_width": ""
      }
     },
     "f31de08c73ae44f4876a99e66ebf51cc": {
      "model_module": "@jupyter-widgets/controls",
      "model_module_version": "1.5.0",
      "model_name": "HTMLModel",
      "state": {
       "layout": "IPY_MODEL_d7b763265bf24f7db357c35fd540c8cc",
       "style": "IPY_MODEL_495a7db946c04d4dac1d7cfd7d69ea61",
       "value": "job has successfully run"
      }
     },
     "f3303804002544f9b53c7f44fe6d5ee0": {
      "model_module": "@jupyter-widgets/base",
      "model_module_version": "1.2.0",
      "model_name": "LayoutModel",
      "state": {
       "width": "145px"
      }
     },
     "f33366e89c354994be43387038a09636": {
      "model_module": "@jupyter-widgets/controls",
      "model_module_version": "1.5.0",
      "model_name": "HTMLModel",
      "state": {
       "layout": "IPY_MODEL_afa6d9dfb9254b5cb77e5d5d9ceee9c3",
       "style": "IPY_MODEL_679d47b7746142efad97748a463bb21d",
       "value": "<font style='color:#34BC6E'>DONE</font>"
      }
     },
     "f383447de43d4580833e8dcc4ca07374": {
      "model_module": "@jupyter-widgets/base",
      "model_module_version": "1.2.0",
      "model_name": "LayoutModel",
      "state": {
       "width": "70px"
      }
     },
     "f3f18f6709214427b60bc35c39cdbcf3": {
      "model_module": "@jupyter-widgets/base",
      "model_module_version": "1.2.0",
      "model_name": "LayoutModel",
      "state": {
       "max_width": "700px",
       "min_width": "700px"
      }
     },
     "f45407239e304fec8b728716e756631f": {
      "model_module": "@jupyter-widgets/controls",
      "model_module_version": "1.5.0",
      "model_name": "DescriptionStyleModel",
      "state": {
       "description_width": ""
      }
     },
     "f48ba1a5e6034e8daaa4c9e58300dc27": {
      "model_module": "@jupyter-widgets/controls",
      "model_module_version": "1.5.0",
      "model_name": "DescriptionStyleModel",
      "state": {
       "description_width": ""
      }
     },
     "f4c23014ec784ce3a65e036a2fcdf1b7": {
      "model_module": "@jupyter-widgets/controls",
      "model_module_version": "1.5.0",
      "model_name": "HTMLModel",
      "state": {
       "layout": "IPY_MODEL_91601bcce18f4e67b9db862098e849f1",
       "style": "IPY_MODEL_c860877de5f645939dfd50790d400ed6",
       "value": "<font style='color:#34BC6E'>DONE</font>"
      }
     },
     "f4e160570173436a8b3bb00f0b3ddc54": {
      "model_module": "@jupyter-widgets/controls",
      "model_module_version": "1.5.0",
      "model_name": "HTMLModel",
      "state": {
       "layout": "IPY_MODEL_05da5f80e9cb4c9cb398aabc70c21bd3",
       "style": "IPY_MODEL_ef43807b48f94bceb2cf6f74305eefb1",
       "value": "-"
      }
     },
     "f50779e16c404d45b1b65aba56fa52cd": {
      "model_module": "@jupyter-widgets/controls",
      "model_module_version": "1.5.0",
      "model_name": "DescriptionStyleModel",
      "state": {
       "description_width": ""
      }
     },
     "f5677ea530dd4f4980594258d6dfcd1b": {
      "model_module": "@jupyter-widgets/controls",
      "model_module_version": "1.5.0",
      "model_name": "DescriptionStyleModel",
      "state": {
       "description_width": ""
      }
     },
     "f5a656c99b944e16a40d4a544c58d03d": {
      "model_module": "@jupyter-widgets/controls",
      "model_module_version": "1.5.0",
      "model_name": "HTMLModel",
      "state": {
       "layout": "IPY_MODEL_3801693874ad49238483327ee0f5c164",
       "style": "IPY_MODEL_9fabcd96764e4d8bb927367a6ad2b4e0",
       "value": "ibmq_casablanca"
      }
     },
     "f6897318243c4330850bf0ec7c49e7c6": {
      "model_module": "@jupyter-widgets/controls",
      "model_module_version": "1.5.0",
      "model_name": "HTMLModel",
      "state": {
       "layout": "IPY_MODEL_8cc31cae9c904e99824e2ea7c2b5f908",
       "style": "IPY_MODEL_867db52c84c9470b9148532cc5490d5a",
       "value": "ibmq_casablanca"
      }
     },
     "f6be3139b0844336ae5d620fa56a086d": {
      "model_module": "@jupyter-widgets/controls",
      "model_module_version": "1.5.0",
      "model_name": "HTMLModel",
      "state": {
       "layout": "IPY_MODEL_1d99c25c6a984816a1d18a94321754b6",
       "style": "IPY_MODEL_bf3174de1bd740be9257aceeb23fd99f",
       "value": "job has successfully run"
      }
     },
     "f70e19e2c5bc47e7a23f7685bd1c2af3": {
      "model_module": "@jupyter-widgets/base",
      "model_module_version": "1.2.0",
      "model_name": "LayoutModel",
      "state": {
       "width": "190px"
      }
     },
     "f7682a2749e041e488dfd05c15bc188a": {
      "model_module": "@jupyter-widgets/base",
      "model_module_version": "1.2.0",
      "model_name": "LayoutModel",
      "state": {
       "width": "145px"
      }
     },
     "f792b7a16e2944588757376b3e90b4e7": {
      "model_module": "@jupyter-widgets/base",
      "model_module_version": "1.2.0",
      "model_name": "LayoutModel",
      "state": {
       "overflow_x": "scroll"
      }
     },
     "f7af49f664ec42bd9cd26bc50a52f20e": {
      "model_module": "@jupyter-widgets/base",
      "model_module_version": "1.2.0",
      "model_name": "LayoutModel",
      "state": {
       "margin": "0px 5px 0px 0px",
       "width": "32px"
      }
     },
     "f7dc23dc65894953bf806ce5e5465a63": {
      "model_module": "@jupyter-widgets/base",
      "model_module_version": "1.2.0",
      "model_name": "LayoutModel",
      "state": {
       "width": "95px"
      }
     },
     "f7e534741a634c3b84923bee91126224": {
      "model_module": "@jupyter-widgets/controls",
      "model_module_version": "1.5.0",
      "model_name": "HTMLModel",
      "state": {
       "layout": "IPY_MODEL_776009a72c194d479e3eba43c51e8022",
       "style": "IPY_MODEL_b13c439e376143739b3b62d1695e1474",
       "value": "<font style='color:#34BC6E'>DONE</font>"
      }
     },
     "f7f0ef7455d8433ba47a400fab8773dd": {
      "model_module": "@jupyter-widgets/controls",
      "model_module_version": "1.5.0",
      "model_name": "HBoxModel",
      "state": {
       "children": [
        "IPY_MODEL_b972c04e71ba4ff1b1fa1a4463759bb7",
        "IPY_MODEL_d775c83e7a5e4e508cda86fb6d28a740",
        "IPY_MODEL_58468697d6eb4dc3820989bd24d2f00f",
        "IPY_MODEL_58bad0130e4f448fa78f29e3950bf4a1",
        "IPY_MODEL_157eebddd07d4e1fae6a3cd8aee158b1",
        "IPY_MODEL_273979fbf6a9435f83bf95e8d349dde8"
       ],
       "layout": "IPY_MODEL_3e5ed051e743415d9e20c7a67aa4d3e3"
      }
     },
     "f844be8569f9468ca61b409eef0bea47": {
      "model_module": "@jupyter-widgets/controls",
      "model_module_version": "1.5.0",
      "model_name": "HTMLModel",
      "state": {
       "layout": "IPY_MODEL_299ab34ac9be402691aaebe9c45c1833",
       "style": "IPY_MODEL_05b3c3eafc4845f983e905c431aef5ea",
       "value": "job has successfully run"
      }
     },
     "f9b8d5ed2d82451cb4f81afb86a23c65": {
      "model_module": "@jupyter-widgets/controls",
      "model_module_version": "1.5.0",
      "model_name": "DescriptionStyleModel",
      "state": {
       "description_width": ""
      }
     },
     "f9f53e4891dc45d2aef94ecf92f45e6b": {
      "model_module": "@jupyter-widgets/controls",
      "model_module_version": "1.5.0",
      "model_name": "HTMLModel",
      "state": {
       "layout": "IPY_MODEL_0406861503994051b50e07061793b41d",
       "style": "IPY_MODEL_324afa3176124e818ec428b9155ea279",
       "value": "-"
      }
     },
     "fa1d75a73ead4a9dbca1fb19141ecbfa": {
      "model_module": "@jupyter-widgets/controls",
      "model_module_version": "1.5.0",
      "model_name": "ButtonModel",
      "state": {
       "icon": "close",
       "layout": "IPY_MODEL_27ae7da2097548eb97999d758ffb188b",
       "style": "IPY_MODEL_2ce5cc494cc54315806f8df620cd6241"
      }
     },
     "fa5d45ce8d154f1388789e27b0ec5d4d": {
      "model_module": "@jupyter-widgets/controls",
      "model_module_version": "1.5.0",
      "model_name": "DescriptionStyleModel",
      "state": {
       "description_width": ""
      }
     },
     "fb29a0565cda48838c95a87df93e6705": {
      "model_module": "@jupyter-widgets/controls",
      "model_module_version": "1.5.0",
      "model_name": "ButtonModel",
      "state": {
       "icon": "close",
       "layout": "IPY_MODEL_1b591a2b173f44f08d40fbeecb25fadc",
       "style": "IPY_MODEL_b2490b39b67e4cf98687b361350078e6"
      }
     },
     "fb4af920e80648beafb1905c122a7204": {
      "model_module": "@jupyter-widgets/controls",
      "model_module_version": "1.5.0",
      "model_name": "HTMLModel",
      "state": {
       "layout": "IPY_MODEL_ab42c0dd996d469785a9da6736be4ac2",
       "style": "IPY_MODEL_cb4ccd0b72d7417f8c586b051e485e35",
       "value": "<font style='color:#34BC6E'>DONE</font>"
      }
     },
     "fb4ef0e0cbee4f488a79feb52258ead8": {
      "model_module": "@jupyter-widgets/base",
      "model_module_version": "1.2.0",
      "model_name": "LayoutModel",
      "state": {
       "margin": "0px 5px 0px 0px",
       "width": "32px"
      }
     },
     "fb5c3190e1624f718ca49ba7015fb5b8": {
      "model_module": "@jupyter-widgets/base",
      "model_module_version": "1.2.0",
      "model_name": "LayoutModel",
      "state": {
       "width": "70px"
      }
     },
     "fbb7f47cb92746deb1a848e0f4d23b56": {
      "model_module": "@jupyter-widgets/controls",
      "model_module_version": "1.5.0",
      "model_name": "ButtonStyleModel",
      "state": {
       "button_color": "white"
      }
     },
     "fc2b16c975e84f94b331df0dadcfe02f": {
      "model_module": "@jupyter-widgets/controls",
      "model_module_version": "1.5.0",
      "model_name": "HTMLModel",
      "state": {
       "layout": "IPY_MODEL_15cb8af4b2bf478b823c353582379e9b",
       "style": "IPY_MODEL_adc0fbe70fd349ff9b99990df1c3d93f",
       "value": "ibmq_casablanca"
      }
     },
     "fc881e962eb742de9b871b8699419503": {
      "model_module": "@jupyter-widgets/base",
      "model_module_version": "1.2.0",
      "model_name": "LayoutModel",
      "state": {
       "overflow_x": "scroll"
      }
     },
     "fcaf1e3b48b946619f4c00f702bbb354": {
      "model_module": "@jupyter-widgets/controls",
      "model_module_version": "1.5.0",
      "model_name": "ButtonModel",
      "state": {
       "icon": "close",
       "layout": "IPY_MODEL_a991a8350d5a400eaf53b16a9469966a",
       "style": "IPY_MODEL_be66f769f830437f8a0dd6c9f5e0f93d"
      }
     },
     "fcf732cca80f46b9adf1cf828cdd73f5": {
      "model_module": "@jupyter-widgets/base",
      "model_module_version": "1.2.0",
      "model_name": "LayoutModel",
      "state": {
       "width": "95px"
      }
     },
     "fd8074894b0547f6b0db87e645eb2af0": {
      "model_module": "@jupyter-widgets/controls",
      "model_module_version": "1.5.0",
      "model_name": "ButtonStyleModel",
      "state": {
       "button_color": "white"
      }
     },
     "fd99f4dd9c0f43d3a652fae122449ac7": {
      "model_module": "@jupyter-widgets/controls",
      "model_module_version": "1.5.0",
      "model_name": "ButtonModel",
      "state": {
       "icon": "close",
       "layout": "IPY_MODEL_4a37b816fc0f4a9b91b488102fceead4",
       "style": "IPY_MODEL_7a5a713944ce46dc8f70cd11c9adbb6b"
      }
     },
     "fdf1b5dd62db4331a5975d37603e63d9": {
      "model_module": "@jupyter-widgets/base",
      "model_module_version": "1.2.0",
      "model_name": "LayoutModel",
      "state": {
       "width": "190px"
      }
     },
     "fe87c97f0d374e3681b59d95308dabc2": {
      "model_module": "@jupyter-widgets/controls",
      "model_module_version": "1.5.0",
      "model_name": "DescriptionStyleModel",
      "state": {
       "description_width": ""
      }
     },
     "fec34038360445faa6e662c34c401aa3": {
      "model_module": "@jupyter-widgets/controls",
      "model_module_version": "1.5.0",
      "model_name": "HTMLModel",
      "state": {
       "layout": "IPY_MODEL_69c181677bd04e02bf9a87fe5c800ab0",
       "style": "IPY_MODEL_1e487ee814574cd9b92b26906b76ec79",
       "value": "ibmq_casablanca"
      }
     },
     "ff178b4953b84a76abe619974900786c": {
      "model_module": "@jupyter-widgets/controls",
      "model_module_version": "1.5.0",
      "model_name": "HTMLModel",
      "state": {
       "layout": "IPY_MODEL_8ce7a764984245958be3df31619596ea",
       "style": "IPY_MODEL_a8d64f44aca94012bdb19f933213d9ca",
       "value": "<font style='color:#34BC6E'>DONE</font>"
      }
     },
     "ff99633da9784e5cadc7cf4c6ccc6b96": {
      "model_module": "@jupyter-widgets/base",
      "model_module_version": "1.2.0",
      "model_name": "LayoutModel",
      "state": {
       "max_width": "700px",
       "min_width": "700px"
      }
     }
    },
    "version_major": 2,
    "version_minor": 0
   }
  }
 },
 "nbformat": 4,
 "nbformat_minor": 5
}
